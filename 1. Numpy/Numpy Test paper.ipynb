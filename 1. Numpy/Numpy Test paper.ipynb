{
 "cells": [
  {
   "cell_type": "markdown",
   "id": "cf4e574d",
   "metadata": {},
   "source": [
    "# Numpy TEST"
   ]
  },
  {
   "cell_type": "markdown",
   "id": "0e7cc043",
   "metadata": {},
   "source": [
    "1.Explain the difference between copy and view in NumPy arrays.\n"
   ]
  },
  {
   "cell_type": "markdown",
   "id": "6a6b9eec",
   "metadata": {},
   "source": [
    "* Shallow copy creates a new array, but any modifications made to it will affect the original array as well since they share the same data.\n",
    "* Deep copy creates a completely independent array with its own data; changes in one do not affect the other."
   ]
  },
  {
   "cell_type": "code",
   "execution_count": 2,
   "id": "58aa1514",
   "metadata": {},
   "outputs": [],
   "source": [
    "import numpy as np\n",
    "a = np.array([1, 2, 3])\n",
    "# shallow copy\n",
    "shallow_copy = a.view()  \n",
    "# deep copy\n",
    "deep_copy = a.copy()     "
   ]
  },
  {
   "cell_type": "code",
   "execution_count": 5,
   "id": "828559bb",
   "metadata": {},
   "outputs": [
    {
     "data": {
      "text/plain": [
       "array([1, 2, 3])"
      ]
     },
     "execution_count": 5,
     "metadata": {},
     "output_type": "execute_result"
    }
   ],
   "source": [
    "shallow_copy.base"
   ]
  },
  {
   "cell_type": "code",
   "execution_count": 7,
   "id": "873668b2",
   "metadata": {},
   "outputs": [
    {
     "name": "stdout",
     "output_type": "stream",
     "text": [
      "None\n"
     ]
    }
   ],
   "source": [
    "print(deep_copy.base)"
   ]
  },
  {
   "cell_type": "markdown",
   "id": "8ca557d1",
   "metadata": {},
   "source": [
    "2.\tExplain the difference between array and list?\n"
   ]
  },
  {
   "cell_type": "markdown",
   "id": "d5e103ce",
   "metadata": {},
   "source": [
    "* List is heterogenouse data structure and values stored in different locations .\n",
    "* While in array it is homogeneouse data structure and and contiguous memory location.\n",
    "* Array support elementwise operations so it make array more faster than list"
   ]
  },
  {
   "cell_type": "markdown",
   "id": "cd5261e4",
   "metadata": {},
   "source": [
    "3.\tGiven an array a = np.array([10, 20, 30]), how do you square every element in the array?\n"
   ]
  },
  {
   "cell_type": "code",
   "execution_count": 8,
   "id": "c7a19ae7",
   "metadata": {},
   "outputs": [
    {
     "name": "stdout",
     "output_type": "stream",
     "text": [
      "[100 400 900]\n"
     ]
    }
   ],
   "source": [
    "a = np.array([10, 20, 30])\n",
    "a_squared = np.square(a)\n",
    "print(a_squared) \n"
   ]
  },
  {
   "cell_type": "markdown",
   "id": "c1fc25a6",
   "metadata": {},
   "source": [
    "4.\tHow do you create an array of zeros with shape (3, 4)?\n"
   ]
  },
  {
   "cell_type": "code",
   "execution_count": 11,
   "id": "129a130c",
   "metadata": {},
   "outputs": [
    {
     "data": {
      "text/plain": [
       "array([[0., 0., 0., 0.],\n",
       "       [0., 0., 0., 0.],\n",
       "       [0., 0., 0., 0.]])"
      ]
     },
     "execution_count": 11,
     "metadata": {},
     "output_type": "execute_result"
    }
   ],
   "source": [
    "zero=np.zeros((3,4))\n",
    "zero"
   ]
  },
  {
   "cell_type": "markdown",
   "id": "97a53dce",
   "metadata": {},
   "source": [
    "5.\tGiven the 1D array a = np.array([1, 2, 3, 4, 5]), how do you calculate the cumulative sum of the elements?\n"
   ]
  },
  {
   "cell_type": "code",
   "execution_count": 12,
   "id": "915a7049",
   "metadata": {},
   "outputs": [
    {
     "name": "stdout",
     "output_type": "stream",
     "text": [
      "[ 1  3  6 10 15]\n"
     ]
    }
   ],
   "source": [
    "a = np.array([1, 2, 3, 4, 5])\n",
    "cumulative_sum = np.cumsum(a)\n",
    "print(cumulative_sum)  \n"
   ]
  },
  {
   "cell_type": "markdown",
   "id": "211e6388",
   "metadata": {},
   "source": [
    "6.\tHow do you reverse the elements in a NumPy array a = np.array([1, 2, 3, 4, 5])?\n"
   ]
  },
  {
   "cell_type": "code",
   "execution_count": 13,
   "id": "5abe4a6d",
   "metadata": {},
   "outputs": [
    {
     "name": "stdout",
     "output_type": "stream",
     "text": [
      "[5 4 3 2 1]\n"
     ]
    }
   ],
   "source": [
    "a = np.array([1, 2, 3, 4, 5])\n",
    "reversed_a = a[::-1]\n",
    "print(reversed_a)  \n"
   ]
  },
  {
   "cell_type": "markdown",
   "id": "76bd7add",
   "metadata": {},
   "source": [
    "7.\tHow do you find the indices of elements that are greater than 4 in the array a = np.array([1, 2, 3, 4, 5, 6, 7])?\n"
   ]
  },
  {
   "cell_type": "code",
   "execution_count": 14,
   "id": "5241dcc6",
   "metadata": {},
   "outputs": [
    {
     "name": "stdout",
     "output_type": "stream",
     "text": [
      "(array([4, 5, 6], dtype=int64),)\n"
     ]
    }
   ],
   "source": [
    "a = np.array([1, 2, 3, 4, 5, 6, 7])\n",
    "indices = np.where(a > 4)\n",
    "print(indices) \n"
   ]
  },
  {
   "cell_type": "markdown",
   "id": "d3e06382",
   "metadata": {},
   "source": [
    "8.\tHow do you create a 2D array with random floating-point numbers between 0 and 1 of shape (3, 3)?\n"
   ]
  },
  {
   "cell_type": "code",
   "execution_count": 15,
   "id": "762dcb32",
   "metadata": {},
   "outputs": [
    {
     "name": "stdout",
     "output_type": "stream",
     "text": [
      "[[0.05332115 0.14369315 0.12018463]\n",
      " [0.60166653 0.64101094 0.04658378]\n",
      " [0.28906137 0.45949627 0.83737834]]\n"
     ]
    }
   ],
   "source": [
    "random_array = np.random.rand(3, 3)\n",
    "print(random_array)"
   ]
  },
  {
   "cell_type": "markdown",
   "id": "18854fa4",
   "metadata": {},
   "source": [
    "9.\tExtract the elements at indices [0, 2, 4] from the array a = np.array([10, 20, 30, 40, 50]).\n"
   ]
  },
  {
   "cell_type": "code",
   "execution_count": 19,
   "id": "309177c7",
   "metadata": {},
   "outputs": [
    {
     "data": {
      "text/plain": [
       "array([10, 30, 50])"
      ]
     },
     "execution_count": 19,
     "metadata": {},
     "output_type": "execute_result"
    }
   ],
   "source": [
    "a = np.array([10, 20, 30, 40, 50])\n",
    "a[[0,2,4]]"
   ]
  },
  {
   "cell_type": "markdown",
   "id": "7563a134",
   "metadata": {},
   "source": [
    "10.\tGiven the array a = np.array([10, 20, 30, 40]), how do you normalize the array so that its values are between 0 and 1?\n"
   ]
  },
  {
   "cell_type": "code",
   "execution_count": 17,
   "id": "d656a7f8",
   "metadata": {},
   "outputs": [
    {
     "name": "stdout",
     "output_type": "stream",
     "text": [
      "[0.         0.33333333 0.66666667 1.        ]\n"
     ]
    }
   ],
   "source": [
    "a = np.array([10, 20, 30, 40])\n",
    "normalized_a = (a - a.min()) / (a.max() - a.min())\n",
    "print(normalized_a)  \n"
   ]
  },
  {
   "cell_type": "code",
   "execution_count": null,
   "id": "c98ffb95",
   "metadata": {},
   "outputs": [],
   "source": []
  },
  {
   "cell_type": "markdown",
   "id": "dd306322",
   "metadata": {},
   "source": [
    "11.\tHow do you concatenate two arrays a = np.array([1, 2, 3]) and b = np.array([4, 5, 6]) along the first axis?\n"
   ]
  },
  {
   "cell_type": "code",
   "execution_count": 20,
   "id": "9f01ee44",
   "metadata": {},
   "outputs": [
    {
     "name": "stdout",
     "output_type": "stream",
     "text": [
      "[1 2 3 4 5 6]\n"
     ]
    }
   ],
   "source": [
    "a = np.array([1, 2, 3])\n",
    "b = np.array([4, 5, 6])\n",
    "concatenated = np.concatenate((a, b), axis=0)\n",
    "print(concatenated)  "
   ]
  },
  {
   "cell_type": "markdown",
   "id": "5b10f768",
   "metadata": {},
   "source": [
    "12.\tHow do you find the dot product of two arrays a = np.array([1, 2, 3]) and b = np.array([4, 5, 6])?\n"
   ]
  },
  {
   "cell_type": "code",
   "execution_count": 21,
   "id": "793b8484",
   "metadata": {},
   "outputs": [
    {
     "name": "stdout",
     "output_type": "stream",
     "text": [
      "32\n"
     ]
    }
   ],
   "source": [
    "a = np.array([1, 2, 3])\n",
    "b = np.array([4, 5, 6])\n",
    "dot_product = np.dot(a, b)\n",
    "print(dot_product)  \n"
   ]
  },
  {
   "cell_type": "markdown",
   "id": "8729c758",
   "metadata": {},
   "source": [
    "13.\tHow do you create an identity matrix of size 4x4?\n"
   ]
  },
  {
   "cell_type": "code",
   "execution_count": 23,
   "id": "539503cf",
   "metadata": {},
   "outputs": [
    {
     "data": {
      "text/plain": [
       "array([[1., 0., 0., 0.],\n",
       "       [0., 1., 0., 0.],\n",
       "       [0., 0., 1., 0.],\n",
       "       [0., 0., 0., 1.]])"
      ]
     },
     "execution_count": 23,
     "metadata": {},
     "output_type": "execute_result"
    }
   ],
   "source": [
    "identity_matrix=np.eye(4)\n",
    "identity_matrix"
   ]
  },
  {
   "cell_type": "markdown",
   "id": "78925361",
   "metadata": {},
   "source": [
    "14.\tHow do you generate an array with random integers between 1 and 100, of shape (4, 4)?\n"
   ]
  },
  {
   "cell_type": "code",
   "execution_count": 24,
   "id": "09a733cb",
   "metadata": {},
   "outputs": [
    {
     "name": "stdout",
     "output_type": "stream",
     "text": [
      "[[13  8 65 70]\n",
      " [43 42 13 52]\n",
      " [43 88 94 37]\n",
      " [23 96 97  7]]\n"
     ]
    }
   ],
   "source": [
    "random_int_array = np.random.randint(1, 101, size=(4, 4))\n",
    "print(random_int_array)\n"
   ]
  },
  {
   "cell_type": "markdown",
   "id": "12c7c6e2",
   "metadata": {},
   "source": [
    "15.\tHow do you split a NumPy array a = np.array([1, 2, 3, 4, 5, 6]) into three sub-arrays?\n"
   ]
  },
  {
   "cell_type": "code",
   "execution_count": 25,
   "id": "2477e061",
   "metadata": {},
   "outputs": [
    {
     "name": "stdout",
     "output_type": "stream",
     "text": [
      "[array([1, 2]), array([3, 4]), array([5, 6])]\n"
     ]
    }
   ],
   "source": [
    "a = np.array([1, 2, 3, 4, 5, 6])\n",
    "sub_arrays = np.array_split(a, 3)\n",
    "print(sub_arrays)"
   ]
  },
  {
   "cell_type": "markdown",
   "id": "2f9da8da",
   "metadata": {},
   "source": [
    "16.\tGiven the 2D array a = np.array([[1, 2, 3], [4, 5, 6], [7, 8, 9]]), how do you compute the sum of all elements along the second axis?\n"
   ]
  },
  {
   "cell_type": "code",
   "execution_count": 26,
   "id": "a4e1e7a1",
   "metadata": {},
   "outputs": [
    {
     "name": "stdout",
     "output_type": "stream",
     "text": [
      "[ 6 15 24]\n"
     ]
    }
   ],
   "source": [
    "a = np.array([[1, 2, 3], [4, 5, 6], [7, 8, 9]])\n",
    "sum_along_axis = np.sum(a, axis=1)\n",
    "print(sum_along_axis)  \n"
   ]
  },
  {
   "cell_type": "markdown",
   "id": "60ba3d16",
   "metadata": {},
   "source": [
    "17.\tHow do you compute the element-wise maximum of two arrays a = np.array([1, 2, 3]) and b = np.array([3, 2, 1])?\n"
   ]
  },
  {
   "cell_type": "code",
   "execution_count": 27,
   "id": "606dd0f4",
   "metadata": {},
   "outputs": [
    {
     "name": "stdout",
     "output_type": "stream",
     "text": [
      "[3 2 3]\n"
     ]
    }
   ],
   "source": [
    "a = np.array([1, 2, 3])\n",
    "b = np.array([3, 2, 1])\n",
    "elementwise_max = np.maximum(a, b)\n",
    "print(elementwise_max) \n"
   ]
  },
  {
   "cell_type": "markdown",
   "id": "293ce785",
   "metadata": {},
   "source": [
    "18.\tHow do you find the unique elements in the array a = np.array([1, 2, 2, 3, 3, 4, 5])?\n"
   ]
  },
  {
   "cell_type": "code",
   "execution_count": 28,
   "id": "a0b23692",
   "metadata": {},
   "outputs": [
    {
     "name": "stdout",
     "output_type": "stream",
     "text": [
      "[1 2 3 4 5]\n"
     ]
    }
   ],
   "source": [
    "a = np.array([1, 2, 2, 3, 3, 4, 5])\n",
    "unique_elements = np.unique(a)\n",
    "print(unique_elements)  \n"
   ]
  },
  {
   "cell_type": "markdown",
   "id": "45594899",
   "metadata": {},
   "source": [
    "19.\tHow do you use np.arange to create an array of values between 1 and 50 with a step of 3, and then filter the elements that are divisible by 5?\n"
   ]
  },
  {
   "cell_type": "code",
   "execution_count": 30,
   "id": "f9fd1740",
   "metadata": {},
   "outputs": [
    {
     "name": "stdout",
     "output_type": "stream",
     "text": [
      "[ 1  4  7 10 13 16 19 22 25 28 31 34 37 40 43 46 49]\n",
      "[10 25 40]\n"
     ]
    }
   ],
   "source": [
    "a = np.arange(1, 51, 3)\n",
    "print(a)\n",
    "divisible_by_5 = a[a % 5 == 0]\n",
    "print(divisible_by_5)  "
   ]
  },
  {
   "cell_type": "markdown",
   "id": "75c439fe",
   "metadata": {},
   "source": [
    "20.\tGiven the array a = np.array([1, 2, 3, 4, 5]) and b = np.array([6, 7, 8, 9, 10]), use np.where to replace elements in a that are less than 3 with -3, then  horizontally stack a and b.\n"
   ]
  },
  {
   "cell_type": "code",
   "execution_count": 32,
   "id": "f5fdc435",
   "metadata": {},
   "outputs": [
    {
     "name": "stdout",
     "output_type": "stream",
     "text": [
      "[-3 -3  3  4  5]\n",
      "[-3 -3  3  4  5  6  7  8  9 10]\n",
      "[ 1  2  3  4  5  6  7  8  9 10]\n"
     ]
    }
   ],
   "source": [
    "import numpy as np\n",
    "a=np.array([1,2,3,4,5])\n",
    "b=np.array([6,7,8,9,10])\n",
    "c=np.where (a<3,-3,a)\n",
    "print(c)\n",
    "d=np.hstack((c,b))\n",
    "print(d)\n",
    "ab=np.hstack((a,b))\n",
    "print(ab)"
   ]
  },
  {
   "cell_type": "markdown",
   "id": "8ff687ce",
   "metadata": {},
   "source": [
    "21.How do you generate a 3D array of shape (4, 3, 2) where each 2D slice (3x2) is filled with random values between 0 and 1, and then normalize the entire 3D array to values between 0 and 1 (with respect to the min and max of the array)?\n"
   ]
  },
  {
   "cell_type": "code",
   "execution_count": 34,
   "id": "9fcaad29",
   "metadata": {},
   "outputs": [
    {
     "data": {
      "text/plain": [
       "array([[[0.82755054, 0.77452764],\n",
       "        [0.33405937, 0.        ],\n",
       "        [0.1989932 , 0.81524068]],\n",
       "\n",
       "       [[0.93133311, 0.13066597],\n",
       "        [0.44671828, 0.91599245],\n",
       "        [0.92891104, 0.84541543]],\n",
       "\n",
       "       [[0.06995723, 0.37968147],\n",
       "        [0.73657407, 0.26359941],\n",
       "        [0.56062958, 0.92919343]],\n",
       "\n",
       "       [[0.58236787, 0.57864039],\n",
       "        [1.        , 0.9647102 ],\n",
       "        [0.7006449 , 0.72032554]]])"
      ]
     },
     "execution_count": 34,
     "metadata": {},
     "output_type": "execute_result"
    }
   ],
   "source": [
    "arr = np.random.rand(4, 3, 2)\n",
    "normalized_arr = (arr - arr.min()) / (arr.max() - arr.min())\n",
    "normalized_arr"
   ]
  },
  {
   "cell_type": "markdown",
   "id": "71282e6c",
   "metadata": {},
   "source": [
    "22.Given a 2D array of shape (5, 5) filled with random integers between 1 and 100, replace all odd numbers with -1 and all even numbers with 1.\n"
   ]
  },
  {
   "cell_type": "code",
   "execution_count": 35,
   "id": "9bdc5132",
   "metadata": {},
   "outputs": [
    {
     "data": {
      "text/plain": [
       "array([[-1, -1,  1,  1, -1],\n",
       "       [-1, -1,  1, -1, -1],\n",
       "       [-1, -1,  1, -1,  1],\n",
       "       [-1,  1,  1, -1,  1],\n",
       "       [ 1,  1,  1,  1, -1]])"
      ]
     },
     "execution_count": 35,
     "metadata": {},
     "output_type": "execute_result"
    }
   ],
   "source": [
    "arr = np.random.randint(1, 101, size=(5, 5))\n",
    "modified_arr = np.where(arr % 2 == 0, 1, -1)\n",
    "modified_arr"
   ]
  },
  {
   "cell_type": "markdown",
   "id": "0e6e4aec",
   "metadata": {},
   "source": [
    "23.Given a large 1D array of 10 million random floating-point numbers between 0 and 1, find the 10th and 90th percentile of the values.\n"
   ]
  },
  {
   "cell_type": "code",
   "execution_count": 38,
   "id": "0f087d70",
   "metadata": {},
   "outputs": [
    {
     "name": "stdout",
     "output_type": "stream",
     "text": [
      "0.09979836541455867\n",
      "0.9000465465404485\n"
     ]
    }
   ],
   "source": [
    "large_arr = np.random.rand(10000000)\n",
    "percentile_10 = np.percentile(large_arr, 10)\n",
    "percentile_90 = np.percentile(large_arr, 90)\n",
    "print(percentile_10)\n",
    "print(percentile_90)"
   ]
  },
  {
   "cell_type": "markdown",
   "id": "3c48d0b5",
   "metadata": {},
   "source": [
    "24.\tGiven a 5x5 matrix arr, use np.where to:\n",
    "\n",
    "        Replace all elements greater than 10 with the value 100.\n",
    "        Replace all elements less than or equal to 10 with the value -100\n"
   ]
  },
  {
   "cell_type": "code",
   "execution_count": 43,
   "id": "0f603160",
   "metadata": {},
   "outputs": [
    {
     "name": "stdout",
     "output_type": "stream",
     "text": [
      "Original Matrix:\n",
      " [[20 16  4  7  8]\n",
      " [ 6 10  6 16 16]\n",
      " [ 7  5 20 18 12]\n",
      " [ 7 12 17 11  4]\n",
      " [19  3 11  7 20]]\n",
      "\n",
      "Modified Matrix (with np.where):\n",
      " [[ 100  100 -100 -100 -100]\n",
      " [-100 -100 -100  100  100]\n",
      " [-100 -100  100  100  100]\n",
      " [-100  100  100  100 -100]\n",
      " [ 100 -100  100 -100  100]]\n"
     ]
    }
   ],
   "source": [
    "arr = np.random.randint(1, 21, size=(5, 5))\n",
    "modified_arr = np.where(arr > 10, 100, -100)\n",
    "\n",
    "print(\"Original Matrix:\\n\",arr)\n",
    "print(\"\\nModified Matrix (with np.where):\\n\",modified_arr)\n"
   ]
  },
  {
   "cell_type": "markdown",
   "id": "f637fc9d",
   "metadata": {},
   "source": [
    "25.\tGiven a 2D array arr = np.array([[1, 2, 3, 4], [5, 6, 7, 8], [9, 10, 11, 12]]), perform the following operations:\n",
    "            •\tHorizontally split the array into two equal parts.\n",
    "            •\tVertically split the array into three equal parts.\n",
    "            •\tStack the split parts vertically and horizontally.\n"
   ]
  },
  {
   "cell_type": "code",
   "execution_count": 44,
   "id": "cae5bdab",
   "metadata": {},
   "outputs": [],
   "source": [
    "arr = np.array([[1, 2, 3, 4], [5, 6, 7, 8], [9, 10, 11, 12]])\n",
    "hsplit_arr = np.hsplit(arr, 2)\n",
    "\n",
    "vsplit_arr = np.vsplit(arr, 3)\n",
    "\n",
    "vstack_arr = np.vstack(vsplit_arr)\n",
    "\n",
    "hstack_arr = np.hstack(hsplit_arr)\n"
   ]
  },
  {
   "cell_type": "code",
   "execution_count": 45,
   "id": "5e7a6f09",
   "metadata": {},
   "outputs": [
    {
     "data": {
      "text/plain": [
       "[array([[ 1,  2],\n",
       "        [ 5,  6],\n",
       "        [ 9, 10]]),\n",
       " array([[ 3,  4],\n",
       "        [ 7,  8],\n",
       "        [11, 12]])]"
      ]
     },
     "execution_count": 45,
     "metadata": {},
     "output_type": "execute_result"
    }
   ],
   "source": [
    "hsplit_arr"
   ]
  },
  {
   "cell_type": "code",
   "execution_count": 46,
   "id": "d84621c7",
   "metadata": {},
   "outputs": [
    {
     "data": {
      "text/plain": [
       "[array([[1, 2, 3, 4]]), array([[5, 6, 7, 8]]), array([[ 9, 10, 11, 12]])]"
      ]
     },
     "execution_count": 46,
     "metadata": {},
     "output_type": "execute_result"
    }
   ],
   "source": [
    "vsplit_arr"
   ]
  },
  {
   "cell_type": "code",
   "execution_count": 47,
   "id": "d8f59790",
   "metadata": {},
   "outputs": [
    {
     "data": {
      "text/plain": [
       "array([[ 1,  2,  3,  4],\n",
       "       [ 5,  6,  7,  8],\n",
       "       [ 9, 10, 11, 12]])"
      ]
     },
     "execution_count": 47,
     "metadata": {},
     "output_type": "execute_result"
    }
   ],
   "source": [
    "vstack_arr"
   ]
  },
  {
   "cell_type": "code",
   "execution_count": 48,
   "id": "abe62580",
   "metadata": {},
   "outputs": [
    {
     "data": {
      "text/plain": [
       "array([[ 1,  2,  3,  4],\n",
       "       [ 5,  6,  7,  8],\n",
       "       [ 9, 10, 11, 12]])"
      ]
     },
     "execution_count": 48,
     "metadata": {},
     "output_type": "execute_result"
    }
   ],
   "source": [
    "hstack_arr"
   ]
  },
  {
   "cell_type": "code",
   "execution_count": null,
   "id": "f67e8a00",
   "metadata": {},
   "outputs": [],
   "source": []
  }
 ],
 "metadata": {
  "kernelspec": {
   "display_name": "Python 3 (ipykernel)",
   "language": "python",
   "name": "python3"
  },
  "language_info": {
   "codemirror_mode": {
    "name": "ipython",
    "version": 3
   },
   "file_extension": ".py",
   "mimetype": "text/x-python",
   "name": "python",
   "nbconvert_exporter": "python",
   "pygments_lexer": "ipython3",
   "version": "3.10.9"
  }
 },
 "nbformat": 4,
 "nbformat_minor": 5
}
