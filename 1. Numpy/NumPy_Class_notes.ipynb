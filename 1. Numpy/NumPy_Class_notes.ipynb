{
 "cells": [
  {
   "cell_type": "markdown",
   "id": "71338e96-317e-4cf9-8aa7-ae85a55908a3",
   "metadata": {},
   "source": [
    "## Install NumPy"
   ]
  },
  {
   "cell_type": "code",
   "execution_count": 303,
   "id": "3690d50b-ad4b-4b31-b1c9-717cd33edbb7",
   "metadata": {},
   "outputs": [],
   "source": [
    "# pip install numpy"
   ]
  },
  {
   "cell_type": "markdown",
   "id": "372f5947-39d3-4e81-a607-9c786459e5e3",
   "metadata": {},
   "source": [
    "## Import NumPy"
   ]
  },
  {
   "cell_type": "code",
   "execution_count": 304,
   "id": "0b3f975c-64f4-4119-9d5f-c3c763117a2e",
   "metadata": {},
   "outputs": [],
   "source": [
    "import numpy as np\n"
   ]
  },
  {
   "cell_type": "markdown",
   "id": "0a66bd72-2185-4704-b3ac-2d0e01c6f751",
   "metadata": {},
   "source": [
    "## Introduction to NumPy\n",
    "•\tNumPy (Numerical Python) is a library for the Python programming language that provides support for large, multi-dimensional arrays and matrices, along with a collection of mathematical functions to operate on these arrays\n",
    "## What is an Array in Python?\n",
    "•\tAn array is a collection of items stored at contiguous memory locations. The idea is to store multiple items of the same type together."
   ]
  },
  {
   "cell_type": "markdown",
   "id": "b48ed954-a111-4650-ba8a-cbd172cde75a",
   "metadata": {},
   "source": [
    "## Why Use NumPy?\n",
    "* In Python we have lists that serve the purpose of arrays, but they are slow to process.\n",
    "* NumPy aims to provide an array object that is up to 50x faster than traditional Python lists.\n",
    "* The array object in NumPy is called ndarray, it provides a lot of supporting functions that make working with ndarray very easy.\n",
    "* Arrays are very frequently used in data science, where speed and resources are very important.\n",
    "## Why is NumPy Faster Than Lists?\n",
    "* NumPy arrays are stored at one continuous place in memory unlike lists, so processes can access and manipulate them very efficiently.\n",
    "* This behaviour is called locality of reference in computer science.\n",
    "* This is the main reason why NumPy is faster than lists. Also, it is optimized to work with latest CPU architectures.\n",
    "* No need for data type checking.\n",
    "* Item wise computations available."
   ]
  },
  {
   "cell_type": "markdown",
   "id": "2c3d1ea5-734a-4a79-8095-31dc1a371dad",
   "metadata": {},
   "source": [
    "## Create numpy ndarray object"
   ]
  },
  {
   "cell_type": "markdown",
   "id": "45393dd4-0863-4931-8f9c-7f75af48ed36",
   "metadata": {},
   "source": [
    "### 0 dimensional array\n",
    "* 0-D arrays, or Scalars, are the elements in an array. Each value in an array is a 0-D array."
   ]
  },
  {
   "cell_type": "code",
   "execution_count": 305,
   "id": "4fde1c5a-c270-4fa5-a174-bae2c0f1e874",
   "metadata": {},
   "outputs": [],
   "source": [
    "arr=np.array(34)"
   ]
  },
  {
   "cell_type": "code",
   "execution_count": 306,
   "id": "5347c8d6-136d-43bb-96f6-1c62813f2d87",
   "metadata": {},
   "outputs": [
    {
     "data": {
      "text/plain": [
       "array(34)"
      ]
     },
     "execution_count": 306,
     "metadata": {},
     "output_type": "execute_result"
    }
   ],
   "source": [
    "arr"
   ]
  },
  {
   "cell_type": "markdown",
   "id": "3c919ccf-6e88-4113-bd1a-33d4b352192d",
   "metadata": {},
   "source": [
    "### One dimensional array\n",
    "* An array that has 0-D arrays as its elements is called Uni-dimensional or 1-D array."
   ]
  },
  {
   "cell_type": "code",
   "execution_count": 307,
   "id": "3b1ba534-4cc7-4b42-88a7-7e9708bc8de8",
   "metadata": {},
   "outputs": [],
   "source": [
    "one_d= np.array([1,2,3,4])"
   ]
  },
  {
   "cell_type": "code",
   "execution_count": 308,
   "id": "030e2df1-7533-4855-a909-1b1aca309765",
   "metadata": {},
   "outputs": [
    {
     "data": {
      "text/plain": [
       "array([1, 2, 3, 4])"
      ]
     },
     "execution_count": 308,
     "metadata": {},
     "output_type": "execute_result"
    }
   ],
   "source": [
    "one_d"
   ]
  },
  {
   "cell_type": "markdown",
   "id": "0d33e99b-6485-45db-bb9e-4b8466a2dd21",
   "metadata": {},
   "source": [
    "### Two dimensional array\n",
    "* An array that has 1-D arrays as its elements is called a 2-D array."
   ]
  },
  {
   "cell_type": "code",
   "execution_count": 309,
   "id": "ac210192-71c2-41c4-8f01-57ca0f1ee173",
   "metadata": {},
   "outputs": [],
   "source": [
    "two_d=np.array([\n",
    "    [1,2,3],\n",
    "    [3,4,5]\n",
    "])"
   ]
  },
  {
   "cell_type": "code",
   "execution_count": 310,
   "id": "a5139bd9-3961-4c05-98df-2548101777e5",
   "metadata": {},
   "outputs": [
    {
     "data": {
      "text/plain": [
       "array([[1, 2, 3],\n",
       "       [3, 4, 5]])"
      ]
     },
     "execution_count": 310,
     "metadata": {},
     "output_type": "execute_result"
    }
   ],
   "source": [
    "two_d"
   ]
  },
  {
   "cell_type": "code",
   "execution_count": 311,
   "id": "e7b91b49-1dbf-4f63-b5e5-83ba21552f22",
   "metadata": {},
   "outputs": [],
   "source": [
    "# 4 x 4\n",
    "four=np.array([\n",
    "    [1,2,3,4],\n",
    "    [3,4,5,6],\n",
    "    [6,7,8,9],\n",
    "    [2,4,6,8]\n",
    "])"
   ]
  },
  {
   "cell_type": "code",
   "execution_count": 312,
   "id": "50c7265d-5ec0-40a3-bd66-009974e9e743",
   "metadata": {},
   "outputs": [
    {
     "data": {
      "text/plain": [
       "array([[1, 2, 3, 4],\n",
       "       [3, 4, 5, 6],\n",
       "       [6, 7, 8, 9],\n",
       "       [2, 4, 6, 8]])"
      ]
     },
     "execution_count": 312,
     "metadata": {},
     "output_type": "execute_result"
    }
   ],
   "source": [
    "four"
   ]
  },
  {
   "cell_type": "code",
   "execution_count": 313,
   "id": "2d2c25fe-d423-410c-9282-3f39f63cb1fb",
   "metadata": {},
   "outputs": [],
   "source": [
    "# 3 x 4\n",
    "three_four=np.array([\n",
    "    [1,3,5],\n",
    "    [7,9,11],\n",
    "    [2,4,6],\n",
    "    [8,10,12]\n",
    "])"
   ]
  },
  {
   "cell_type": "code",
   "execution_count": 314,
   "id": "88cf497d-5062-4813-8e04-63405d07d542",
   "metadata": {},
   "outputs": [
    {
     "data": {
      "text/plain": [
       "array([[ 1,  3,  5],\n",
       "       [ 7,  9, 11],\n",
       "       [ 2,  4,  6],\n",
       "       [ 8, 10, 12]])"
      ]
     },
     "execution_count": 314,
     "metadata": {},
     "output_type": "execute_result"
    }
   ],
   "source": [
    "three_four"
   ]
  },
  {
   "cell_type": "markdown",
   "id": "9048b880-6283-48c5-a198-f8b9524adb3a",
   "metadata": {},
   "source": [
    "### Checking type"
   ]
  },
  {
   "cell_type": "code",
   "execution_count": 315,
   "id": "67cbbe0b-72cb-4892-82ac-824f9d660bc1",
   "metadata": {},
   "outputs": [
    {
     "data": {
      "text/plain": [
       "numpy.ndarray"
      ]
     },
     "execution_count": 315,
     "metadata": {},
     "output_type": "execute_result"
    }
   ],
   "source": [
    "# checking type\n",
    "type(three_four)"
   ]
  },
  {
   "cell_type": "markdown",
   "id": "035f925a-2f62-4158-bf55-28b00380a3fc",
   "metadata": {},
   "source": [
    "### Three dimensional array\n",
    "* An array that has 2-D arrays as its elements is called a 3-D array."
   ]
  },
  {
   "cell_type": "code",
   "execution_count": 316,
   "id": "3827e2c5-015c-4c85-8ec9-461406fcc8b2",
   "metadata": {},
   "outputs": [],
   "source": [
    "three_d=np.array([[\n",
    "    [1,2,3],\n",
    "    [2,3,4],\n",
    "    [4,5,6]\n",
    "]])"
   ]
  },
  {
   "cell_type": "code",
   "execution_count": 317,
   "id": "cadc8cbb-918e-497c-ae38-3d0d3892eb0c",
   "metadata": {},
   "outputs": [
    {
     "data": {
      "text/plain": [
       "array([[[1, 2, 3],\n",
       "        [2, 3, 4],\n",
       "        [4, 5, 6]]])"
      ]
     },
     "execution_count": 317,
     "metadata": {},
     "output_type": "execute_result"
    }
   ],
   "source": [
    "three_d"
   ]
  },
  {
   "cell_type": "code",
   "execution_count": 318,
   "id": "ad19574f-aa58-4fed-a968-5952f118b05b",
   "metadata": {},
   "outputs": [],
   "source": [
    "thrred=np.array([\n",
    "    [[1,2,3],[5,6,7]],\n",
    "    \n",
    "    [[1,3,6],[7,8,9]],\n",
    "    \n",
    "    [[1,4,8],[3,6,9]]\n",
    "])"
   ]
  },
  {
   "cell_type": "code",
   "execution_count": 319,
   "id": "7f4656ac-7efc-41a7-bbab-f6502cfb1741",
   "metadata": {},
   "outputs": [
    {
     "data": {
      "text/plain": [
       "array([[[1, 2, 3],\n",
       "        [5, 6, 7]],\n",
       "\n",
       "       [[1, 3, 6],\n",
       "        [7, 8, 9]],\n",
       "\n",
       "       [[1, 4, 8],\n",
       "        [3, 6, 9]]])"
      ]
     },
     "execution_count": 319,
     "metadata": {},
     "output_type": "execute_result"
    }
   ],
   "source": [
    "thrred"
   ]
  },
  {
   "cell_type": "markdown",
   "id": "a597f4c0-991a-42a3-b2f5-1643adbb956f",
   "metadata": {},
   "source": [
    "### Checking Dimension"
   ]
  },
  {
   "cell_type": "code",
   "execution_count": 320,
   "id": "b28de7fc-30bd-4436-9d1b-2d07ef85869e",
   "metadata": {},
   "outputs": [
    {
     "data": {
      "text/plain": [
       "3"
      ]
     },
     "execution_count": 320,
     "metadata": {},
     "output_type": "execute_result"
    }
   ],
   "source": [
    "## Checking dimension\n",
    "thrred.ndim"
   ]
  },
  {
   "cell_type": "code",
   "execution_count": 321,
   "id": "ce37f3ba-451b-43b2-8199-0502b39b86c5",
   "metadata": {},
   "outputs": [
    {
     "data": {
      "text/plain": [
       "(3, 2, 3)"
      ]
     },
     "execution_count": 321,
     "metadata": {},
     "output_type": "execute_result"
    }
   ],
   "source": [
    "thrred.shape"
   ]
  },
  {
   "cell_type": "code",
   "execution_count": 322,
   "id": "70eb2ef7-55f2-4665-8f73-59eff37606b0",
   "metadata": {},
   "outputs": [
    {
     "data": {
      "text/plain": [
       "18"
      ]
     },
     "execution_count": 322,
     "metadata": {},
     "output_type": "execute_result"
    }
   ],
   "source": [
    "thrred.size"
   ]
  },
  {
   "cell_type": "code",
   "execution_count": 323,
   "id": "0be21550-8c8e-4f7c-8688-3e3803331f18",
   "metadata": {},
   "outputs": [
    {
     "data": {
      "text/plain": [
       "dtype('int32')"
      ]
     },
     "execution_count": 323,
     "metadata": {},
     "output_type": "execute_result"
    }
   ],
   "source": [
    "thrred.dtype"
   ]
  },
  {
   "cell_type": "code",
   "execution_count": 324,
   "id": "749f8654-304a-49cc-9c2c-d43e673194d7",
   "metadata": {},
   "outputs": [],
   "source": [
    "th=np.array([\n",
    "    [[1,2,3,4,5],[6,7,8,9,10]],\n",
    "    [[2,4,6,8,10],[1,3,5,7,9]],\n",
    "    [[1,2,4,5,6],[0,9,8,7,6]]\n",
    "])"
   ]
  },
  {
   "cell_type": "code",
   "execution_count": 325,
   "id": "446abd54-2a7c-424c-943f-c56f052abd7e",
   "metadata": {},
   "outputs": [
    {
     "data": {
      "text/plain": [
       "array([[[ 1,  2,  3,  4,  5],\n",
       "        [ 6,  7,  8,  9, 10]],\n",
       "\n",
       "       [[ 2,  4,  6,  8, 10],\n",
       "        [ 1,  3,  5,  7,  9]],\n",
       "\n",
       "       [[ 1,  2,  4,  5,  6],\n",
       "        [ 0,  9,  8,  7,  6]]])"
      ]
     },
     "execution_count": 325,
     "metadata": {},
     "output_type": "execute_result"
    }
   ],
   "source": [
    "th"
   ]
  },
  {
   "cell_type": "code",
   "execution_count": 326,
   "id": "64997309-2a21-4ef0-ac72-ef4521a157ed",
   "metadata": {},
   "outputs": [
    {
     "data": {
      "text/plain": [
       "(3, 2, 5)"
      ]
     },
     "execution_count": 326,
     "metadata": {},
     "output_type": "execute_result"
    }
   ],
   "source": [
    "th.shape"
   ]
  },
  {
   "cell_type": "code",
   "execution_count": 327,
   "id": "fa1ace0d-f8d6-4153-a278-d41074d64d36",
   "metadata": {},
   "outputs": [
    {
     "data": {
      "text/plain": [
       "3"
      ]
     },
     "execution_count": 327,
     "metadata": {},
     "output_type": "execute_result"
    }
   ],
   "source": [
    "th.ndim"
   ]
  },
  {
   "cell_type": "code",
   "execution_count": 328,
   "id": "89d6d3fd-0dfa-47cc-b77f-8d84d3357c3c",
   "metadata": {},
   "outputs": [
    {
     "data": {
      "text/plain": [
       "30"
      ]
     },
     "execution_count": 328,
     "metadata": {},
     "output_type": "execute_result"
    }
   ],
   "source": [
    "th.size"
   ]
  },
  {
   "cell_type": "markdown",
   "id": "d9d180cc-ab23-4f71-8c5f-6ccb92b19e06",
   "metadata": {},
   "source": [
    "## Accessing an elemnt in an array"
   ]
  },
  {
   "cell_type": "code",
   "execution_count": 329,
   "id": "27192876-dc63-4743-a046-76bcd1e8e229",
   "metadata": {},
   "outputs": [
    {
     "data": {
      "text/plain": [
       "array([1, 2, 3, 4])"
      ]
     },
     "execution_count": 329,
     "metadata": {},
     "output_type": "execute_result"
    }
   ],
   "source": [
    "# one dimension\n",
    "one_d\n"
   ]
  },
  {
   "cell_type": "code",
   "execution_count": 330,
   "id": "347f0328-ac27-4630-98cd-82258f947b8e",
   "metadata": {},
   "outputs": [
    {
     "data": {
      "text/plain": [
       "3"
      ]
     },
     "execution_count": 330,
     "metadata": {},
     "output_type": "execute_result"
    }
   ],
   "source": [
    "one_d[2]"
   ]
  },
  {
   "cell_type": "code",
   "execution_count": 331,
   "id": "b4034d7f-203a-42b9-bdf0-627b8178eb97",
   "metadata": {},
   "outputs": [
    {
     "data": {
      "text/plain": [
       "array([[1, 2, 3],\n",
       "       [3, 4, 5]])"
      ]
     },
     "execution_count": 331,
     "metadata": {},
     "output_type": "execute_result"
    }
   ],
   "source": [
    "# two dimension\n",
    "two_d"
   ]
  },
  {
   "cell_type": "code",
   "execution_count": 332,
   "id": "d8708ef1-020a-4e3a-a107-95e0912292ce",
   "metadata": {},
   "outputs": [
    {
     "data": {
      "text/plain": [
       "3"
      ]
     },
     "execution_count": 332,
     "metadata": {},
     "output_type": "execute_result"
    }
   ],
   "source": [
    "two_d[0,2]"
   ]
  },
  {
   "cell_type": "code",
   "execution_count": 333,
   "id": "5c777bd6-f90e-4648-aec7-94f476f95c28",
   "metadata": {},
   "outputs": [
    {
     "data": {
      "text/plain": [
       "4"
      ]
     },
     "execution_count": 333,
     "metadata": {},
     "output_type": "execute_result"
    }
   ],
   "source": [
    "two_d[1,1]"
   ]
  },
  {
   "cell_type": "code",
   "execution_count": 334,
   "id": "0db26015-1d64-4eed-ac8b-6d2f539dbb97",
   "metadata": {},
   "outputs": [
    {
     "data": {
      "text/plain": [
       "array([[[1, 2, 3],\n",
       "        [5, 6, 7]],\n",
       "\n",
       "       [[1, 3, 6],\n",
       "        [7, 8, 9]],\n",
       "\n",
       "       [[1, 4, 8],\n",
       "        [3, 6, 9]]])"
      ]
     },
     "execution_count": 334,
     "metadata": {},
     "output_type": "execute_result"
    }
   ],
   "source": [
    "# three dimension\n",
    "thrred"
   ]
  },
  {
   "cell_type": "code",
   "execution_count": 335,
   "id": "c5ce3467-e29d-469c-bcc5-94647b32f790",
   "metadata": {},
   "outputs": [
    {
     "data": {
      "text/plain": [
       "9"
      ]
     },
     "execution_count": 335,
     "metadata": {},
     "output_type": "execute_result"
    }
   ],
   "source": [
    "thrred[1,1,2]"
   ]
  },
  {
   "cell_type": "markdown",
   "id": "dafda957-30b4-420f-b77d-ab10a42f699c",
   "metadata": {},
   "source": [
    "### Day 1 Works"
   ]
  },
  {
   "cell_type": "code",
   "execution_count": 336,
   "id": "3ba05ce9-8a7c-4b9c-b817-a1304dd1f895",
   "metadata": {},
   "outputs": [],
   "source": [
    "# zero dimension array\n",
    "zero=np.array(12)"
   ]
  },
  {
   "cell_type": "code",
   "execution_count": 337,
   "id": "cb39e6ee-2444-43e8-a0f6-37b63fb42a76",
   "metadata": {},
   "outputs": [
    {
     "data": {
      "text/plain": [
       "array(12)"
      ]
     },
     "execution_count": 337,
     "metadata": {},
     "output_type": "execute_result"
    }
   ],
   "source": [
    "zero"
   ]
  },
  {
   "cell_type": "code",
   "execution_count": 338,
   "id": "838c53af-abf0-4938-a968-b1ffb1de3ecb",
   "metadata": {},
   "outputs": [
    {
     "data": {
      "text/plain": [
       "numpy.ndarray"
      ]
     },
     "execution_count": 338,
     "metadata": {},
     "output_type": "execute_result"
    }
   ],
   "source": [
    "type(zero)"
   ]
  },
  {
   "cell_type": "code",
   "execution_count": 339,
   "id": "e41b992e-a622-45d8-b8c1-629e036e9b2d",
   "metadata": {},
   "outputs": [
    {
     "data": {
      "text/plain": [
       "0"
      ]
     },
     "execution_count": 339,
     "metadata": {},
     "output_type": "execute_result"
    }
   ],
   "source": [
    "zero.ndim"
   ]
  },
  {
   "cell_type": "code",
   "execution_count": 340,
   "id": "4370739b-a4e2-4c73-96ff-87979c2e64b4",
   "metadata": {},
   "outputs": [
    {
     "data": {
      "text/plain": [
       "()"
      ]
     },
     "execution_count": 340,
     "metadata": {},
     "output_type": "execute_result"
    }
   ],
   "source": [
    "zero.shape"
   ]
  },
  {
   "cell_type": "code",
   "execution_count": 341,
   "id": "8866f0e1-a450-490f-a117-310fad621ce7",
   "metadata": {},
   "outputs": [
    {
     "data": {
      "text/plain": [
       "1"
      ]
     },
     "execution_count": 341,
     "metadata": {},
     "output_type": "execute_result"
    }
   ],
   "source": [
    "zero.size"
   ]
  },
  {
   "cell_type": "code",
   "execution_count": 342,
   "id": "ca6e70cc-be7d-40d5-ae92-e96bdd739c8e",
   "metadata": {},
   "outputs": [],
   "source": [
    "# one dimension\n",
    "one=np.array(['A','B','C','D'])"
   ]
  },
  {
   "cell_type": "code",
   "execution_count": 343,
   "id": "7e6303ea-90e5-417b-99c4-f91f497df862",
   "metadata": {},
   "outputs": [
    {
     "data": {
      "text/plain": [
       "array(['A', 'B', 'C', 'D'], dtype='<U1')"
      ]
     },
     "execution_count": 343,
     "metadata": {},
     "output_type": "execute_result"
    }
   ],
   "source": [
    "one"
   ]
  },
  {
   "cell_type": "code",
   "execution_count": 344,
   "id": "a0913616-741f-42b9-8cea-5bfdf1bce262",
   "metadata": {},
   "outputs": [
    {
     "data": {
      "text/plain": [
       "1"
      ]
     },
     "execution_count": 344,
     "metadata": {},
     "output_type": "execute_result"
    }
   ],
   "source": [
    "one.ndim"
   ]
  },
  {
   "cell_type": "code",
   "execution_count": 345,
   "id": "58485f5e-6445-4508-86f5-42aa7a358129",
   "metadata": {},
   "outputs": [
    {
     "data": {
      "text/plain": [
       "(4,)"
      ]
     },
     "execution_count": 345,
     "metadata": {},
     "output_type": "execute_result"
    }
   ],
   "source": [
    "one.shape"
   ]
  },
  {
   "cell_type": "code",
   "execution_count": 346,
   "id": "99061c98-563c-418c-9b38-9ff356468bf4",
   "metadata": {},
   "outputs": [
    {
     "data": {
      "text/plain": [
       "4"
      ]
     },
     "execution_count": 346,
     "metadata": {},
     "output_type": "execute_result"
    }
   ],
   "source": [
    "one.size"
   ]
  },
  {
   "cell_type": "code",
   "execution_count": 347,
   "id": "1f090ae5-db99-4f0c-8c82-8187a1865480",
   "metadata": {},
   "outputs": [],
   "source": [
    "# two dimension\n",
    "two=np.array([\n",
    "    ['A','B','C','D'],\n",
    "    ['E','F','G','H'],\n",
    "    ['I','J','K','L']\n",
    "])"
   ]
  },
  {
   "cell_type": "code",
   "execution_count": 348,
   "id": "0575c207-794e-4994-9e3a-6b8dff9d80d8",
   "metadata": {},
   "outputs": [
    {
     "data": {
      "text/plain": [
       "array([['A', 'B', 'C', 'D'],\n",
       "       ['E', 'F', 'G', 'H'],\n",
       "       ['I', 'J', 'K', 'L']], dtype='<U1')"
      ]
     },
     "execution_count": 348,
     "metadata": {},
     "output_type": "execute_result"
    }
   ],
   "source": [
    "two"
   ]
  },
  {
   "cell_type": "code",
   "execution_count": 349,
   "id": "0d2fabf3-8eb5-4ad1-9a12-281722e67fac",
   "metadata": {},
   "outputs": [
    {
     "data": {
      "text/plain": [
       "2"
      ]
     },
     "execution_count": 349,
     "metadata": {},
     "output_type": "execute_result"
    }
   ],
   "source": [
    "two.ndim"
   ]
  },
  {
   "cell_type": "code",
   "execution_count": 350,
   "id": "698c2564-605d-4ba1-a676-153dca5f234a",
   "metadata": {},
   "outputs": [
    {
     "data": {
      "text/plain": [
       "(3, 4)"
      ]
     },
     "execution_count": 350,
     "metadata": {},
     "output_type": "execute_result"
    }
   ],
   "source": [
    "two.shape"
   ]
  },
  {
   "cell_type": "code",
   "execution_count": 351,
   "id": "d5db3ffe-3503-4abf-97dc-f76327a54fd1",
   "metadata": {},
   "outputs": [
    {
     "data": {
      "text/plain": [
       "12"
      ]
     },
     "execution_count": 351,
     "metadata": {},
     "output_type": "execute_result"
    }
   ],
   "source": [
    "two.size"
   ]
  },
  {
   "cell_type": "code",
   "execution_count": 352,
   "id": "09eaecdf-048f-489a-9f9f-28e1fe0cdbc4",
   "metadata": {},
   "outputs": [],
   "source": [
    "# three dimension\n",
    "three=np.array([\n",
    "    [['A','B','C'],['D','E','F'],['G','H','I']],\n",
    "    [['J','K','L'],['M','N','O'],['P','Q','R']],\n",
    "    [['S','T','U'],['V','W','X'],['X','Y','Z']]\n",
    "])\n",
    "    "
   ]
  },
  {
   "cell_type": "code",
   "execution_count": 353,
   "id": "6249d831-32ba-48f0-b7f6-d85f94a58a9c",
   "metadata": {},
   "outputs": [
    {
     "data": {
      "text/plain": [
       "array([[['A', 'B', 'C'],\n",
       "        ['D', 'E', 'F'],\n",
       "        ['G', 'H', 'I']],\n",
       "\n",
       "       [['J', 'K', 'L'],\n",
       "        ['M', 'N', 'O'],\n",
       "        ['P', 'Q', 'R']],\n",
       "\n",
       "       [['S', 'T', 'U'],\n",
       "        ['V', 'W', 'X'],\n",
       "        ['X', 'Y', 'Z']]], dtype='<U1')"
      ]
     },
     "execution_count": 353,
     "metadata": {},
     "output_type": "execute_result"
    }
   ],
   "source": [
    "three"
   ]
  },
  {
   "cell_type": "code",
   "execution_count": 354,
   "id": "e3ff8de9-d7b6-4f5b-860f-1951cd95939f",
   "metadata": {},
   "outputs": [
    {
     "data": {
      "text/plain": [
       "3"
      ]
     },
     "execution_count": 354,
     "metadata": {},
     "output_type": "execute_result"
    }
   ],
   "source": [
    "three.ndim"
   ]
  },
  {
   "cell_type": "code",
   "execution_count": 355,
   "id": "df43abd1-becb-4d69-85fb-ba4b7174e6fd",
   "metadata": {},
   "outputs": [
    {
     "data": {
      "text/plain": [
       "(3, 3, 3)"
      ]
     },
     "execution_count": 355,
     "metadata": {},
     "output_type": "execute_result"
    }
   ],
   "source": [
    "three.shape"
   ]
  },
  {
   "cell_type": "code",
   "execution_count": 356,
   "id": "3ce19754-0493-4fc5-8b7e-fd94646294a2",
   "metadata": {},
   "outputs": [
    {
     "data": {
      "text/plain": [
       "27"
      ]
     },
     "execution_count": 356,
     "metadata": {},
     "output_type": "execute_result"
    }
   ],
   "source": [
    "three.size"
   ]
  },
  {
   "cell_type": "code",
   "execution_count": 357,
   "id": "368dd2a3-c994-4395-a45d-691d6f25a6c8",
   "metadata": {},
   "outputs": [
    {
     "data": {
      "text/plain": [
       "'Q'"
      ]
     },
     "execution_count": 357,
     "metadata": {},
     "output_type": "execute_result"
    }
   ],
   "source": [
    "# Accessing element 'Q'\n",
    "three[1,2,1]"
   ]
  },
  {
   "cell_type": "code",
   "execution_count": 358,
   "id": "eea9ecd9-a34b-4c0c-8329-926d134c18f6",
   "metadata": {},
   "outputs": [],
   "source": [
    "four_two_three=np.array([\n",
    "    [[1,2,3],[4,5,6]],\n",
    "    [[7,8,9],[10,11,12]],\n",
    "    [[13,14,15],[16,17,18]],\n",
    "    [[19,20,21],[22,24,25]]\n",
    "])"
   ]
  },
  {
   "cell_type": "code",
   "execution_count": 359,
   "id": "6dedb296-96aa-4dfa-8862-714f36469f5b",
   "metadata": {},
   "outputs": [
    {
     "data": {
      "text/plain": [
       "array([[[ 1,  2,  3],\n",
       "        [ 4,  5,  6]],\n",
       "\n",
       "       [[ 7,  8,  9],\n",
       "        [10, 11, 12]],\n",
       "\n",
       "       [[13, 14, 15],\n",
       "        [16, 17, 18]],\n",
       "\n",
       "       [[19, 20, 21],\n",
       "        [22, 24, 25]]])"
      ]
     },
     "execution_count": 359,
     "metadata": {},
     "output_type": "execute_result"
    }
   ],
   "source": [
    "four_two_three"
   ]
  },
  {
   "cell_type": "code",
   "execution_count": 360,
   "id": "0aa3a697-61a2-4944-9895-119105a524fc",
   "metadata": {},
   "outputs": [
    {
     "data": {
      "text/plain": [
       "(4, 2, 3)"
      ]
     },
     "execution_count": 360,
     "metadata": {},
     "output_type": "execute_result"
    }
   ],
   "source": [
    "four_two_three.shape"
   ]
  },
  {
   "cell_type": "code",
   "execution_count": 361,
   "id": "6e1dc1e1-3578-456e-9ee0-919ccfee06bf",
   "metadata": {},
   "outputs": [
    {
     "data": {
      "text/plain": [
       "20"
      ]
     },
     "execution_count": 361,
     "metadata": {},
     "output_type": "execute_result"
    }
   ],
   "source": [
    "# Accessing element - 20\n",
    "four_two_three[3,0,1]"
   ]
  },
  {
   "cell_type": "code",
   "execution_count": 362,
   "id": "b331d415-7ce6-4973-b519-99c190f8230a",
   "metadata": {},
   "outputs": [],
   "source": [
    "arr=np.array([\n",
    "    [[1,2,3,4],[3,4,5,6]],\n",
    "    [[11,12,13,14],[15,16,17,18]]\n",
    "])"
   ]
  },
  {
   "cell_type": "code",
   "execution_count": 363,
   "id": "f32a770f-32e2-4571-916d-5d718830b118",
   "metadata": {},
   "outputs": [
    {
     "data": {
      "text/plain": [
       "array([[[ 1,  2,  3,  4],\n",
       "        [ 3,  4,  5,  6]],\n",
       "\n",
       "       [[11, 12, 13, 14],\n",
       "        [15, 16, 17, 18]]])"
      ]
     },
     "execution_count": 363,
     "metadata": {},
     "output_type": "execute_result"
    }
   ],
   "source": [
    "arr"
   ]
  },
  {
   "cell_type": "code",
   "execution_count": 364,
   "id": "6b43ea8b-139f-4e26-b710-9fb9e47b089a",
   "metadata": {},
   "outputs": [
    {
     "data": {
      "text/plain": [
       "5"
      ]
     },
     "execution_count": 364,
     "metadata": {},
     "output_type": "execute_result"
    }
   ],
   "source": [
    "# accessing element 5\n",
    "arr[0,1,2]"
   ]
  },
  {
   "cell_type": "markdown",
   "id": "30d2f86e-46d4-481c-a9a8-0c8d0b76e6cb",
   "metadata": {},
   "source": [
    "## Negative slicing"
   ]
  },
  {
   "cell_type": "code",
   "execution_count": 365,
   "id": "b1f36e0d-e039-48fe-a10a-44d6ba8a5b38",
   "metadata": {},
   "outputs": [
    {
     "data": {
      "text/plain": [
       "array([1, 2, 3, 4])"
      ]
     },
     "execution_count": 365,
     "metadata": {},
     "output_type": "execute_result"
    }
   ],
   "source": [
    "one=np.array([1,2,3,4])\n",
    "one"
   ]
  },
  {
   "cell_type": "code",
   "execution_count": 366,
   "id": "9f339702-b524-48ab-b273-d7a597560996",
   "metadata": {},
   "outputs": [
    {
     "data": {
      "text/plain": [
       "4"
      ]
     },
     "execution_count": 366,
     "metadata": {},
     "output_type": "execute_result"
    }
   ],
   "source": [
    "one[-1]"
   ]
  },
  {
   "cell_type": "code",
   "execution_count": 367,
   "id": "1b02f168-296e-4252-862c-45071b4d33f4",
   "metadata": {},
   "outputs": [
    {
     "data": {
      "text/plain": [
       "array([[1, 2, 3, 4],\n",
       "       [5, 6, 7, 8]])"
      ]
     },
     "execution_count": 367,
     "metadata": {},
     "output_type": "execute_result"
    }
   ],
   "source": [
    "two=np.array([[1,2,3,4],[5,6,7,8]])\n",
    "two"
   ]
  },
  {
   "cell_type": "code",
   "execution_count": 368,
   "id": "2417653d-1b05-4632-92ab-70c9908b619e",
   "metadata": {},
   "outputs": [
    {
     "data": {
      "text/plain": [
       "8"
      ]
     },
     "execution_count": 368,
     "metadata": {},
     "output_type": "execute_result"
    }
   ],
   "source": [
    "two[-1,-1]\n",
    "# two[1,-1]\n",
    "# two[-1,3]"
   ]
  },
  {
   "cell_type": "code",
   "execution_count": 369,
   "id": "8b0cfd85-9930-4556-9edd-10f0fdcb826b",
   "metadata": {},
   "outputs": [
    {
     "data": {
      "text/plain": [
       "5"
      ]
     },
     "execution_count": 369,
     "metadata": {},
     "output_type": "execute_result"
    }
   ],
   "source": [
    "two[1,-4]\n",
    "# two[-1,-4]\n",
    "# two[-1,0]"
   ]
  },
  {
   "cell_type": "code",
   "execution_count": 370,
   "id": "f44cee7c-5e0b-4406-b010-cf4dc427b0c1",
   "metadata": {},
   "outputs": [
    {
     "data": {
      "text/plain": [
       "array([[1, 2, 3, 4],\n",
       "       [5, 6, 7, 8]])"
      ]
     },
     "execution_count": 370,
     "metadata": {},
     "output_type": "execute_result"
    }
   ],
   "source": [
    "# 2 x 4\n",
    "arr1=np.array([[1,2,3,4],[5,6,7,8]])\n",
    "arr1"
   ]
  },
  {
   "cell_type": "code",
   "execution_count": 371,
   "id": "9905f2e0-2063-472f-b512-e98f35f77353",
   "metadata": {},
   "outputs": [
    {
     "data": {
      "text/plain": [
       "(2, 4)"
      ]
     },
     "execution_count": 371,
     "metadata": {},
     "output_type": "execute_result"
    }
   ],
   "source": [
    "arr1.shape"
   ]
  },
  {
   "cell_type": "code",
   "execution_count": 372,
   "id": "69cd49e2-af5f-4f47-aa26-dfeb815d4f7e",
   "metadata": {},
   "outputs": [
    {
     "data": {
      "text/plain": [
       "7"
      ]
     },
     "execution_count": 372,
     "metadata": {},
     "output_type": "execute_result"
    }
   ],
   "source": [
    "arr1[-1,-2]"
   ]
  },
  {
   "cell_type": "markdown",
   "id": "8faf316e-298e-4c25-b7da-f18bcb38dd9c",
   "metadata": {},
   "source": [
    "## Slicing arrays"
   ]
  },
  {
   "cell_type": "code",
   "execution_count": 373,
   "id": "b144b32e-b6b0-4962-8b12-abb6fe0cdc43",
   "metadata": {},
   "outputs": [
    {
     "data": {
      "text/plain": [
       "array([[1, 2, 3, 4],\n",
       "       [5, 6, 7, 8]])"
      ]
     },
     "execution_count": 373,
     "metadata": {},
     "output_type": "execute_result"
    }
   ],
   "source": [
    "arr1"
   ]
  },
  {
   "cell_type": "code",
   "execution_count": 374,
   "id": "854e5ab4-eb87-4ed2-b096-7a0a611d08cb",
   "metadata": {},
   "outputs": [
    {
     "data": {
      "text/plain": [
       "array([2, 3, 4])"
      ]
     },
     "execution_count": 374,
     "metadata": {},
     "output_type": "execute_result"
    }
   ],
   "source": [
    "arr1[0,1:]"
   ]
  },
  {
   "cell_type": "code",
   "execution_count": 375,
   "id": "f919d901-9f14-4561-be8a-4535ca2db358",
   "metadata": {},
   "outputs": [
    {
     "data": {
      "text/plain": [
       "array([[1, 2, 3, 4, 5, 6],\n",
       "       [3, 4, 5, 6, 7, 8],\n",
       "       [1, 2, 4, 5, 6, 7]])"
      ]
     },
     "execution_count": 375,
     "metadata": {},
     "output_type": "execute_result"
    }
   ],
   "source": [
    "# 3x 6\n",
    "arr2=np.array([[1,2,3,4,5,6],\n",
    "               [3,4,5,6,7,8],\n",
    "               [1,2,4,5,6,7]])\n",
    "arr2"
   ]
  },
  {
   "cell_type": "code",
   "execution_count": 376,
   "id": "5b2559da-78d3-442e-882b-84798d507769",
   "metadata": {},
   "outputs": [
    {
     "data": {
      "text/plain": [
       "(3, 6)"
      ]
     },
     "execution_count": 376,
     "metadata": {},
     "output_type": "execute_result"
    }
   ],
   "source": [
    "arr2.shape"
   ]
  },
  {
   "cell_type": "code",
   "execution_count": 377,
   "id": "ccadd108-dc7d-468f-b159-a552d32d80a2",
   "metadata": {},
   "outputs": [
    {
     "data": {
      "text/plain": [
       "array([[3, 4, 5],\n",
       "       [5, 6, 7],\n",
       "       [4, 5, 6]])"
      ]
     },
     "execution_count": 377,
     "metadata": {},
     "output_type": "execute_result"
    }
   ],
   "source": [
    "arr2[:,2:5]"
   ]
  },
  {
   "cell_type": "code",
   "execution_count": 378,
   "id": "579441bf-7c5b-4a7d-8593-b5665aa5c49a",
   "metadata": {},
   "outputs": [
    {
     "data": {
      "text/plain": [
       "array([[[ 1,  2,  3,  4,  5,  6],\n",
       "        [ 7,  8,  9, 10, 11, 12],\n",
       "        [13, 14, 15, 16, 17, 18],\n",
       "        [19, 20, 21, 22, 23, 24]],\n",
       "\n",
       "       [[25, 26, 27, 28, 29, 30],\n",
       "        [31, 32, 33, 34, 35, 36],\n",
       "        [37, 38, 39, 40, 41, 42],\n",
       "        [43, 44, 45, 46, 47, 48]]])"
      ]
     },
     "execution_count": 378,
     "metadata": {},
     "output_type": "execute_result"
    }
   ],
   "source": [
    "arr3=np.array([\n",
    "    [[1,2,3,4,5,6],[7,8,9,10,11,12],[13,14,15,16,17,18],[19,20,21,22,23,24]],\n",
    "    [[25,26,27,28,29,30],[31,32,33,34,35,36],[37,38,39,40,41,42],[43,44,45,46,47,48]]])\n",
    "arr3"
   ]
  },
  {
   "cell_type": "code",
   "execution_count": 379,
   "id": "53677ea1-ca39-4e38-a710-4a5dcdd51db1",
   "metadata": {},
   "outputs": [
    {
     "data": {
      "text/plain": [
       "(2, 4, 6)"
      ]
     },
     "execution_count": 379,
     "metadata": {},
     "output_type": "execute_result"
    }
   ],
   "source": [
    "arr3.shape"
   ]
  },
  {
   "cell_type": "code",
   "execution_count": 380,
   "id": "51ea9984-5d02-4772-bdb6-dccc890fb905",
   "metadata": {},
   "outputs": [
    {
     "data": {
      "text/plain": [
       "array([[ 1,  2,  3],\n",
       "       [ 7,  8,  9],\n",
       "       [13, 14, 15],\n",
       "       [19, 20, 21]])"
      ]
     },
     "execution_count": 380,
     "metadata": {},
     "output_type": "execute_result"
    }
   ],
   "source": [
    "arr3[0,:,0:3]"
   ]
  },
  {
   "cell_type": "code",
   "execution_count": 381,
   "id": "c017348a-6326-4b67-9b57-b5b10c7634e1",
   "metadata": {},
   "outputs": [
    {
     "data": {
      "text/plain": [
       "array([1, 2, 3, 4])"
      ]
     },
     "execution_count": 381,
     "metadata": {},
     "output_type": "execute_result"
    }
   ],
   "source": [
    "one"
   ]
  },
  {
   "cell_type": "code",
   "execution_count": 382,
   "id": "47ec8942-c890-4618-be8e-f864c94e998f",
   "metadata": {},
   "outputs": [
    {
     "data": {
      "text/plain": [
       "array([1, 3])"
      ]
     },
     "execution_count": 382,
     "metadata": {},
     "output_type": "execute_result"
    }
   ],
   "source": [
    "one[::2]"
   ]
  },
  {
   "cell_type": "code",
   "execution_count": 383,
   "id": "0f10c232-c213-47d3-8045-afb4b3168bad",
   "metadata": {},
   "outputs": [
    {
     "data": {
      "text/plain": [
       "array([1, 2, 3, 4, 5, 6, 7, 8, 9])"
      ]
     },
     "execution_count": 383,
     "metadata": {},
     "output_type": "execute_result"
    }
   ],
   "source": [
    "arrr=np.array([1,2,3,4,5,6,7,8,9])\n",
    "arrr"
   ]
  },
  {
   "cell_type": "code",
   "execution_count": 384,
   "id": "25b28f8e-6cf1-4a54-8deb-fac3888ee1df",
   "metadata": {},
   "outputs": [
    {
     "data": {
      "text/plain": [
       "array([4, 5, 6])"
      ]
     },
     "execution_count": 384,
     "metadata": {},
     "output_type": "execute_result"
    }
   ],
   "source": [
    "arrr[3:6]"
   ]
  },
  {
   "cell_type": "code",
   "execution_count": 385,
   "id": "1c4f2c88-ac63-41bd-99c8-41773f5296d1",
   "metadata": {},
   "outputs": [
    {
     "data": {
      "text/plain": [
       "array([[1, 2, 3, 4, 5, 6],\n",
       "       [3, 4, 5, 6, 7, 8],\n",
       "       [1, 2, 4, 5, 6, 7]])"
      ]
     },
     "execution_count": 385,
     "metadata": {},
     "output_type": "execute_result"
    }
   ],
   "source": [
    "arr2"
   ]
  },
  {
   "cell_type": "code",
   "execution_count": 386,
   "id": "27369364-2808-4f5d-acc2-9e8811fa0937",
   "metadata": {},
   "outputs": [
    {
     "data": {
      "text/plain": [
       "array([[1, 3, 5],\n",
       "       [3, 5, 7],\n",
       "       [1, 4, 6]])"
      ]
     },
     "execution_count": 386,
     "metadata": {},
     "output_type": "execute_result"
    }
   ],
   "source": [
    "arr2[:,::2]"
   ]
  },
  {
   "cell_type": "code",
   "execution_count": 387,
   "id": "782782fc-a1af-4288-b66f-8ca8081c8c8c",
   "metadata": {},
   "outputs": [
    {
     "data": {
      "text/plain": [
       "array([[ 1,  2,  3,  4,  5,  6],\n",
       "       [ 7,  8,  9, 10, 11, 12],\n",
       "       [13, 14, 15, 16, 17, 18]])"
      ]
     },
     "execution_count": 387,
     "metadata": {},
     "output_type": "execute_result"
    }
   ],
   "source": [
    "thsix=np.array([[1,2,3,4,5,6],\n",
    "          [7,8,9,10,11,12],\n",
    "          [13,14,15,16,17,18]])\n",
    "thsix"
   ]
  },
  {
   "cell_type": "code",
   "execution_count": 388,
   "id": "af627bd0-0792-4348-ba23-f1aafeb37264",
   "metadata": {},
   "outputs": [
    {
     "data": {
      "text/plain": [
       "array([[ 1,  4],\n",
       "       [ 7, 10],\n",
       "       [13, 16]])"
      ]
     },
     "execution_count": 388,
     "metadata": {},
     "output_type": "execute_result"
    }
   ],
   "source": [
    "thsix[:,::3]"
   ]
  },
  {
   "cell_type": "code",
   "execution_count": 389,
   "id": "60de8848-34e5-467e-a668-675b465cb4f2",
   "metadata": {},
   "outputs": [
    {
     "data": {
      "text/plain": [
       "array([[ 3,  6],\n",
       "       [ 9, 12],\n",
       "       [15, 18]])"
      ]
     },
     "execution_count": 389,
     "metadata": {},
     "output_type": "execute_result"
    }
   ],
   "source": [
    "thsix[:,2::3]"
   ]
  },
  {
   "cell_type": "code",
   "execution_count": 390,
   "id": "907056ff-fc7c-4437-9da4-0df260e87a3e",
   "metadata": {},
   "outputs": [
    {
     "data": {
      "text/plain": [
       "array([[ 2,  5],\n",
       "       [ 8, 11],\n",
       "       [14, 17]])"
      ]
     },
     "execution_count": 390,
     "metadata": {},
     "output_type": "execute_result"
    }
   ],
   "source": [
    "thsix[:,1::3]"
   ]
  },
  {
   "cell_type": "code",
   "execution_count": 391,
   "id": "d12f0e4e-de44-47e9-aa8b-0237b5866015",
   "metadata": {},
   "outputs": [
    {
     "data": {
      "text/plain": [
       "array([[ 1,  2,  3,  4,  5,  6],\n",
       "       [ 7,  8,  9, 10, 11, 12],\n",
       "       [13, 14, 15, 16, 17, 18],\n",
       "       [19, 20, 21, 22, 23, 24]])"
      ]
     },
     "execution_count": 391,
     "metadata": {},
     "output_type": "execute_result"
    }
   ],
   "source": [
    "# 4 x 6\n",
    "fix=np.array([[1,2,3,4,5,6],[7,8,9,10,11,12],[13,14,15,16,17,18],[19,20,21,22,23,24]])\n",
    "fix"
   ]
  },
  {
   "cell_type": "code",
   "execution_count": 392,
   "id": "0eb1ee23-c774-4b23-a227-65f9fe06b7c1",
   "metadata": {},
   "outputs": [
    {
     "data": {
      "text/plain": [
       "(4, 6)"
      ]
     },
     "execution_count": 392,
     "metadata": {},
     "output_type": "execute_result"
    }
   ],
   "source": [
    "fix.shape"
   ]
  },
  {
   "cell_type": "code",
   "execution_count": 393,
   "id": "f6aaccb4-3b8b-4737-9dec-2dd10a6f9f9f",
   "metadata": {},
   "outputs": [
    {
     "data": {
      "text/plain": [
       "array([[ 7, 10],\n",
       "       [13, 16],\n",
       "       [19, 22]])"
      ]
     },
     "execution_count": 393,
     "metadata": {},
     "output_type": "execute_result"
    }
   ],
   "source": [
    "fix[1:,::3]"
   ]
  },
  {
   "cell_type": "markdown",
   "id": "9af9dffe-74f1-4e94-bde3-8c2a2b1ad044",
   "metadata": {},
   "source": [
    "# Data Types in Python\n",
    "By default Python have these data types:\n",
    "* strings - used to represent text data, the text is given under quote marks. Eg: \"ABCD\"\n",
    "* integer - used to represent integer numbers. Eg: -1, -2, -3\n",
    "* float - used to represent real numbers. Eg: 1.2, 42.42\n",
    "* boolean - used to represent True or False.\n",
    "* complex - used to represent complex numbers. Eg: 1.0 + 2.0j, 1.5 + 2.5j\n",
    "\n",
    "# Data Types in NumPy\n",
    "NumPy has some extra data types, and refer to data types with one character, like i for integers, u for unsigned integers etc.\n",
    "\n",
    "Below is a list of all data types in NumPy and the characters used to represent them.\n",
    "* i - integer\n",
    "* b - boolean\n",
    "* u - unsigned integer (i.e., zero and positive integers).astype(np.uint32)\n",
    "* f - float\n",
    "* c - complex float(Real+ imaginary part)\n",
    "* m - timedelta \n",
    "( The timedelta class in Python is part of the datetime module and represents the difference between two dates, times, or datetime objects. It is useful for performing arithmetic with date and time objects, such as adding or subtracting time intervals.)\n",
    "* M - datetime\n",
    "* O - object- (object data type is a general-purpose type that can hold any kind of data. It is often used in libraries like NumPy to handle heterogeneous data, such as arrays containing elements of different types or ragged arrays where sub-arrays have different lengths.)\n",
    "* S - string\n",
    "* U - unicode string\n",
    "\n",
    "\tIn Python 3.x and modern programming environments, strings are Unicode by default. This means that when you define a string in Python, it can contain characters from any language or symbol set supported by Unicode.\n",
    "\n",
    "\tStrings in these contexts can only represent characters from a limited set, often limited to the ASCII character set (128 characters).\n",
    "\n",
    "\tUnicode strings, on the other hand, are designed to handle text from all writing systems around the world.\n"
   ]
  },
  {
   "cell_type": "markdown",
   "id": "be9c2d0f-0a6e-403f-8c3e-39f1b031cc88",
   "metadata": {},
   "source": [
    "## Creating Arrays With a Defined Data Type\n",
    "\n",
    "* We use the array() function to create arrays, this function can take an optional argument: dtype that allows us to define the expected data type of the array elements\n"
   ]
  },
  {
   "cell_type": "code",
   "execution_count": 394,
   "id": "e18e26cc-0eea-42c0-9d6b-0fc919945b30",
   "metadata": {},
   "outputs": [],
   "source": [
    "arr1=np.array([1,2,3,4])"
   ]
  },
  {
   "cell_type": "code",
   "execution_count": 395,
   "id": "5a37c666-c638-420e-824b-98fc1d067686",
   "metadata": {},
   "outputs": [
    {
     "data": {
      "text/plain": [
       "array([1, 2, 3, 4])"
      ]
     },
     "execution_count": 395,
     "metadata": {},
     "output_type": "execute_result"
    }
   ],
   "source": [
    "arr1"
   ]
  },
  {
   "cell_type": "code",
   "execution_count": 396,
   "id": "0475288b-7845-452b-afbd-1f06a4edc3fe",
   "metadata": {},
   "outputs": [
    {
     "data": {
      "text/plain": [
       "dtype('int32')"
      ]
     },
     "execution_count": 396,
     "metadata": {},
     "output_type": "execute_result"
    }
   ],
   "source": [
    "arr1.dtype"
   ]
  },
  {
   "cell_type": "code",
   "execution_count": 397,
   "id": "fefdc6b0-cc1c-4c10-83f3-e6ee13a2e869",
   "metadata": {},
   "outputs": [
    {
     "data": {
      "text/plain": [
       "dtype('S1')"
      ]
     },
     "execution_count": 397,
     "metadata": {},
     "output_type": "execute_result"
    }
   ],
   "source": [
    "# Convert datatype to string\n",
    "arr1=np.array([1,2,3,4],dtype='S')\n",
    "arr1.dtype"
   ]
  },
  {
   "cell_type": "code",
   "execution_count": 398,
   "id": "3fb93979-10d3-4b28-a682-46626da3ae94",
   "metadata": {},
   "outputs": [
    {
     "data": {
      "text/plain": [
       "dtype('float32')"
      ]
     },
     "execution_count": 398,
     "metadata": {},
     "output_type": "execute_result"
    }
   ],
   "source": [
    "# Covert to float\n",
    "arr1=np.array([1,2,3,4],dtype='f')\n",
    "arr1.dtype"
   ]
  },
  {
   "cell_type": "markdown",
   "id": "d320b599-a165-4d60-99a4-61aedbe8266d",
   "metadata": {},
   "source": [
    "## Converting Data Type on Existing Arrays\n",
    "* The best way to change the data type of an existing array, is to make a copy of the array with the astype() method.\n",
    "* The astype() function creates a copy of the array, and allows you to specify the data type as a parameter.\n",
    "* The data type can be specified using a string, like 'f' for float, 'i' for integer etc. or you can use the data type directly like float for float and int for integer.\n"
   ]
  },
  {
   "cell_type": "code",
   "execution_count": 399,
   "id": "373934bf-87c9-4b5d-9625-54abf03a53e7",
   "metadata": {},
   "outputs": [
    {
     "name": "stdout",
     "output_type": "stream",
     "text": [
      "[1.  2.3 4.  5.6 8.  9.8]\n",
      "[1 2 4 5 8 9]\n",
      "int32\n"
     ]
    }
   ],
   "source": [
    "new=np.array([1,2.3,4,5.6,8,9.8])\n",
    "print(new)\n",
    "newarr=new.astype('i')\n",
    "print(newarr)\n",
    "print(newarr.dtype)"
   ]
  },
  {
   "cell_type": "markdown",
   "id": "5dd1a450-1012-4a17-b9ce-934b2040cdf5",
   "metadata": {},
   "source": [
    "## The Difference Between Copy and View\n",
    "* The main difference between a copy and a view of an array is that the copy is a new array, and the view is just a view of the original array.\n",
    "* The copy owns the data and any changes made to the copy will not affect original array, and any changes made to the original array will not affect the copy.\n",
    "* The view does not own the data and any changes made to the view will affect the original array, and any changes made to the original array will affect the view.\n"
   ]
  },
  {
   "cell_type": "markdown",
   "id": "9cf2e5fb-fcf5-4e43-b40f-ce50c5167836",
   "metadata": {},
   "source": [
    "## Copy"
   ]
  },
  {
   "cell_type": "code",
   "execution_count": 400,
   "id": "d9eb9458-52a9-42ab-baac-5eb05599c585",
   "metadata": {},
   "outputs": [],
   "source": [
    "arr=np.array([1,2,3,4,5])\n",
    "x=arr.copy()"
   ]
  },
  {
   "cell_type": "code",
   "execution_count": 401,
   "id": "bbd242d5-e79f-49a0-925b-d3830cbe28b9",
   "metadata": {},
   "outputs": [
    {
     "name": "stdout",
     "output_type": "stream",
     "text": [
      "[1 2 3 4 5]\n",
      "[1 2 3 4 5]\n"
     ]
    }
   ],
   "source": [
    "print(x)\n",
    "print(arr)"
   ]
  },
  {
   "cell_type": "code",
   "execution_count": 402,
   "id": "0f1f2d42-2f41-41cd-ac3a-fcafe900b748",
   "metadata": {},
   "outputs": [],
   "source": [
    "arr[0]=42"
   ]
  },
  {
   "cell_type": "code",
   "execution_count": 403,
   "id": "4519be95-937b-4629-8dfb-d2d28468611b",
   "metadata": {},
   "outputs": [
    {
     "name": "stdout",
     "output_type": "stream",
     "text": [
      "[1 2 3 4 5]\n",
      "[42  2  3  4  5]\n"
     ]
    }
   ],
   "source": [
    "print(x)\n",
    "print(arr)"
   ]
  },
  {
   "cell_type": "code",
   "execution_count": 404,
   "id": "e72958ca-05ba-414e-b85f-81cca21cd5d8",
   "metadata": {},
   "outputs": [],
   "source": [
    "n1=np.array([10,9,8,7,6,5])"
   ]
  },
  {
   "cell_type": "code",
   "execution_count": 405,
   "id": "8b01cc4e-ef0c-4e55-a3cd-6fd228658c7c",
   "metadata": {},
   "outputs": [],
   "source": [
    "n1[1]=32\n",
    "y=arr.copy()"
   ]
  },
  {
   "cell_type": "code",
   "execution_count": 406,
   "id": "2fb2a604-c957-4834-b07a-55f7ed53f856",
   "metadata": {},
   "outputs": [
    {
     "name": "stdout",
     "output_type": "stream",
     "text": [
      "[42  2  3  4  5]\n",
      "[42  2  3  4  5]\n"
     ]
    }
   ],
   "source": [
    "print(arr)\n",
    "print(y)"
   ]
  },
  {
   "cell_type": "markdown",
   "id": "0a38b2ef-4df9-4345-a08a-4902a3f7889d",
   "metadata": {},
   "source": [
    "## View"
   ]
  },
  {
   "cell_type": "code",
   "execution_count": 407,
   "id": "fc69c14f-06d8-458c-97cd-6104b474ae3e",
   "metadata": {},
   "outputs": [],
   "source": [
    "a=np.array([1,2,3,4,5,6])"
   ]
  },
  {
   "cell_type": "code",
   "execution_count": 408,
   "id": "4f6099d7-447c-4bb6-a96d-3481f753f45b",
   "metadata": {},
   "outputs": [
    {
     "name": "stdout",
     "output_type": "stream",
     "text": [
      "[1 2 3 4 5 6]\n"
     ]
    }
   ],
   "source": [
    "print(a)"
   ]
  },
  {
   "cell_type": "code",
   "execution_count": 409,
   "id": "cad97c91-2b2b-44dc-8f8a-71a6862c3e54",
   "metadata": {},
   "outputs": [],
   "source": [
    "v=a.view()"
   ]
  },
  {
   "cell_type": "code",
   "execution_count": 410,
   "id": "34594474-9736-4553-b942-40677ebb9568",
   "metadata": {},
   "outputs": [
    {
     "name": "stdout",
     "output_type": "stream",
     "text": [
      "[1 2 3 4 5 6]\n"
     ]
    }
   ],
   "source": [
    "print(v)"
   ]
  },
  {
   "cell_type": "code",
   "execution_count": 411,
   "id": "0c314bf9-9ca3-423e-a2a3-e39e93943ac4",
   "metadata": {},
   "outputs": [],
   "source": [
    "a[0]=42"
   ]
  },
  {
   "cell_type": "code",
   "execution_count": 412,
   "id": "c602cf2c-8a16-4b8c-bb05-fe60a4505eaa",
   "metadata": {},
   "outputs": [
    {
     "name": "stdout",
     "output_type": "stream",
     "text": [
      "[42  2  3  4  5  6]\n",
      "[42  2  3  4  5  6]\n"
     ]
    }
   ],
   "source": [
    "print(a)\n",
    "print(v)"
   ]
  },
  {
   "cell_type": "code",
   "execution_count": 413,
   "id": "61a7e758-e94a-49a8-ac72-463da4afd960",
   "metadata": {},
   "outputs": [],
   "source": [
    "v[2]=56"
   ]
  },
  {
   "cell_type": "code",
   "execution_count": 414,
   "id": "c642f0f3-b5c2-4c71-9467-780a2e273902",
   "metadata": {},
   "outputs": [
    {
     "name": "stdout",
     "output_type": "stream",
     "text": [
      "[42  2 56  4  5  6]\n",
      "[42  2 56  4  5  6]\n"
     ]
    }
   ],
   "source": [
    "print(v)\n",
    "print(a)"
   ]
  },
  {
   "cell_type": "markdown",
   "id": "75a37cde-7a7d-4278-b6d0-58030e110b33",
   "metadata": {},
   "source": [
    "## Check if Array Owns its Data\n",
    "* As mentioned above, copies own the data, and views does not own the data, but how can we check this?\n",
    "* Every NumPy array has the attribute base that returns None if the array owns the data.\n",
    "* Otherwise, the base  attribute refers to the original object.\n"
   ]
  },
  {
   "cell_type": "code",
   "execution_count": 415,
   "id": "15a03eae-363d-4ca0-b940-fb755f790b1e",
   "metadata": {},
   "outputs": [],
   "source": [
    "s=np.array([1,2,3,4,5,6,7,8])"
   ]
  },
  {
   "cell_type": "code",
   "execution_count": 416,
   "id": "ad889af8-1448-45d8-ab0f-702c621d6307",
   "metadata": {},
   "outputs": [],
   "source": [
    "x=s.copy()\n",
    "y=s.view()"
   ]
  },
  {
   "cell_type": "code",
   "execution_count": 417,
   "id": "79419d79-1f3f-410d-ae39-1d3c36739fbd",
   "metadata": {},
   "outputs": [
    {
     "name": "stdout",
     "output_type": "stream",
     "text": [
      "None\n",
      "[1 2 3 4 5 6 7 8]\n"
     ]
    }
   ],
   "source": [
    "print(x.base)\n",
    "print(y.base)"
   ]
  },
  {
   "cell_type": "markdown",
   "id": "8edd8ce0-e90d-4ca8-9ea1-6a5dc8cb63e3",
   "metadata": {},
   "source": [
    "* The copy returns None.\n",
    "* The view returns the original array.\n"
   ]
  },
  {
   "cell_type": "markdown",
   "id": "8f4b285e-954e-47c5-8fd2-4c1cd1af01f2",
   "metadata": {},
   "source": [
    "## Shape of an Array\n",
    "* The shape of an array is the number of elements in each dimension.\n",
    "* NumPy arrays have an attribute called shape that returns a tuple with each index having the number of corresponding elements.\n"
   ]
  },
  {
   "cell_type": "code",
   "execution_count": 418,
   "id": "6e91ba0b-ff64-4549-9ca7-5332c891a34e",
   "metadata": {},
   "outputs": [
    {
     "data": {
      "text/plain": [
       "array([[1, 2],\n",
       "       [6, 7],\n",
       "       [4, 5]])"
      ]
     },
     "execution_count": 418,
     "metadata": {},
     "output_type": "execute_result"
    }
   ],
   "source": [
    "# Create 3 x 2 matrix\n",
    "q=np.array([\n",
    "    [1,2],[6,7],\n",
    "    [4,5]\n",
    "])\n",
    "           \n",
    "q"
   ]
  },
  {
   "cell_type": "code",
   "execution_count": 419,
   "id": "4c050575-0f48-4589-8e43-34a1ae94f01c",
   "metadata": {},
   "outputs": [
    {
     "data": {
      "text/plain": [
       "(3, 2)"
      ]
     },
     "execution_count": 419,
     "metadata": {},
     "output_type": "execute_result"
    }
   ],
   "source": [
    "q.shape"
   ]
  },
  {
   "cell_type": "code",
   "execution_count": 420,
   "id": "7ce70f51-8b7e-497b-a39d-7ee94a34df8a",
   "metadata": {},
   "outputs": [
    {
     "data": {
      "text/plain": [
       "array([[1, 2, 3, 4],\n",
       "       [5, 6, 7, 8],\n",
       "       [1, 3, 5, 7],\n",
       "       [2, 4, 6, 8]])"
      ]
     },
     "execution_count": 420,
     "metadata": {},
     "output_type": "execute_result"
    }
   ],
   "source": [
    "four=np.array([[1,2,3,4],[5,6,7,8],[1,3,5,7],[2,4,6,8]])\n",
    "four"
   ]
  },
  {
   "cell_type": "code",
   "execution_count": 421,
   "id": "c98bfe88-1d49-462d-87c8-fbd14d2d47b4",
   "metadata": {},
   "outputs": [
    {
     "data": {
      "text/plain": [
       "(4, 4)"
      ]
     },
     "execution_count": 421,
     "metadata": {},
     "output_type": "execute_result"
    }
   ],
   "source": [
    "four.shape"
   ]
  },
  {
   "cell_type": "markdown",
   "id": "cfa997ab-4e2b-4190-a731-c96cb60970eb",
   "metadata": {},
   "source": [
    "## Check Dimension "
   ]
  },
  {
   "cell_type": "code",
   "execution_count": 422,
   "id": "f2ae369f-6a2b-412c-88a4-9988ed7c41d7",
   "metadata": {},
   "outputs": [
    {
     "data": {
      "text/plain": [
       "2"
      ]
     },
     "execution_count": 422,
     "metadata": {},
     "output_type": "execute_result"
    }
   ],
   "source": [
    "four.ndim"
   ]
  },
  {
   "cell_type": "markdown",
   "id": "ea9f7ef6-2cdf-4911-b95a-efe02b53868e",
   "metadata": {},
   "source": [
    "## Reshaping arrays\n",
    "* Reshaping means changing the shape of an array.\n",
    "* The shape of an array is the number of elements in each dimension.\n",
    "* By reshaping we can add or remove dimensions or change number of elements in each dimension.\n",
    "* Convert the following 1-D array with 12 elements into a 2-D array.\n",
    "* The outermost dimension will have 4 arrays, each with 3 elements\n"
   ]
  },
  {
   "cell_type": "code",
   "execution_count": 423,
   "id": "98f69f9c-3a85-4837-9526-216c2af65c30",
   "metadata": {},
   "outputs": [
    {
     "data": {
      "text/plain": [
       "array([[[[[1, 2, 3, 4],\n",
       "          [5, 6, 7, 8],\n",
       "          [1, 3, 5, 7],\n",
       "          [2, 4, 6, 8]]]]])"
      ]
     },
     "execution_count": 423,
     "metadata": {},
     "output_type": "execute_result"
    }
   ],
   "source": [
    "four=np.array([[1,2,3,4],[5,6,7,8],[1,3,5,7],[2,4,6,8]],ndmin=5)\n",
    "four"
   ]
  },
  {
   "cell_type": "code",
   "execution_count": 424,
   "id": "d7725bcf-84c4-4b38-8392-37c56b7abc4c",
   "metadata": {},
   "outputs": [
    {
     "data": {
      "text/plain": [
       "5"
      ]
     },
     "execution_count": 424,
     "metadata": {},
     "output_type": "execute_result"
    }
   ],
   "source": [
    "four.ndim"
   ]
  },
  {
   "cell_type": "code",
   "execution_count": 425,
   "id": "a4bd9fea-c9a1-4697-b7d0-49529d1ac47b",
   "metadata": {},
   "outputs": [
    {
     "data": {
      "text/plain": [
       "(1, 1, 1, 4, 4)"
      ]
     },
     "execution_count": 425,
     "metadata": {},
     "output_type": "execute_result"
    }
   ],
   "source": [
    "four.shape"
   ]
  },
  {
   "cell_type": "code",
   "execution_count": 426,
   "id": "6e516304-c51e-4586-8f68-cdeaff7654c1",
   "metadata": {},
   "outputs": [
    {
     "data": {
      "text/plain": [
       "array([[[ 1,  2,  3,  4,  5],\n",
       "        [ 6,  7,  8,  9, 10],\n",
       "        [11, 12, 13, 14, 15]],\n",
       "\n",
       "       [[16, 17, 18, 19, 20],\n",
       "        [21, 22, 23, 24, 25],\n",
       "        [26, 27, 28, 29, 30]]])"
      ]
     },
     "execution_count": 426,
     "metadata": {},
     "output_type": "execute_result"
    }
   ],
   "source": [
    "# 2  x 3 x 5\n",
    "two_three_five=np.array([\n",
    "    [[1,2,3,4,5],[6,7,8,9,10],[11,12,13,14,15]],\n",
    "    [[16,17,18,19,20],[21,22,23,24,25],[26,27,28,29,30]]\n",
    "])\n",
    "two_three_five"
   ]
  },
  {
   "cell_type": "code",
   "execution_count": 427,
   "id": "e8e07cf5-f070-4786-a788-6670ec942209",
   "metadata": {},
   "outputs": [
    {
     "data": {
      "text/plain": [
       "(2, 3, 5)"
      ]
     },
     "execution_count": 427,
     "metadata": {},
     "output_type": "execute_result"
    }
   ],
   "source": [
    "two_three_five.shape"
   ]
  },
  {
   "cell_type": "code",
   "execution_count": 428,
   "id": "75741148-d9c0-453a-90f2-256c886c2520",
   "metadata": {},
   "outputs": [
    {
     "data": {
      "text/plain": [
       "3"
      ]
     },
     "execution_count": 428,
     "metadata": {},
     "output_type": "execute_result"
    }
   ],
   "source": [
    "two_three_five.ndim"
   ]
  },
  {
   "cell_type": "code",
   "execution_count": 429,
   "id": "564c2f28-7d98-4e41-8682-11467b66a3ac",
   "metadata": {},
   "outputs": [
    {
     "data": {
      "text/plain": [
       "30"
      ]
     },
     "execution_count": 429,
     "metadata": {},
     "output_type": "execute_result"
    }
   ],
   "source": [
    "two_three_five.size"
   ]
  },
  {
   "cell_type": "code",
   "execution_count": 430,
   "id": "6fd98ce1-daa6-4c77-8b86-63cabdeb1394",
   "metadata": {},
   "outputs": [
    {
     "data": {
      "text/plain": [
       "array([ 1,  2,  3,  4,  5,  6,  7, 88,  9, 10])"
      ]
     },
     "execution_count": 430,
     "metadata": {},
     "output_type": "execute_result"
    }
   ],
   "source": [
    "oned=np.array([1,2,3,4,5,6,7,88,9,10])\n",
    "oned"
   ]
  },
  {
   "cell_type": "code",
   "execution_count": 431,
   "id": "abf09fdf-aeab-46f9-813a-8a6a59ee61a4",
   "metadata": {},
   "outputs": [
    {
     "name": "stdout",
     "output_type": "stream",
     "text": [
      "[[ 1  2]\n",
      " [ 3  4]\n",
      " [ 5  6]\n",
      " [ 7 88]\n",
      " [ 9 10]]\n"
     ]
    }
   ],
   "source": [
    "newarr=oned.reshape(5,2)\n",
    "print(newarr)"
   ]
  },
  {
   "cell_type": "code",
   "execution_count": 432,
   "id": "880562b8-2ace-488c-90d7-ce83a0759caf",
   "metadata": {},
   "outputs": [
    {
     "name": "stdout",
     "output_type": "stream",
     "text": [
      "[[[ 1  2  3  4  5]]\n",
      "\n",
      " [[ 6  7 88  9 10]]]\n"
     ]
    }
   ],
   "source": [
    "newarr1=oned.reshape(2,1,5)\n",
    "print(newarr1)"
   ]
  },
  {
   "cell_type": "code",
   "execution_count": 433,
   "id": "f669ed40-0e2e-4c64-97a1-acc73d8a5f8b",
   "metadata": {},
   "outputs": [
    {
     "data": {
      "text/plain": [
       "array([ 1,  2,  3,  4,  5,  6,  7, 88,  9, 10])"
      ]
     },
     "execution_count": 433,
     "metadata": {},
     "output_type": "execute_result"
    }
   ],
   "source": [
    "newarr1.base"
   ]
  },
  {
   "cell_type": "code",
   "execution_count": 434,
   "id": "77930c16-0738-43b3-aa66-34bc00d51c32",
   "metadata": {},
   "outputs": [
    {
     "data": {
      "text/plain": [
       "array([1, 2, 3, 4])"
      ]
     },
     "execution_count": 434,
     "metadata": {},
     "output_type": "execute_result"
    }
   ],
   "source": [
    "onedi=np.array([1,2,3,4])\n",
    "onedi"
   ]
  },
  {
   "cell_type": "code",
   "execution_count": 435,
   "id": "e2753a3f-4c07-411c-adcc-d01d4b464a05",
   "metadata": {},
   "outputs": [
    {
     "data": {
      "text/plain": [
       "array([[[[[[1, 2, 3, 4]]]]]])"
      ]
     },
     "execution_count": 435,
     "metadata": {},
     "output_type": "execute_result"
    }
   ],
   "source": [
    "onedi=np.array([1,2,3,4],ndmin=6)\n",
    "onedi"
   ]
  },
  {
   "cell_type": "markdown",
   "id": "017668d7-f52f-4a2a-a695-93f0909e6cb2",
   "metadata": {},
   "source": [
    "## Flattening the arrays\n",
    "\n",
    "•\tFlattening array means converting a multidimensional array into a 1D array.\n",
    "    \n",
    "•\tWe can use reshape(-1) to do this.\n",
    "    \n"
   ]
  },
  {
   "cell_type": "code",
   "execution_count": 436,
   "id": "c8104d19-bf1a-4870-929a-5c4f928017ad",
   "metadata": {},
   "outputs": [
    {
     "data": {
      "text/plain": [
       "array([ 1,  2,  3,  4,  5,  6,  7,  8,  9, 10, 11, 12, 13, 14, 15, 16, 17,\n",
       "       18, 19, 20, 21, 22, 23, 24, 25, 26, 27, 28, 29, 30])"
      ]
     },
     "execution_count": 436,
     "metadata": {},
     "output_type": "execute_result"
    }
   ],
   "source": [
    "flt=two_three_five.reshape(-1)\n",
    "flt"
   ]
  },
  {
   "cell_type": "markdown",
   "id": "017c35b7-cdde-4e27-8340-cd7dee05d22a",
   "metadata": {},
   "source": [
    "# Other functions that commonly used for array creation"
   ]
  },
  {
   "cell_type": "markdown",
   "id": "64c10f40-630c-4b4e-a539-2092f0772c68",
   "metadata": {},
   "source": [
    "## 1.\tArange():\n",
    "•\tnumpy.arange: Create an array with a range of values.\n"
   ]
  },
  {
   "cell_type": "code",
   "execution_count": 437,
   "id": "9cd37565-308d-421a-9712-179129d76e78",
   "metadata": {},
   "outputs": [
    {
     "name": "stdout",
     "output_type": "stream",
     "text": [
      "[0 1 2 3 4 5 6 7 8 9]\n"
     ]
    }
   ],
   "source": [
    "arr=np.arange(0,10)\n",
    "print(arr)"
   ]
  },
  {
   "cell_type": "code",
   "execution_count": 438,
   "id": "814e612e-2be5-4272-93c8-3e66e01bd767",
   "metadata": {},
   "outputs": [
    {
     "data": {
      "text/plain": [
       "array([0, 2, 4, 6, 8])"
      ]
     },
     "execution_count": 438,
     "metadata": {},
     "output_type": "execute_result"
    }
   ],
   "source": [
    "arr1=np.arange(0,10,2)\n",
    "arr1"
   ]
  },
  {
   "cell_type": "code",
   "execution_count": 439,
   "id": "dc3d6958-c073-4b58-ad8b-816c7b692f37",
   "metadata": {},
   "outputs": [
    {
     "data": {
      "text/plain": [
       "array([0, 3, 6, 9])"
      ]
     },
     "execution_count": 439,
     "metadata": {},
     "output_type": "execute_result"
    }
   ],
   "source": [
    "arr2=np.arange(0,10,3)\n",
    "arr2"
   ]
  },
  {
   "cell_type": "code",
   "execution_count": 440,
   "id": "5758a962-43b1-4384-a7ef-6a323ca25bc9",
   "metadata": {},
   "outputs": [
    {
     "data": {
      "text/plain": [
       "array([[ 0,  1,  2,  3,  4],\n",
       "       [ 5,  6,  7,  8,  9],\n",
       "       [10, 11, 12, 13, 14],\n",
       "       [15, 16, 17, 18, 19],\n",
       "       [20, 21, 22, 23, 24],\n",
       "       [25, 26, 27, 28, 29],\n",
       "       [30, 31, 32, 33, 34],\n",
       "       [35, 36, 37, 38, 39],\n",
       "       [40, 41, 42, 43, 44],\n",
       "       [45, 46, 47, 48, 49]])"
      ]
     },
     "execution_count": 440,
     "metadata": {},
     "output_type": "execute_result"
    }
   ],
   "source": [
    "arr3=np.arange(0,50)\n",
    "arr3_reshape=arr3.reshape(10,5)\n",
    "arr3_reshape"
   ]
  },
  {
   "cell_type": "markdown",
   "id": "16ea2303-acfa-4607-aaba-68160c50462a",
   "metadata": {},
   "source": [
    "## 2.\tOnes() :\n",
    "•\tThe numpy.ones function is used to create an array filled with ones. You can specify the shape and data type of the array.\n",
    "\n"
   ]
  },
  {
   "cell_type": "code",
   "execution_count": 441,
   "id": "548f4034-5d95-4a48-8e0c-060de110f992",
   "metadata": {},
   "outputs": [
    {
     "data": {
      "text/plain": [
       "array([1, 1, 1, 1, 1], dtype=int32)"
      ]
     },
     "execution_count": 441,
     "metadata": {},
     "output_type": "execute_result"
    }
   ],
   "source": [
    "ar=np.ones(5,dtype='i')\n",
    "ar"
   ]
  },
  {
   "cell_type": "code",
   "execution_count": 442,
   "id": "878ffcab-e26c-45a0-88d1-ca53c9ba068c",
   "metadata": {},
   "outputs": [
    {
     "data": {
      "text/plain": [
       "array([[1, 1, 1, 1],\n",
       "       [1, 1, 1, 1],\n",
       "       [1, 1, 1, 1]])"
      ]
     },
     "execution_count": 442,
     "metadata": {},
     "output_type": "execute_result"
    }
   ],
   "source": [
    "arr4=np.ones((3,4),dtype=int)\n",
    "arr4"
   ]
  },
  {
   "cell_type": "code",
   "execution_count": 443,
   "id": "6e5150b6-965f-424b-8119-f7bfba667b89",
   "metadata": {},
   "outputs": [
    {
     "data": {
      "text/plain": [
       "array([[[1, 1, 1],\n",
       "        [1, 1, 1],\n",
       "        [1, 1, 1]],\n",
       "\n",
       "       [[1, 1, 1],\n",
       "        [1, 1, 1],\n",
       "        [1, 1, 1]]], dtype=int32)"
      ]
     },
     "execution_count": 443,
     "metadata": {},
     "output_type": "execute_result"
    }
   ],
   "source": [
    "arr5=np.ones((2,3,3),dtype='i')\n",
    "arr5"
   ]
  },
  {
   "cell_type": "markdown",
   "id": "98ec1ddf-7adc-49c2-97e8-20be4583cf45",
   "metadata": {},
   "source": [
    "#### Default is float"
   ]
  },
  {
   "cell_type": "code",
   "execution_count": 444,
   "id": "dc5fe054-ee36-4699-bcb7-5ff08bcd9319",
   "metadata": {},
   "outputs": [
    {
     "data": {
      "text/plain": [
       "array([[[1., 1., 1.],\n",
       "        [1., 1., 1.]],\n",
       "\n",
       "       [[1., 1., 1.],\n",
       "        [1., 1., 1.]]])"
      ]
     },
     "execution_count": 444,
     "metadata": {},
     "output_type": "execute_result"
    }
   ],
   "source": [
    "arr6=np.ones((2,2,3))\n",
    "arr6"
   ]
  },
  {
   "cell_type": "markdown",
   "id": "ce1cddb5-a2bb-4a81-9fa6-9674fc2b8900",
   "metadata": {},
   "source": [
    "## 3.\tZeros():\n",
    "•\tThe numpy.zeros function is used to create an array filled with zeros. Similar to numpy.ones, you can specify the shape and data type of the array.\n"
   ]
  },
  {
   "cell_type": "code",
   "execution_count": 445,
   "id": "0b225002-3d32-49a2-958d-31d36189df61",
   "metadata": {},
   "outputs": [
    {
     "data": {
      "text/plain": [
       "array([[0, 0, 0],\n",
       "       [0, 0, 0]], dtype=int32)"
      ]
     },
     "execution_count": 445,
     "metadata": {},
     "output_type": "execute_result"
    }
   ],
   "source": [
    "arr7=np.zeros((2,3),dtype='i')\n",
    "arr7"
   ]
  },
  {
   "cell_type": "code",
   "execution_count": 446,
   "id": "c95fc61c-8ec9-4dec-8951-31357e5638e1",
   "metadata": {},
   "outputs": [
    {
     "data": {
      "text/plain": [
       "array([[[0., 0., 0., 0.],\n",
       "        [0., 0., 0., 0.],\n",
       "        [0., 0., 0., 0.]],\n",
       "\n",
       "       [[0., 0., 0., 0.],\n",
       "        [0., 0., 0., 0.],\n",
       "        [0., 0., 0., 0.]]])"
      ]
     },
     "execution_count": 446,
     "metadata": {},
     "output_type": "execute_result"
    }
   ],
   "source": [
    "arr8=np.zeros((2,3,4))\n",
    "arr8"
   ]
  },
  {
   "cell_type": "code",
   "execution_count": 447,
   "id": "74c730f7-d116-4c49-b7e8-4c0faa38df71",
   "metadata": {},
   "outputs": [
    {
     "data": {
      "text/plain": [
       "array([0, 0, 0, 0], dtype=int32)"
      ]
     },
     "execution_count": 447,
     "metadata": {},
     "output_type": "execute_result"
    }
   ],
   "source": [
    "arr9=np.zeros(4,dtype='i')\n",
    "arr9"
   ]
  },
  {
   "cell_type": "markdown",
   "id": "4e21b91b-2b34-4183-93a5-609367fcf6b0",
   "metadata": {},
   "source": [
    "## 4.\tLinspace():\n",
    "•\tnumpy.linspace: Create an array with linearly spaced values.\n"
   ]
  },
  {
   "cell_type": "code",
   "execution_count": 448,
   "id": "67a2df8e-8ad2-4e8c-8ecb-97e50b069f61",
   "metadata": {},
   "outputs": [
    {
     "data": {
      "text/plain": [
       "array([0.  , 0.25, 0.5 , 0.75, 1.  ])"
      ]
     },
     "execution_count": 448,
     "metadata": {},
     "output_type": "execute_result"
    }
   ],
   "source": [
    "arr=np.linspace(0,1,5)\n",
    "arr"
   ]
  },
  {
   "cell_type": "code",
   "execution_count": 449,
   "id": "195b5d31-1210-479b-967a-714d9ed0de57",
   "metadata": {},
   "outputs": [
    {
     "data": {
      "text/plain": [
       "array([ 0. , 12.5, 25. , 37.5, 50. ])"
      ]
     },
     "execution_count": 449,
     "metadata": {},
     "output_type": "execute_result"
    }
   ],
   "source": [
    "arr1=np.linspace(0,50,5)\n",
    "arr1"
   ]
  },
  {
   "cell_type": "code",
   "execution_count": 450,
   "id": "0c5e0d38-e0d9-4fe2-b660-59d589d642f9",
   "metadata": {},
   "outputs": [
    {
     "data": {
      "text/plain": [
       "array([ 1., 10.])"
      ]
     },
     "execution_count": 450,
     "metadata": {},
     "output_type": "execute_result"
    }
   ],
   "source": [
    "arr2=np.linspace(1,10,2)\n",
    "arr2"
   ]
  },
  {
   "cell_type": "markdown",
   "id": "2cce6051-9f14-49c1-8287-f248570f193f",
   "metadata": {},
   "source": [
    "## 5.\tdiag():\n",
    "•\tThe numpy.diag function is used to extract or construct a diagonal array.\n"
   ]
  },
  {
   "cell_type": "code",
   "execution_count": 451,
   "id": "defc1cce-bac7-45ab-830e-61320efed448",
   "metadata": {},
   "outputs": [
    {
     "data": {
      "text/plain": [
       "array([[2, 0, 0, 0],\n",
       "       [0, 4, 0, 0],\n",
       "       [0, 0, 6, 0],\n",
       "       [0, 0, 0, 8]])"
      ]
     },
     "execution_count": 451,
     "metadata": {},
     "output_type": "execute_result"
    }
   ],
   "source": [
    "arr2=np.diag([2,4,6,8])\n",
    "arr2"
   ]
  },
  {
   "cell_type": "markdown",
   "id": "60087ca0-b285-4961-9bfd-32a5158a39f2",
   "metadata": {},
   "source": [
    "## 6.\teye():\n",
    "•\tnumpy.eye: Create a 2-D array with ones on the diagonal and zeros elsewhere.\n"
   ]
  },
  {
   "cell_type": "code",
   "execution_count": 452,
   "id": "65ef8bd1-154e-432a-b10d-13a38a1884f3",
   "metadata": {},
   "outputs": [
    {
     "data": {
      "text/plain": [
       "array([[1, 0, 0],\n",
       "       [0, 1, 0],\n",
       "       [0, 0, 1]], dtype=int32)"
      ]
     },
     "execution_count": 452,
     "metadata": {},
     "output_type": "execute_result"
    }
   ],
   "source": [
    "arr3=np.eye(3,dtype='i')\n",
    "arr3"
   ]
  },
  {
   "cell_type": "markdown",
   "id": "950db8e5-addd-49c6-96b1-68686343f1b7",
   "metadata": {},
   "source": [
    "# Mathematical Operations"
   ]
  },
  {
   "cell_type": "markdown",
   "id": "c382663c-e160-4eec-a095-b7a619b93f6e",
   "metadata": {},
   "source": [
    "##  1) numpy.add: \n",
    "\n",
    "Add two arrays element-wise."
   ]
  },
  {
   "cell_type": "code",
   "execution_count": 453,
   "id": "f8eb711b-a32f-46a7-a67f-a0b6623c57ac",
   "metadata": {},
   "outputs": [
    {
     "data": {
      "text/plain": [
       "array([[20, 21, 22, 23, 24],\n",
       "       [25, 26, 27, 28, 29],\n",
       "       [30, 31, 32, 33, 34]])"
      ]
     },
     "execution_count": 453,
     "metadata": {},
     "output_type": "execute_result"
    }
   ],
   "source": [
    "arange=np.arange(20,35)\n",
    "reshape=arange.reshape(3,5)\n",
    "reshape"
   ]
  },
  {
   "cell_type": "code",
   "execution_count": 454,
   "id": "abb9c728-cacd-417e-ad2d-3e9eef52dd76",
   "metadata": {},
   "outputs": [
    {
     "data": {
      "text/plain": [
       "array([ 0,  1,  2,  3,  4,  5,  6,  7,  8,  9, 10, 11, 12, 13, 14])"
      ]
     },
     "execution_count": 454,
     "metadata": {},
     "output_type": "execute_result"
    }
   ],
   "source": [
    "ss=np.arange(0,15)\n",
    "ss"
   ]
  },
  {
   "cell_type": "code",
   "execution_count": 455,
   "id": "6c3f4dbd-bb31-4327-87d9-43d35c22ae0b",
   "metadata": {},
   "outputs": [
    {
     "data": {
      "text/plain": [
       "array([20, 22, 24, 26, 28, 30, 32, 34, 36, 38, 40, 42, 44, 46, 48])"
      ]
     },
     "execution_count": 455,
     "metadata": {},
     "output_type": "execute_result"
    }
   ],
   "source": [
    "adding=np.add(arange,ss)\n",
    "adding"
   ]
  },
  {
   "cell_type": "markdown",
   "id": "b94f6679-2866-468f-9f1f-6fa3826a00b1",
   "metadata": {},
   "source": [
    "##  2) numpy.subtract: \n",
    "\n",
    "Subtract one array from another element-wise."
   ]
  },
  {
   "cell_type": "code",
   "execution_count": 456,
   "id": "f885a61b-9a6b-479e-84e9-f052954e74ae",
   "metadata": {},
   "outputs": [
    {
     "data": {
      "text/plain": [
       "array([20, 20, 20, 20, 20, 20, 20, 20, 20, 20, 20, 20, 20, 20, 20])"
      ]
     },
     "execution_count": 456,
     "metadata": {},
     "output_type": "execute_result"
    }
   ],
   "source": [
    "substract=np.subtract(arange,ss)\n",
    "substract"
   ]
  },
  {
   "cell_type": "markdown",
   "id": "7037c3db-42b3-4c8f-9316-4346ea115014",
   "metadata": {},
   "source": [
    "##  3) numpy.multiply: \n",
    "\n",
    "Multiply two arrays element-wise."
   ]
  },
  {
   "cell_type": "code",
   "execution_count": 457,
   "id": "65f4192b-3968-412a-b4d6-0749dc5c89f3",
   "metadata": {},
   "outputs": [
    {
     "data": {
      "text/plain": [
       "array([  0,  21,  44,  69,  96, 125, 156, 189, 224, 261, 300, 341, 384,\n",
       "       429, 476])"
      ]
     },
     "execution_count": 457,
     "metadata": {},
     "output_type": "execute_result"
    }
   ],
   "source": [
    "multiply=np.multiply(arange,ss)\n",
    "multiply"
   ]
  },
  {
   "cell_type": "markdown",
   "id": "77d2eb0a-fe96-49b0-b055-177f9ed1eb2e",
   "metadata": {},
   "source": [
    "##  4) numpy.dot: \n",
    "\n",
    "Dot product of two arrays."
   ]
  },
  {
   "cell_type": "code",
   "execution_count": 458,
   "id": "6c7e5a73-995a-47c0-b2b6-3bdddee9cde0",
   "metadata": {},
   "outputs": [
    {
     "data": {
      "text/plain": [
       "3115"
      ]
     },
     "execution_count": 458,
     "metadata": {},
     "output_type": "execute_result"
    }
   ],
   "source": [
    "dot=np.dot(arange,ss)\n",
    "dot"
   ]
  },
  {
   "cell_type": "markdown",
   "id": "53e965ca-f543-4428-bc41-0a71030ffb72",
   "metadata": {},
   "source": [
    "##  5) numpy.sum: \n",
    "\n",
    "Sum of array elements."
   ]
  },
  {
   "cell_type": "code",
   "execution_count": 459,
   "id": "1bd20e72-6fcf-461f-b541-7021739947cb",
   "metadata": {},
   "outputs": [
    {
     "data": {
      "text/plain": [
       "405"
      ]
     },
     "execution_count": 459,
     "metadata": {},
     "output_type": "execute_result"
    }
   ],
   "source": [
    "sum=np.sum(arange)\n",
    "sum"
   ]
  },
  {
   "cell_type": "markdown",
   "id": "208df30b-abc7-4566-92b4-76d2f72b2047",
   "metadata": {},
   "source": [
    "##  6) numpy.mean: \n",
    "\n",
    "Mean of array elements"
   ]
  },
  {
   "cell_type": "code",
   "execution_count": 460,
   "id": "d358b0e0-4978-4ac5-a802-a9745cda2b59",
   "metadata": {},
   "outputs": [
    {
     "data": {
      "text/plain": [
       "27.0"
      ]
     },
     "execution_count": 460,
     "metadata": {},
     "output_type": "execute_result"
    }
   ],
   "source": [
    "mean=np.mean(arange)\n",
    "mean"
   ]
  },
  {
   "cell_type": "markdown",
   "id": "84be7766-64fd-4875-ad6d-237f12c3ce4e",
   "metadata": {},
   "source": [
    "##  7) numpy.std: \n",
    "\n",
    "Standard deviation of array elements."
   ]
  },
  {
   "cell_type": "code",
   "execution_count": 461,
   "id": "db0493da-36c3-4f9b-82ce-97118c1b2d7e",
   "metadata": {},
   "outputs": [
    {
     "data": {
      "text/plain": [
       "4.320493798938574"
      ]
     },
     "execution_count": 461,
     "metadata": {},
     "output_type": "execute_result"
    }
   ],
   "source": [
    "std=np.std(arange)\n",
    "std"
   ]
  },
  {
   "cell_type": "markdown",
   "id": "14fdd663-f484-4d94-bee7-7fdd654b01e8",
   "metadata": {},
   "source": [
    "##  8) Variance (np.var): \n",
    "\n",
    "Calculates the variance of the elements in the array."
   ]
  },
  {
   "cell_type": "code",
   "execution_count": 462,
   "id": "449964c1-f0a7-448e-9998-a6da1120d0e5",
   "metadata": {},
   "outputs": [
    {
     "data": {
      "text/plain": [
       "18.666666666666668"
      ]
     },
     "execution_count": 462,
     "metadata": {},
     "output_type": "execute_result"
    }
   ],
   "source": [
    "variance=np.var(arange)\n",
    "variance"
   ]
  },
  {
   "cell_type": "markdown",
   "id": "53d848dc-62fc-4649-a602-8f3f12348ada",
   "metadata": {},
   "source": [
    "##  9) numpy.max: \n",
    "\n",
    "Maximum value in an array."
   ]
  },
  {
   "cell_type": "code",
   "execution_count": 463,
   "id": "2bf9726c-cb67-4d79-a19e-5018516fc82d",
   "metadata": {},
   "outputs": [
    {
     "data": {
      "text/plain": [
       "34"
      ]
     },
     "execution_count": 463,
     "metadata": {},
     "output_type": "execute_result"
    }
   ],
   "source": [
    "max=np.max(arange)\n",
    "max"
   ]
  },
  {
   "cell_type": "markdown",
   "id": "3e4496ae-be5f-4195-a7eb-66ae75baa57d",
   "metadata": {},
   "source": [
    "##  10) numpy.min: \n",
    "\n",
    "Minimum value in an array."
   ]
  },
  {
   "cell_type": "code",
   "execution_count": 464,
   "id": "a922ef84-f779-4f91-8e4a-c156e3edea82",
   "metadata": {},
   "outputs": [
    {
     "data": {
      "text/plain": [
       "20"
      ]
     },
     "execution_count": 464,
     "metadata": {},
     "output_type": "execute_result"
    }
   ],
   "source": [
    "minimum=np.min(arange)\n",
    "minimum"
   ]
  },
  {
   "cell_type": "code",
   "execution_count": 465,
   "id": "1c0d28d0-f99d-43dd-a916-88c14e190567",
   "metadata": {},
   "outputs": [
    {
     "data": {
      "text/plain": [
       "array([  0.        ,  14.28571429,  28.57142857,  42.85714286,\n",
       "        57.14285714,  71.42857143,  85.71428571, 100.        ])"
      ]
     },
     "execution_count": 465,
     "metadata": {},
     "output_type": "execute_result"
    }
   ],
   "source": [
    "arr=np.linspace(0,100,8)\n",
    "arr"
   ]
  },
  {
   "cell_type": "code",
   "execution_count": 466,
   "id": "8ca48623-d209-4a7e-b5f6-b30ccba86fab",
   "metadata": {},
   "outputs": [
    {
     "data": {
      "text/plain": [
       "array([[  0.        ,  14.28571429],\n",
       "       [ 28.57142857,  42.85714286],\n",
       "       [ 57.14285714,  71.42857143],\n",
       "       [ 85.71428571, 100.        ]])"
      ]
     },
     "execution_count": 466,
     "metadata": {},
     "output_type": "execute_result"
    }
   ],
   "source": [
    "arr_re=arr.reshape(4,2)\n",
    "arr_re"
   ]
  },
  {
   "cell_type": "code",
   "execution_count": 467,
   "id": "11f0040e-86e7-4b73-8307-e13084ae3793",
   "metadata": {},
   "outputs": [
    {
     "data": {
      "text/plain": [
       "array([  0.        ,  14.28571429,  28.57142857,  42.85714286,\n",
       "        57.14285714,  71.42857143,  85.71428571, 100.        ])"
      ]
     },
     "execution_count": 467,
     "metadata": {},
     "output_type": "execute_result"
    }
   ],
   "source": [
    "flatten=arr_re.reshape(-1)\n",
    "flatten"
   ]
  },
  {
   "cell_type": "code",
   "execution_count": 468,
   "id": "05641f9d-060c-4c6e-9efe-a61839bed61d",
   "metadata": {},
   "outputs": [
    {
     "data": {
      "text/plain": [
       "400.00000000000006"
      ]
     },
     "execution_count": 468,
     "metadata": {},
     "output_type": "execute_result"
    }
   ],
   "source": [
    "flatten_sum=np.sum(flatten)\n",
    "flatten_sum"
   ]
  },
  {
   "cell_type": "code",
   "execution_count": 469,
   "id": "e7a420cc-aa62-4e9f-8f73-d696f71d8b8f",
   "metadata": {},
   "outputs": [
    {
     "data": {
      "text/plain": [
       "100.0"
      ]
     },
     "execution_count": 469,
     "metadata": {},
     "output_type": "execute_result"
    }
   ],
   "source": [
    "flatten_max=np.max(flatten)\n",
    "flatten_max"
   ]
  },
  {
   "cell_type": "code",
   "execution_count": 470,
   "id": "4064d29e-7e54-4a6d-8f06-480658c2c837",
   "metadata": {},
   "outputs": [
    {
     "data": {
      "text/plain": [
       "0.0"
      ]
     },
     "execution_count": 470,
     "metadata": {},
     "output_type": "execute_result"
    }
   ],
   "source": [
    "flatten_min=np.min(flatten)\n",
    "flatten_min"
   ]
  },
  {
   "cell_type": "code",
   "execution_count": 471,
   "id": "a1815c6f-b50c-462f-be69-e827d1375a72",
   "metadata": {},
   "outputs": [
    {
     "data": {
      "text/plain": [
       "50.00000000000001"
      ]
     },
     "execution_count": 471,
     "metadata": {},
     "output_type": "execute_result"
    }
   ],
   "source": [
    "flatten_mean=np.mean(flatten)\n",
    "flatten_mean"
   ]
  },
  {
   "cell_type": "code",
   "execution_count": 472,
   "id": "0cb911fc-0879-4c44-adbf-6d7ecc497a41",
   "metadata": {},
   "outputs": [
    {
     "data": {
      "text/plain": [
       "32.732683535398856"
      ]
     },
     "execution_count": 472,
     "metadata": {},
     "output_type": "execute_result"
    }
   ],
   "source": [
    "flatten_std=np.std(flatten)\n",
    "flatten_std"
   ]
  },
  {
   "cell_type": "code",
   "execution_count": 473,
   "id": "fcedd3f5-5569-4d39-9a65-2016baeea017",
   "metadata": {},
   "outputs": [
    {
     "data": {
      "text/plain": [
       "1071.4285714285716"
      ]
     },
     "execution_count": 473,
     "metadata": {},
     "output_type": "execute_result"
    }
   ],
   "source": [
    "flatten_var=np.var(flatten)\n",
    "flatten_var"
   ]
  },
  {
   "cell_type": "code",
   "execution_count": 474,
   "id": "d2e3f090-53db-41cd-b92a-8aefa3792daf",
   "metadata": {},
   "outputs": [
    {
     "data": {
      "text/plain": [
       "array([[[ 0,  1,  2],\n",
       "        [ 3,  4,  5],\n",
       "        [ 6,  7,  8]],\n",
       "\n",
       "       [[ 9, 10, 11],\n",
       "        [12, 13, 14],\n",
       "        [15, 16, 17]]])"
      ]
     },
     "execution_count": 474,
     "metadata": {},
     "output_type": "execute_result"
    }
   ],
   "source": [
    "arr=np.arange(0,18)\n",
    "three=arr.reshape(2,3,3)\n",
    "three"
   ]
  },
  {
   "cell_type": "code",
   "execution_count": 475,
   "id": "70707473-1093-46a3-8b5f-27c9def2c01a",
   "metadata": {},
   "outputs": [
    {
     "data": {
      "text/plain": [
       "array([ 0,  1,  2,  3,  4,  5,  6,  7,  8,  9, 10, 11, 12, 13, 14, 15, 16,\n",
       "       17])"
      ]
     },
     "execution_count": 475,
     "metadata": {},
     "output_type": "execute_result"
    }
   ],
   "source": [
    "one=three.reshape(-1)\n",
    "one"
   ]
  },
  {
   "cell_type": "code",
   "execution_count": 476,
   "id": "7f6f1a65-3130-4add-9d3c-a7093f399d4f",
   "metadata": {},
   "outputs": [
    {
     "data": {
      "text/plain": [
       "(18,)"
      ]
     },
     "execution_count": 476,
     "metadata": {},
     "output_type": "execute_result"
    }
   ],
   "source": [
    "one.shape"
   ]
  },
  {
   "cell_type": "code",
   "execution_count": 477,
   "id": "5647fff0-f068-4725-852e-a969a9fcf67e",
   "metadata": {},
   "outputs": [
    {
     "data": {
      "text/plain": [
       "18"
      ]
     },
     "execution_count": 477,
     "metadata": {},
     "output_type": "execute_result"
    }
   ],
   "source": [
    "one.size"
   ]
  },
  {
   "cell_type": "code",
   "execution_count": 478,
   "id": "ad4d7094-6395-4dd3-8d39-66e3094b553c",
   "metadata": {},
   "outputs": [
    {
     "data": {
      "text/plain": [
       "8.5"
      ]
     },
     "execution_count": 478,
     "metadata": {},
     "output_type": "execute_result"
    }
   ],
   "source": [
    "mean=np.mean(one)\n",
    "mean"
   ]
  },
  {
   "cell_type": "code",
   "execution_count": 479,
   "id": "4e91e131-5f35-4e58-9ee1-668611234a68",
   "metadata": {},
   "outputs": [
    {
     "data": {
      "text/plain": [
       "153"
      ]
     },
     "execution_count": 479,
     "metadata": {},
     "output_type": "execute_result"
    }
   ],
   "source": [
    "sum=np.sum(one)\n",
    "sum"
   ]
  },
  {
   "cell_type": "code",
   "execution_count": 480,
   "id": "78e77018-5269-43bf-af4a-1c0b9ca9a3bb",
   "metadata": {},
   "outputs": [
    {
     "data": {
      "text/plain": [
       "5.188127472091127"
      ]
     },
     "execution_count": 480,
     "metadata": {},
     "output_type": "execute_result"
    }
   ],
   "source": [
    "std=np.std(one)\n",
    "std"
   ]
  },
  {
   "cell_type": "code",
   "execution_count": 481,
   "id": "94bfc0ee-9336-4996-a539-ce070b30e5d4",
   "metadata": {},
   "outputs": [
    {
     "data": {
      "text/plain": [
       "26.916666666666668"
      ]
     },
     "execution_count": 481,
     "metadata": {},
     "output_type": "execute_result"
    }
   ],
   "source": [
    "var=np.var(one)\n",
    "var"
   ]
  },
  {
   "cell_type": "code",
   "execution_count": 482,
   "id": "b80f9387-7ff9-48bf-8041-525636a7b49e",
   "metadata": {},
   "outputs": [
    {
     "data": {
      "text/plain": [
       "17"
      ]
     },
     "execution_count": 482,
     "metadata": {},
     "output_type": "execute_result"
    }
   ],
   "source": [
    "max=np.max(one)\n",
    "max"
   ]
  },
  {
   "cell_type": "code",
   "execution_count": 483,
   "id": "e96e3b6c-cd68-452d-a8a3-fd756d8fc79a",
   "metadata": {},
   "outputs": [
    {
     "data": {
      "text/plain": [
       "0"
      ]
     },
     "execution_count": 483,
     "metadata": {},
     "output_type": "execute_result"
    }
   ],
   "source": [
    "min=np.min(one)\n",
    "min"
   ]
  },
  {
   "cell_type": "markdown",
   "id": "241ae915-14aa-4412-8f1d-ab9cece120e3",
   "metadata": {},
   "source": [
    "# Iterating Arrays\n",
    "* Iterating means going through elements one by one.\n",
    "* As we deal with multi-dimensional arrays in numpy, we can do this using basic for loop of python.\n",
    "* If we iterate on a 1-D array it will go through each element one by one.\n"
   ]
  },
  {
   "cell_type": "markdown",
   "id": "3dbb9c9a-bf0d-4efe-9610-14798530f15b",
   "metadata": {},
   "source": [
    "## 1 -D"
   ]
  },
  {
   "cell_type": "code",
   "execution_count": 484,
   "id": "3b268c89-0ce1-4f69-ad5e-fe9d039af254",
   "metadata": {},
   "outputs": [
    {
     "data": {
      "text/plain": [
       "array([ 0,  1,  2,  3,  4,  5,  6,  7,  8,  9, 10, 11, 12, 13, 14, 15, 16,\n",
       "       17])"
      ]
     },
     "execution_count": 484,
     "metadata": {},
     "output_type": "execute_result"
    }
   ],
   "source": [
    "one=np.arange(0,18)\n",
    "one"
   ]
  },
  {
   "cell_type": "code",
   "execution_count": 485,
   "id": "0a59c3ee-0f6f-4f19-bd97-d67bb8ac1d6e",
   "metadata": {},
   "outputs": [
    {
     "name": "stdout",
     "output_type": "stream",
     "text": [
      "0\n",
      "1\n",
      "2\n",
      "3\n",
      "4\n",
      "5\n",
      "6\n",
      "7\n",
      "8\n",
      "9\n",
      "10\n",
      "11\n",
      "12\n",
      "13\n",
      "14\n",
      "15\n",
      "16\n",
      "17\n"
     ]
    }
   ],
   "source": [
    "for i in one:\n",
    "    print(i)\n",
    "    "
   ]
  },
  {
   "cell_type": "markdown",
   "id": "2cef7c1f-fe39-49a5-ada4-57d919453c08",
   "metadata": {},
   "source": [
    "## 2 - D"
   ]
  },
  {
   "cell_type": "code",
   "execution_count": 486,
   "id": "6de08b6b-e529-4f8b-bb10-d3d96d89b2de",
   "metadata": {},
   "outputs": [
    {
     "data": {
      "text/plain": [
       "array([[1, 2, 3],\n",
       "       [4, 5, 6]])"
      ]
     },
     "execution_count": 486,
     "metadata": {},
     "output_type": "execute_result"
    }
   ],
   "source": [
    "two=np.array([[1,2,3],[4,5,6]])\n",
    "two"
   ]
  },
  {
   "cell_type": "code",
   "execution_count": 487,
   "id": "4a9a8ace-d66a-4b06-acf1-65424d064654",
   "metadata": {},
   "outputs": [
    {
     "name": "stdout",
     "output_type": "stream",
     "text": [
      "1\n",
      "2\n",
      "3\n",
      "4\n",
      "5\n",
      "6\n"
     ]
    }
   ],
   "source": [
    "for i in two:\n",
    "    for x in i:\n",
    "        print(x)"
   ]
  },
  {
   "cell_type": "markdown",
   "id": "346e4ac8-ad05-4c5d-a616-ca7e1fc4852a",
   "metadata": {},
   "source": [
    "## 3 - D"
   ]
  },
  {
   "cell_type": "code",
   "execution_count": 488,
   "id": "e3e3871b-2893-4765-b975-b35dfce65658",
   "metadata": {},
   "outputs": [
    {
     "data": {
      "text/plain": [
       "array([[[ 0,  1,  2],\n",
       "        [ 3,  4,  5],\n",
       "        [ 6,  7,  8]],\n",
       "\n",
       "       [[ 9, 10, 11],\n",
       "        [12, 13, 14],\n",
       "        [15, 16, 17]]])"
      ]
     },
     "execution_count": 488,
     "metadata": {},
     "output_type": "execute_result"
    }
   ],
   "source": [
    "three"
   ]
  },
  {
   "cell_type": "code",
   "execution_count": 489,
   "id": "d80ada53-20a4-4dda-819b-061012133f51",
   "metadata": {},
   "outputs": [
    {
     "name": "stdout",
     "output_type": "stream",
     "text": [
      "0\n",
      "1\n",
      "2\n",
      "3\n",
      "4\n",
      "5\n",
      "6\n",
      "7\n",
      "8\n",
      "9\n",
      "10\n",
      "11\n",
      "12\n",
      "13\n",
      "14\n",
      "15\n",
      "16\n",
      "17\n"
     ]
    }
   ],
   "source": [
    "for i in three:\n",
    "    for x in i:\n",
    "        for y in x:\n",
    "            print(y)"
   ]
  },
  {
   "cell_type": "markdown",
   "id": "98aaff4c-bdd9-4cbc-a010-ad22272a5421",
   "metadata": {},
   "source": [
    "## Iterating Arrays Using nditer()\n",
    "* The function nditer() is a helping function that can be used from very basic to very advanced iterations.\n",
    "* It solves some basic issues which we face in iteration\n"
   ]
  },
  {
   "cell_type": "code",
   "execution_count": 490,
   "id": "fc3dfd86-8f65-4bbd-90fd-a4b62828f5c0",
   "metadata": {},
   "outputs": [
    {
     "data": {
      "text/plain": [
       "array([[[ 0,  1,  2],\n",
       "        [ 3,  4,  5],\n",
       "        [ 6,  7,  8]],\n",
       "\n",
       "       [[ 9, 10, 11],\n",
       "        [12, 13, 14],\n",
       "        [15, 16, 17]]])"
      ]
     },
     "execution_count": 490,
     "metadata": {},
     "output_type": "execute_result"
    }
   ],
   "source": [
    "three"
   ]
  },
  {
   "cell_type": "code",
   "execution_count": 491,
   "id": "b6a6733c-80bc-41b3-8161-a3288c871dc6",
   "metadata": {},
   "outputs": [
    {
     "name": "stdout",
     "output_type": "stream",
     "text": [
      "0\n",
      "1\n",
      "2\n",
      "3\n",
      "4\n",
      "5\n",
      "6\n",
      "7\n",
      "8\n",
      "9\n",
      "10\n",
      "11\n",
      "12\n",
      "13\n",
      "14\n",
      "15\n",
      "16\n",
      "17\n"
     ]
    }
   ],
   "source": [
    "for i in np.nditer(three):\n",
    "    print(i)"
   ]
  },
  {
   "cell_type": "code",
   "execution_count": 492,
   "id": "97e61fd9-adb7-40d1-a516-64975c79cab3",
   "metadata": {},
   "outputs": [
    {
     "data": {
      "text/plain": [
       "array([['A', 'B'],\n",
       "       ['C', 'D'],\n",
       "       ['E', 'F']], dtype='<U1')"
      ]
     },
     "execution_count": 492,
     "metadata": {},
     "output_type": "execute_result"
    }
   ],
   "source": [
    "arr=np.array([['A','B'],['C','D'],['E','F']])\n",
    "arr"
   ]
  },
  {
   "cell_type": "code",
   "execution_count": 493,
   "id": "3e4e767b-d224-40aa-a51b-1f44da9a3b3e",
   "metadata": {},
   "outputs": [
    {
     "name": "stdout",
     "output_type": "stream",
     "text": [
      "A\n",
      "B\n",
      "C\n",
      "D\n",
      "E\n",
      "F\n"
     ]
    }
   ],
   "source": [
    "for x in np.nditer(arr):\n",
    "    print(x)"
   ]
  },
  {
   "cell_type": "markdown",
   "id": "e0cbb446-076c-41fb-bb6b-932284bd99ae",
   "metadata": {},
   "source": [
    "## Enumerated Iteration Using ndenumerate()\n",
    "* Enumeration means mentioning sequence number of somethings one by one.\n",
    "* Sometimes we require corresponding index of the element while iterating, the ndenumerate() method can be used for those use cases.\n"
   ]
  },
  {
   "cell_type": "code",
   "execution_count": 494,
   "id": "c1978792-6024-4624-8b5e-602bf6ebfd51",
   "metadata": {},
   "outputs": [
    {
     "data": {
      "text/plain": [
       "array([1, 2, 3, 4])"
      ]
     },
     "execution_count": 494,
     "metadata": {},
     "output_type": "execute_result"
    }
   ],
   "source": [
    "arr=np.array([1,2,3,4])\n",
    "arr"
   ]
  },
  {
   "cell_type": "code",
   "execution_count": 495,
   "id": "80ff5c37-8652-4ded-ac9b-9551cb03d97a",
   "metadata": {},
   "outputs": [
    {
     "name": "stdout",
     "output_type": "stream",
     "text": [
      "(0,) 1\n",
      "(1,) 2\n",
      "(2,) 3\n",
      "(3,) 4\n"
     ]
    }
   ],
   "source": [
    "for idi,i in np.ndenumerate(arr):\n",
    "    print(idi,i)"
   ]
  },
  {
   "cell_type": "code",
   "execution_count": 496,
   "id": "422177f1-119c-42d2-8666-d229863f0cc7",
   "metadata": {},
   "outputs": [
    {
     "data": {
      "text/plain": [
       "array([[1, 2, 3],\n",
       "       [4, 5, 6]])"
      ]
     },
     "execution_count": 496,
     "metadata": {},
     "output_type": "execute_result"
    }
   ],
   "source": [
    "two"
   ]
  },
  {
   "cell_type": "code",
   "execution_count": 497,
   "id": "ccd93976-4ee3-418f-b0fc-8b53c03bbd93",
   "metadata": {},
   "outputs": [
    {
     "name": "stdout",
     "output_type": "stream",
     "text": [
      "(0, 0) 1\n",
      "(0, 1) 2\n",
      "(0, 2) 3\n",
      "(1, 0) 4\n",
      "(1, 1) 5\n",
      "(1, 2) 6\n"
     ]
    }
   ],
   "source": [
    "for idx,x in np.ndenumerate(two):\n",
    "    print(idx,x)"
   ]
  },
  {
   "cell_type": "markdown",
   "id": "cb51ebb0-1095-4c70-b698-40c0422131d9",
   "metadata": {},
   "source": [
    "# Joining NumPy Arrays\n",
    "* Joining means putting contents of two or more arrays in a single array. You're joining them along an existing dimension (length of the table)\n",
    "* We pass a sequence of arrays that we want to join to the concatenate() function, along with the axis. If axis is not explicitly passed, it is taken as 0.\n"
   ]
  },
  {
   "cell_type": "markdown",
   "id": "8dcc8952-6844-480f-a68c-54fa1a7037ea",
   "metadata": {},
   "source": [
    "### 1 - D"
   ]
  },
  {
   "cell_type": "code",
   "execution_count": 498,
   "id": "93ecc622-79f0-46a6-8213-456f30151068",
   "metadata": {},
   "outputs": [
    {
     "name": "stdout",
     "output_type": "stream",
     "text": [
      "[1 2 3] [4 5 6]\n"
     ]
    }
   ],
   "source": [
    "arr1=np.array([1,2,3])\n",
    "arr2=np.array([4,5,6])\n",
    "print(arr1,arr2)"
   ]
  },
  {
   "cell_type": "code",
   "execution_count": 499,
   "id": "1aa9209e-a9c1-49fc-9ec8-c401e24524fb",
   "metadata": {},
   "outputs": [
    {
     "data": {
      "text/plain": [
       "array([1, 2, 3, 4, 5, 6])"
      ]
     },
     "execution_count": 499,
     "metadata": {},
     "output_type": "execute_result"
    }
   ],
   "source": [
    "array=np.concatenate((arr1,arr2))\n",
    "array"
   ]
  },
  {
   "cell_type": "markdown",
   "id": "80cd47bb-9b93-4b92-a5b2-97bdacc11d30",
   "metadata": {},
   "source": [
    "### Join two 2-D arrays along rows (axis=1)"
   ]
  },
  {
   "cell_type": "code",
   "execution_count": 500,
   "id": "ba1b353a-5d0d-4939-ad1a-e4ef21a905ee",
   "metadata": {},
   "outputs": [
    {
     "name": "stdout",
     "output_type": "stream",
     "text": [
      "arr1=[[1 2 3]\n",
      " [4 5 6]]\n",
      "arr2=[[ 7  8  9]\n",
      " [10 11 12]]\n"
     ]
    }
   ],
   "source": [
    "arr1=np.array([[1,2,3],[4,5,6]])\n",
    "arr2=np.array([[7,8,9],[10,11,12]])\n",
    "print(f'arr1={arr1}\\narr2={arr2}')"
   ]
  },
  {
   "cell_type": "code",
   "execution_count": 501,
   "id": "52b5e3a0-0267-4d26-8950-f8a7e6fa1d53",
   "metadata": {},
   "outputs": [
    {
     "data": {
      "text/plain": [
       "array([[ 1,  2,  3,  7,  8,  9],\n",
       "       [ 4,  5,  6, 10, 11, 12]])"
      ]
     },
     "execution_count": 501,
     "metadata": {},
     "output_type": "execute_result"
    }
   ],
   "source": [
    "arr=np.concatenate((arr1,arr2),axis=1)\n",
    "arr"
   ]
  },
  {
   "cell_type": "code",
   "execution_count": 502,
   "id": "aafbc5c7-fd8d-4bdb-8cce-11c56d24a874",
   "metadata": {},
   "outputs": [
    {
     "data": {
      "text/plain": [
       "array([[ 1,  2,  3],\n",
       "       [ 4,  5,  6],\n",
       "       [ 7,  8,  9],\n",
       "       [10, 11, 12]])"
      ]
     },
     "execution_count": 502,
     "metadata": {},
     "output_type": "execute_result"
    }
   ],
   "source": [
    "arr1=np.concatenate((arr1,arr2),axis=0)\n",
    "arr1"
   ]
  },
  {
   "cell_type": "code",
   "execution_count": 503,
   "id": "30de544a-030d-44f5-bb86-36ff52c8522e",
   "metadata": {},
   "outputs": [
    {
     "name": "stdout",
     "output_type": "stream",
     "text": [
      "three1=[[[ 1  2  3]\n",
      "  [ 4  5  6]\n",
      "  [ 7  8  9]]\n",
      "\n",
      " [[10 11 12]\n",
      "  [13 14 15]\n",
      "  [16 17 18]]]\n",
      "three2=[[[18 17 16]\n",
      "  [15 14 13]\n",
      "  [12 11 10]]\n",
      "\n",
      " [[ 9  8  7]\n",
      "  [ 6  5  4]\n",
      "  [ 3  2  1]]]\n"
     ]
    }
   ],
   "source": [
    "three1=np.array([[[1,2,3],[4,5,6],[7,8,9]],\n",
    "                 [[10,11,12],[13,14,15],[16,17,18]]])\n",
    "three2=np.array([[[18,17,16],[15,14,13],[12,11,10]],\n",
    "                 [[9,8,7],[6,5,4],[3,2,1]]])\n",
    "print(f'three1={three1}\\nthree2={three2}')"
   ]
  },
  {
   "cell_type": "code",
   "execution_count": 504,
   "id": "dd433f3e-a548-4619-9cfd-ee91163b2375",
   "metadata": {},
   "outputs": [
    {
     "data": {
      "text/plain": [
       "array([[[ 1,  2,  3],\n",
       "        [ 4,  5,  6],\n",
       "        [ 7,  8,  9],\n",
       "        [18, 17, 16],\n",
       "        [15, 14, 13],\n",
       "        [12, 11, 10]],\n",
       "\n",
       "       [[10, 11, 12],\n",
       "        [13, 14, 15],\n",
       "        [16, 17, 18],\n",
       "        [ 9,  8,  7],\n",
       "        [ 6,  5,  4],\n",
       "        [ 3,  2,  1]]])"
      ]
     },
     "execution_count": 504,
     "metadata": {},
     "output_type": "execute_result"
    }
   ],
   "source": [
    "new_join_array=np.concatenate((three1,three2),axis=1)\n",
    "new_join_array"
   ]
  },
  {
   "cell_type": "code",
   "execution_count": 505,
   "id": "73e03468-e344-483b-9777-242ecbc945d6",
   "metadata": {},
   "outputs": [
    {
     "data": {
      "text/plain": [
       "array([[[ 1,  2,  3],\n",
       "        [ 4,  5,  6],\n",
       "        [ 7,  8,  9]],\n",
       "\n",
       "       [[10, 11, 12],\n",
       "        [13, 14, 15],\n",
       "        [16, 17, 18]],\n",
       "\n",
       "       [[18, 17, 16],\n",
       "        [15, 14, 13],\n",
       "        [12, 11, 10]],\n",
       "\n",
       "       [[ 9,  8,  7],\n",
       "        [ 6,  5,  4],\n",
       "        [ 3,  2,  1]]])"
      ]
     },
     "execution_count": 505,
     "metadata": {},
     "output_type": "execute_result"
    }
   ],
   "source": [
    "new_join_array_axis0=np.concatenate((three1,three2),axis=0)\n",
    "new_join_array_axis0"
   ]
  },
  {
   "cell_type": "markdown",
   "id": "5539f0e2-8f92-466f-a28f-d3a3759ddd8e",
   "metadata": {},
   "source": [
    "# Joining Arrays Using Stack Functions\n",
    "* Stacking is same as concatenation, the only difference is that stacking is done along a new axis.\n",
    "* Unlike the concatenate() function, the stack() function joins 1D arrays to be one 2D array and joins 2D arrays to be one 3D array.\n",
    "* We can concatenate two 1-D arrays along the second axis which would result in putting them one over the other, ie. stacking.\n",
    "* We pass a sequence of arrays that we want to join to the stack() method along with the axis. If axis is not explicitly passed it is taken as 0.\n"
   ]
  },
  {
   "cell_type": "markdown",
   "id": "c4efdd32-000c-456c-9427-66dc8834d8d8",
   "metadata": {},
   "source": [
    "### CHOOSING BETWEEN STACK AND CONCATENATION: \n",
    "The choice depends on your desired outcome:\n",
    "* If you want to combine arrays with a new level of organization, use stack.\n",
    "* If you simply want to join arrays along an existing dimension, use concatenate. \n"
   ]
  },
  {
   "cell_type": "code",
   "execution_count": 506,
   "id": "4f0eab6f-9f82-488e-aed1-79c1828ae664",
   "metadata": {},
   "outputs": [
    {
     "data": {
      "text/plain": [
       "array([[ 1,  2,  3],\n",
       "       [11, 12, 13]])"
      ]
     },
     "execution_count": 506,
     "metadata": {},
     "output_type": "execute_result"
    }
   ],
   "source": [
    "arr1=np.array([1,2,3])\n",
    "arr2=np.array([11,12,13])\n",
    "arr=np.stack((arr1,arr2),axis=0)\n",
    "arr"
   ]
  },
  {
   "cell_type": "code",
   "execution_count": 507,
   "id": "b5cb5ecd-0758-4e42-9b47-2aa5849c8841",
   "metadata": {},
   "outputs": [
    {
     "data": {
      "text/plain": [
       "array([[ 1, 11],\n",
       "       [ 2, 12],\n",
       "       [ 3, 13]])"
      ]
     },
     "execution_count": 507,
     "metadata": {},
     "output_type": "execute_result"
    }
   ],
   "source": [
    "arr3=np.array([1,2,3])\n",
    "arr4=np.array([11,12,13])\n",
    "ar=np.stack((arr3,arr4),axis=1)\n",
    "ar"
   ]
  },
  {
   "cell_type": "markdown",
   "id": "022a87d0-eee6-4f8e-8e4f-7d06d5e19146",
   "metadata": {},
   "source": [
    "## hstack"
   ]
  },
  {
   "cell_type": "code",
   "execution_count": 508,
   "id": "2daf9d8a-cc03-42c1-aa8c-e9a5b8e49f18",
   "metadata": {},
   "outputs": [
    {
     "data": {
      "text/plain": [
       "array([ 1,  2,  3, 11, 12, 13])"
      ]
     },
     "execution_count": 508,
     "metadata": {},
     "output_type": "execute_result"
    }
   ],
   "source": [
    "arr=np.hstack((arr1,arr2))\n",
    "arr"
   ]
  },
  {
   "cell_type": "code",
   "execution_count": 509,
   "id": "ee6c670e-32de-4396-8e91-7ceb8fbcd3c0",
   "metadata": {},
   "outputs": [
    {
     "name": "stdout",
     "output_type": "stream",
     "text": [
      "two1=[[1 3 5]\n",
      " [2 4 6]]\n",
      "two2=[[ 7  9 11]\n",
      " [ 8 10 12]]\n"
     ]
    }
   ],
   "source": [
    "two1=np.array([[1,3,5],[2,4,6]])\n",
    "two2=np.array([[7,9,11],[8,10,12]])\n",
    "print(f'two1={two1}\\ntwo2={two2}')"
   ]
  },
  {
   "cell_type": "code",
   "execution_count": 510,
   "id": "db1992cd-2f1e-43ca-a5d7-b4e53c9ffe4b",
   "metadata": {},
   "outputs": [
    {
     "data": {
      "text/plain": [
       "array([[ 1,  3,  5,  7,  9, 11],\n",
       "       [ 2,  4,  6,  8, 10, 12]])"
      ]
     },
     "execution_count": 510,
     "metadata": {},
     "output_type": "execute_result"
    }
   ],
   "source": [
    "new=np.hstack((two1,two2))\n",
    "new\n",
    "              "
   ]
  },
  {
   "cell_type": "markdown",
   "id": "7da19482-36e5-4400-8a05-be07affa956e",
   "metadata": {},
   "source": [
    "### Creating 3 x 4 x 3 matrix"
   ]
  },
  {
   "cell_type": "code",
   "execution_count": 511,
   "id": "6d4ee155-7301-42fc-8109-e7e0b634ce80",
   "metadata": {},
   "outputs": [
    {
     "data": {
      "text/plain": [
       "array([[[ 1,  2,  3],\n",
       "        [ 4,  5,  6],\n",
       "        [ 7,  8,  9],\n",
       "        [10, 11, 12]],\n",
       "\n",
       "       [[13, 14, 15],\n",
       "        [16, 17, 18],\n",
       "        [19, 20, 21],\n",
       "        [22, 23, 24]],\n",
       "\n",
       "       [[25, 26, 27],\n",
       "        [28, 29, 30],\n",
       "        [31, 32, 33],\n",
       "        [34, 35, 36]]])"
      ]
     },
     "execution_count": 511,
     "metadata": {},
     "output_type": "execute_result"
    }
   ],
   "source": [
    "three_four_three=np.array([\n",
    "    [[1,2,3],[4,5,6],[7,8,9],[10,11,12]],\n",
    "    [[13,14,15],[16,17,18],[19,20,21],[22,23,24]],\n",
    "    [[25,26,27],[28,29,30],[31,32,33],[34,35,36]]\n",
    "])\n",
    "three_four_three"
   ]
  },
  {
   "cell_type": "code",
   "execution_count": 512,
   "id": "ff256f9d-207f-41fb-a216-cdd9d5f26ceb",
   "metadata": {},
   "outputs": [
    {
     "data": {
      "text/plain": [
       "(3, 4, 3)"
      ]
     },
     "execution_count": 512,
     "metadata": {},
     "output_type": "execute_result"
    }
   ],
   "source": [
    "three_four_three.shape"
   ]
  },
  {
   "cell_type": "markdown",
   "id": "480d7498-e80c-4e98-a5f1-2e83ea9aadb5",
   "metadata": {},
   "source": [
    "### Access centre dimension"
   ]
  },
  {
   "cell_type": "code",
   "execution_count": 513,
   "id": "139538df-4154-4258-a1d4-8b840ac303c1",
   "metadata": {},
   "outputs": [
    {
     "data": {
      "text/plain": [
       "array([[13, 14, 15],\n",
       "       [16, 17, 18],\n",
       "       [19, 20, 21],\n",
       "       [22, 23, 24]])"
      ]
     },
     "execution_count": 513,
     "metadata": {},
     "output_type": "execute_result"
    }
   ],
   "source": [
    "three_four_three[1,::]"
   ]
  },
  {
   "cell_type": "code",
   "execution_count": 514,
   "id": "80696c34-5520-459b-8ac9-d3c96193eadc",
   "metadata": {},
   "outputs": [],
   "source": [
    "# other Methods\n",
    "# three_four_three[1]\n",
    "# three_four_three[1:2]"
   ]
  },
  {
   "cell_type": "markdown",
   "id": "d49344f1-9c97-49e6-a1dc-489d293d3ef6",
   "metadata": {},
   "source": [
    "### Access centre dimension with first and middle one row wise"
   ]
  },
  {
   "cell_type": "code",
   "execution_count": 515,
   "id": "2ddfb403-2d01-4a4a-99d7-ba1be3643230",
   "metadata": {},
   "outputs": [
    {
     "data": {
      "text/plain": [
       "array([[13, 14, 15],\n",
       "       [19, 20, 21]])"
      ]
     },
     "execution_count": 515,
     "metadata": {},
     "output_type": "execute_result"
    }
   ],
   "source": [
    "three_four_three[1,::2]"
   ]
  },
  {
   "cell_type": "markdown",
   "id": "b8313745-c8d7-4fde-894b-43311797207c",
   "metadata": {},
   "source": [
    "### Access centre dimension with first and last one column wise"
   ]
  },
  {
   "cell_type": "code",
   "execution_count": 516,
   "id": "32ba94c7-f682-41fe-ad3a-922c810cbfeb",
   "metadata": {},
   "outputs": [
    {
     "data": {
      "text/plain": [
       "array([[13, 15],\n",
       "       [16, 18],\n",
       "       [19, 21],\n",
       "       [22, 24]])"
      ]
     },
     "execution_count": 516,
     "metadata": {},
     "output_type": "execute_result"
    }
   ],
   "source": [
    "three_four_three[1,:,::2]"
   ]
  },
  {
   "cell_type": "markdown",
   "id": "4810be2c-f4c1-4714-806c-082af6a3a8e7",
   "metadata": {},
   "source": [
    "### Access centre dimension with first and last column with element wise, "
   ]
  },
  {
   "cell_type": "code",
   "execution_count": 517,
   "id": "c0373795-6315-4d9b-9f3a-5ac38800b665",
   "metadata": {},
   "outputs": [
    {
     "data": {
      "text/plain": [
       "array([[13, 15],\n",
       "       [19, 21]])"
      ]
     },
     "execution_count": 517,
     "metadata": {},
     "output_type": "execute_result"
    }
   ],
   "source": [
    "three_four_three[1,::2,::2]"
   ]
  },
  {
   "cell_type": "markdown",
   "id": "0dcca357-e96b-4911-96ad-dbbfbac9c5b8",
   "metadata": {},
   "source": [
    "### Access each two dimensions last 2 rows"
   ]
  },
  {
   "cell_type": "code",
   "execution_count": 518,
   "id": "dd8aa758-82e3-4fdb-8cf2-b5586ff6afe4",
   "metadata": {},
   "outputs": [
    {
     "data": {
      "text/plain": [
       "array([[[ 7,  8,  9],\n",
       "        [10, 11, 12]],\n",
       "\n",
       "       [[19, 20, 21],\n",
       "        [22, 23, 24]],\n",
       "\n",
       "       [[31, 32, 33],\n",
       "        [34, 35, 36]]])"
      ]
     },
     "execution_count": 518,
     "metadata": {},
     "output_type": "execute_result"
    }
   ],
   "source": [
    "three_four_three[:,2:]"
   ]
  },
  {
   "cell_type": "markdown",
   "id": "d7641040-59e0-440f-90f1-d694939aa1fc",
   "metadata": {},
   "source": [
    "### Access the middle 2 dimension middle column"
   ]
  },
  {
   "cell_type": "code",
   "execution_count": 519,
   "id": "1b7bcc3a-86c1-4413-bd9d-6280c0d931ab",
   "metadata": {},
   "outputs": [
    {
     "data": {
      "text/plain": [
       "array([[14],\n",
       "       [17],\n",
       "       [20],\n",
       "       [23]])"
      ]
     },
     "execution_count": 519,
     "metadata": {},
     "output_type": "execute_result"
    }
   ],
   "source": [
    "three_four_three[1,:,1:2]"
   ]
  },
  {
   "cell_type": "markdown",
   "id": "ccb427e9-7bf7-4be9-9dbf-445772d2ca8c",
   "metadata": {},
   "source": [
    "### Convert two dimension into 6 dimension"
   ]
  },
  {
   "cell_type": "code",
   "execution_count": 520,
   "id": "6a7e66bb-1616-404d-ac1c-cb3d5cc62cdc",
   "metadata": {},
   "outputs": [
    {
     "data": {
      "text/plain": [
       "array([[[[[[ 1,  2,  3,  4,  5,  6,  7,  8,  9, 10],\n",
       "           [11, 12, 13, 14, 15, 16, 17, 18, 19, 20]]]]]])"
      ]
     },
     "execution_count": 520,
     "metadata": {},
     "output_type": "execute_result"
    }
   ],
   "source": [
    "two=np.array([[1,2,3,4,5,6,7,8,9,10],[11,12,13,14,15,16,17,18,19,20]],ndmin=6)\n",
    "two"
   ]
  },
  {
   "cell_type": "markdown",
   "id": "ac0c1b7a-f19d-456e-9a0a-2938caf43048",
   "metadata": {},
   "source": [
    "### Print the elements in array 'two'"
   ]
  },
  {
   "cell_type": "code",
   "execution_count": 521,
   "id": "8a78f471-7196-46c5-baa4-b4c3681ea57f",
   "metadata": {},
   "outputs": [
    {
     "name": "stdout",
     "output_type": "stream",
     "text": [
      "1\n",
      "2\n",
      "3\n",
      "4\n",
      "5\n",
      "6\n",
      "7\n",
      "8\n",
      "9\n",
      "10\n",
      "11\n",
      "12\n",
      "13\n",
      "14\n",
      "15\n",
      "16\n",
      "17\n",
      "18\n",
      "19\n",
      "20\n"
     ]
    }
   ],
   "source": [
    "for i in np.nditer(two):\n",
    "    print(i)"
   ]
  },
  {
   "cell_type": "markdown",
   "id": "6e30595a-edad-44ce-8d27-495e270ba06b",
   "metadata": {},
   "source": [
    "### Print the elements in array 'two' with index"
   ]
  },
  {
   "cell_type": "code",
   "execution_count": 522,
   "id": "82191d0f-d278-43fe-aeaa-4f56e2b0044e",
   "metadata": {},
   "outputs": [
    {
     "name": "stdout",
     "output_type": "stream",
     "text": [
      "(0, 0, 0, 0, 0, 0) 1\n",
      "(0, 0, 0, 0, 0, 1) 2\n",
      "(0, 0, 0, 0, 0, 2) 3\n",
      "(0, 0, 0, 0, 0, 3) 4\n",
      "(0, 0, 0, 0, 0, 4) 5\n",
      "(0, 0, 0, 0, 0, 5) 6\n",
      "(0, 0, 0, 0, 0, 6) 7\n",
      "(0, 0, 0, 0, 0, 7) 8\n",
      "(0, 0, 0, 0, 0, 8) 9\n",
      "(0, 0, 0, 0, 0, 9) 10\n",
      "(0, 0, 0, 0, 1, 0) 11\n",
      "(0, 0, 0, 0, 1, 1) 12\n",
      "(0, 0, 0, 0, 1, 2) 13\n",
      "(0, 0, 0, 0, 1, 3) 14\n",
      "(0, 0, 0, 0, 1, 4) 15\n",
      "(0, 0, 0, 0, 1, 5) 16\n",
      "(0, 0, 0, 0, 1, 6) 17\n",
      "(0, 0, 0, 0, 1, 7) 18\n",
      "(0, 0, 0, 0, 1, 8) 19\n",
      "(0, 0, 0, 0, 1, 9) 20\n"
     ]
    }
   ],
   "source": [
    "for i,idi in np.ndenumerate(two):\n",
    "    print(i,idi)"
   ]
  },
  {
   "cell_type": "markdown",
   "id": "e4e94cb0-d3dc-4397-9f5c-07bcae942781",
   "metadata": {},
   "source": [
    "### Operations"
   ]
  },
  {
   "cell_type": "code",
   "execution_count": 523,
   "id": "3b4cff6d-b820-40e7-adf0-77f3b56940e6",
   "metadata": {},
   "outputs": [
    {
     "data": {
      "text/plain": [
       "10.5"
      ]
     },
     "execution_count": 523,
     "metadata": {},
     "output_type": "execute_result"
    }
   ],
   "source": [
    "np.mean(two)"
   ]
  },
  {
   "cell_type": "code",
   "execution_count": 524,
   "id": "f10b412a-b348-49a8-b989-0963d0b2be47",
   "metadata": {},
   "outputs": [
    {
     "data": {
      "text/plain": [
       "5.766281297335398"
      ]
     },
     "execution_count": 524,
     "metadata": {},
     "output_type": "execute_result"
    }
   ],
   "source": [
    "np.std(two)"
   ]
  },
  {
   "cell_type": "code",
   "execution_count": 525,
   "id": "68863c3b-5796-40f3-9e36-3640d3c6f5df",
   "metadata": {},
   "outputs": [
    {
     "data": {
      "text/plain": [
       "210"
      ]
     },
     "execution_count": 525,
     "metadata": {},
     "output_type": "execute_result"
    }
   ],
   "source": [
    "np.sum(two)"
   ]
  },
  {
   "cell_type": "code",
   "execution_count": 526,
   "id": "6f96d51c-d00a-4a87-ace5-3890cb2c7480",
   "metadata": {},
   "outputs": [
    {
     "data": {
      "text/plain": [
       "20"
      ]
     },
     "execution_count": 526,
     "metadata": {},
     "output_type": "execute_result"
    }
   ],
   "source": [
    "np.max(two)"
   ]
  },
  {
   "cell_type": "code",
   "execution_count": 527,
   "id": "71e8cfd9-53e6-4cbe-a369-194ebfe32651",
   "metadata": {},
   "outputs": [
    {
     "data": {
      "text/plain": [
       "1"
      ]
     },
     "execution_count": 527,
     "metadata": {},
     "output_type": "execute_result"
    }
   ],
   "source": [
    "np.min(two)"
   ]
  },
  {
   "cell_type": "code",
   "execution_count": 528,
   "id": "941e242b-d07f-4ef2-b6b8-2f982294b383",
   "metadata": {},
   "outputs": [
    {
     "data": {
      "text/plain": [
       "33.25"
      ]
     },
     "execution_count": 528,
     "metadata": {},
     "output_type": "execute_result"
    }
   ],
   "source": [
    "np.var(two)"
   ]
  },
  {
   "cell_type": "code",
   "execution_count": 529,
   "id": "3a7250e2-c945-4223-a1db-58b507cdd863",
   "metadata": {},
   "outputs": [
    {
     "name": "stdout",
     "output_type": "stream",
     "text": [
      "two = [[1 2 3]\n",
      " [4 5 6]]\n",
      "two1 = [[11 12 13]\n",
      " [14 15 16]]\n"
     ]
    }
   ],
   "source": [
    "two=np.array([[1,2,3],[4,5,6]])\n",
    "two1=np.array([[11,12,13],[14,15,16]])\n",
    "print('two =',two)\n",
    "print('two1 =',two1)"
   ]
  },
  {
   "cell_type": "markdown",
   "id": "1645ce3d-26cf-4ea1-a740-589aedb393ae",
   "metadata": {},
   "source": [
    "# Splitting NumPy Arrays\n",
    "•\tSplitting is reverse operation of Joining.\n",
    "\n",
    "•\tJoining merges multiple arrays into one and Splitting breaks one array into multiple.\n",
    "\n",
    "•\tWe use array_split() for splitting arrays, we pass it the array we want to split and the number of splits.\n",
    "\n",
    "•\tIf the array has less elements than required, it will adjust from the end accordingly.\n"
   ]
  },
  {
   "cell_type": "code",
   "execution_count": 530,
   "id": "781ae71a-53aa-4207-ac7b-7f71b915b226",
   "metadata": {},
   "outputs": [
    {
     "data": {
      "text/plain": [
       "array([1, 2, 3, 4, 5, 6])"
      ]
     },
     "execution_count": 530,
     "metadata": {},
     "output_type": "execute_result"
    }
   ],
   "source": [
    "one=np.array([1,2,3,4,5,6])\n",
    "one"
   ]
  },
  {
   "cell_type": "code",
   "execution_count": 531,
   "id": "b06d3280-7cd7-4d53-855a-631ed4c4397a",
   "metadata": {},
   "outputs": [
    {
     "data": {
      "text/plain": [
       "[array([1, 2]), array([3, 4]), array([5, 6])]"
      ]
     },
     "execution_count": 531,
     "metadata": {},
     "output_type": "execute_result"
    }
   ],
   "source": [
    "new=np.array_split(one,3)\n",
    "new"
   ]
  },
  {
   "cell_type": "code",
   "execution_count": 532,
   "id": "2e67179b-b407-4258-bfe6-8b18b45456b5",
   "metadata": {},
   "outputs": [
    {
     "data": {
      "text/plain": [
       "[array([1, 2, 3]), array([4, 5, 6])]"
      ]
     },
     "execution_count": 532,
     "metadata": {},
     "output_type": "execute_result"
    }
   ],
   "source": [
    "new1=np.array_split(one,2)\n",
    "new1"
   ]
  },
  {
   "cell_type": "code",
   "execution_count": 533,
   "id": "434dc0a8-4826-44eb-8a0c-a6667c875e8b",
   "metadata": {},
   "outputs": [
    {
     "data": {
      "text/plain": [
       "[array([1, 2]), array([3]), array([4]), array([5]), array([6])]"
      ]
     },
     "execution_count": 533,
     "metadata": {},
     "output_type": "execute_result"
    }
   ],
   "source": [
    "new2=np.array_split(one,5)\n",
    "new2"
   ]
  },
  {
   "cell_type": "code",
   "execution_count": 534,
   "id": "f4883b85-6405-4e1e-a8a5-5e376ba01223",
   "metadata": {},
   "outputs": [
    {
     "data": {
      "text/plain": [
       "array([1, 2, 3, 4, 5, 6, 7, 8])"
      ]
     },
     "execution_count": 534,
     "metadata": {},
     "output_type": "execute_result"
    }
   ],
   "source": [
    "eight=np.array([1,2,3,4,5,6,7,8])\n",
    "eight"
   ]
  },
  {
   "cell_type": "code",
   "execution_count": 535,
   "id": "bc082e2c-4b16-4f80-9d38-4d49e6a5f220",
   "metadata": {},
   "outputs": [
    {
     "data": {
      "text/plain": [
       "[array([1, 2, 3]), array([4, 5, 6]), array([7, 8])]"
      ]
     },
     "execution_count": 535,
     "metadata": {},
     "output_type": "execute_result"
    }
   ],
   "source": [
    "new3=np.array_split(eight,3)\n",
    "new3"
   ]
  },
  {
   "cell_type": "code",
   "execution_count": 536,
   "id": "85c81514-118e-4bb5-b1e4-f153eef3dcb8",
   "metadata": {},
   "outputs": [
    {
     "data": {
      "text/plain": [
       "array([[1, 2, 3, 4],\n",
       "       [4, 5, 6, 8],\n",
       "       [8, 9, 7, 6]])"
      ]
     },
     "execution_count": 536,
     "metadata": {},
     "output_type": "execute_result"
    }
   ],
   "source": [
    "two=np.array([[1,2,3,4],[4,5,6,8],[8,9,7,6]])\n",
    "two"
   ]
  },
  {
   "cell_type": "code",
   "execution_count": 537,
   "id": "b75d5b76-cc5e-418f-9476-154f217e6e98",
   "metadata": {},
   "outputs": [
    {
     "data": {
      "text/plain": [
       "[array([[1, 2, 3, 4],\n",
       "        [4, 5, 6, 8]]),\n",
       " array([[8, 9, 7, 6]])]"
      ]
     },
     "execution_count": 537,
     "metadata": {},
     "output_type": "execute_result"
    }
   ],
   "source": [
    "new4=np.array_split(two,2)\n",
    "new4"
   ]
  },
  {
   "cell_type": "code",
   "execution_count": 538,
   "id": "68f5e525-67de-49d6-ae32-6463abda41ad",
   "metadata": {},
   "outputs": [
    {
     "data": {
      "text/plain": [
       "[array([[1, 2],\n",
       "        [4, 5],\n",
       "        [8, 9]]),\n",
       " array([[3, 4],\n",
       "        [6, 8],\n",
       "        [7, 6]])]"
      ]
     },
     "execution_count": 538,
     "metadata": {},
     "output_type": "execute_result"
    }
   ],
   "source": [
    "new5=np.array_split(two,2,axis=1)\n",
    "new5"
   ]
  },
  {
   "cell_type": "markdown",
   "id": "564e8bd7-0e02-420f-a231-374f26599b73",
   "metadata": {},
   "source": [
    "## We also have the method split() available but it will not adjust the elements when elements are less in source array for splitting like in example above, array_split() worked properly but split() would fail."
   ]
  },
  {
   "cell_type": "code",
   "execution_count": 539,
   "id": "cbaa963e-03d9-4091-9c5a-54905c5488a9",
   "metadata": {},
   "outputs": [
    {
     "ename": "ValueError",
     "evalue": "array split does not result in an equal division",
     "output_type": "error",
     "traceback": [
      "\u001b[1;31m---------------------------------------------------------------------------\u001b[0m",
      "\u001b[1;31mValueError\u001b[0m                                Traceback (most recent call last)",
      "Cell \u001b[1;32mIn[539], line 1\u001b[0m\n\u001b[1;32m----> 1\u001b[0m split\u001b[38;5;241m=\u001b[39mnp\u001b[38;5;241m.\u001b[39msplit(one,\u001b[38;5;241m5\u001b[39m)\n\u001b[0;32m      2\u001b[0m split\n",
      "File \u001b[1;32m~\\anaconda3\\Lib\\site-packages\\numpy\\lib\\shape_base.py:864\u001b[0m, in \u001b[0;36msplit\u001b[1;34m(ary, indices_or_sections, axis)\u001b[0m\n\u001b[0;32m    862\u001b[0m     N \u001b[38;5;241m=\u001b[39m ary\u001b[38;5;241m.\u001b[39mshape[axis]\n\u001b[0;32m    863\u001b[0m     \u001b[38;5;28;01mif\u001b[39;00m N \u001b[38;5;241m%\u001b[39m sections:\n\u001b[1;32m--> 864\u001b[0m         \u001b[38;5;28;01mraise\u001b[39;00m \u001b[38;5;167;01mValueError\u001b[39;00m(\n\u001b[0;32m    865\u001b[0m             \u001b[38;5;124m'\u001b[39m\u001b[38;5;124marray split does not result in an equal division\u001b[39m\u001b[38;5;124m'\u001b[39m) \u001b[38;5;28;01mfrom\u001b[39;00m \u001b[38;5;28;01mNone\u001b[39;00m\n\u001b[0;32m    866\u001b[0m \u001b[38;5;28;01mreturn\u001b[39;00m array_split(ary, indices_or_sections, axis)\n",
      "\u001b[1;31mValueError\u001b[0m: array split does not result in an equal division"
     ]
    }
   ],
   "source": [
    "split=np.split(one,5)\n",
    "split"
   ]
  },
  {
   "cell_type": "code",
   "execution_count": 540,
   "id": "3a6c835b-3e75-4001-8c79-75956ffa2531",
   "metadata": {},
   "outputs": [
    {
     "data": {
      "text/plain": [
       "[array([1, 2]), array([3, 4]), array([5, 6])]"
      ]
     },
     "execution_count": 540,
     "metadata": {},
     "output_type": "execute_result"
    }
   ],
   "source": [
    "split1=np.split(one,3)\n",
    "split1"
   ]
  },
  {
   "cell_type": "markdown",
   "id": "09e51d59-14b5-4505-a10c-69cb097451b8",
   "metadata": {},
   "source": [
    "# Searching Arrays\n",
    "•\tYou can search an array for a certain value, and return the indexes that get a match.\n",
    "    \n",
    "•\tTo search an array, use the where() method.\n",
    "\n",
    "•\tFor replacing a value in a array using where()\n",
    "\n",
    "•\tnp.where(condition, x, y)\n",
    "\n",
    "•\tcondition: An array-like structure that contains boolean values (True or False).\n",
    "\n",
    "•\tx: The values to place in the output array where the condition is True.\n",
    "\n",
    "•\ty: The values to place in the output array where the condition is False.\n"
   ]
  },
  {
   "cell_type": "code",
   "execution_count": 541,
   "id": "c16efe33-ccb7-47bc-b2c9-ad48034285e8",
   "metadata": {},
   "outputs": [
    {
     "name": "stdout",
     "output_type": "stream",
     "text": [
      "(array([3, 7, 8], dtype=int64),)\n"
     ]
    }
   ],
   "source": [
    "arr=np.array([1,2,3,4,5,6,3,4,4])\n",
    "x=np.where(arr==4)\n",
    "print(x)"
   ]
  },
  {
   "cell_type": "code",
   "execution_count": 542,
   "id": "4cd3748a-79df-48de-a94f-0608c3d8b82d",
   "metadata": {},
   "outputs": [
    {
     "name": "stdout",
     "output_type": "stream",
     "text": [
      "(array([0, 2, 4, 6], dtype=int64),)\n"
     ]
    }
   ],
   "source": [
    "odd=np.where(arr%2!=0)\n",
    "print(odd)"
   ]
  },
  {
   "cell_type": "code",
   "execution_count": 543,
   "id": "b0782875-a780-45de-8260-b8259c28c80c",
   "metadata": {},
   "outputs": [
    {
     "name": "stdout",
     "output_type": "stream",
     "text": [
      "(array([1, 3, 5, 7, 8], dtype=int64),)\n"
     ]
    }
   ],
   "source": [
    "even=np.where(arr%2==0)\n",
    "print(even)"
   ]
  },
  {
   "cell_type": "markdown",
   "id": "81246f53-e3cd-4246-a253-754ddaa2b931",
   "metadata": {},
   "source": [
    "#### Replace the elements in a list where value less than 5 with zero"
   ]
  },
  {
   "cell_type": "code",
   "execution_count": 544,
   "id": "a8f865de-a2fd-46b3-80ee-8e79fabac067",
   "metadata": {},
   "outputs": [
    {
     "data": {
      "text/plain": [
       "array([ 1,  2,  3,  4,  5, 10, 11, 12, 13, 14])"
      ]
     },
     "execution_count": 544,
     "metadata": {},
     "output_type": "execute_result"
    }
   ],
   "source": [
    "list=np.array([1,2,3,4,5,10,11,12,13,14])\n",
    "list"
   ]
  },
  {
   "cell_type": "code",
   "execution_count": 545,
   "id": "4eaccb42-fc6b-4c38-912e-9cde9fa79273",
   "metadata": {},
   "outputs": [
    {
     "data": {
      "text/plain": [
       "array([ 0,  0,  0,  0,  5, 10, 11, 12, 13, 14])"
      ]
     },
     "execution_count": 545,
     "metadata": {},
     "output_type": "execute_result"
    }
   ],
   "source": [
    "less=np.where(list<5,0,list)\n",
    "less"
   ]
  },
  {
   "cell_type": "markdown",
   "id": "b7d2fc80-8276-48e1-87d8-88074480d987",
   "metadata": {},
   "source": [
    "#### Replace the elements in a list where value greater than 5 with 10"
   ]
  },
  {
   "cell_type": "code",
   "execution_count": 546,
   "id": "22d9bc77-dec9-495a-900f-0b60844c8fa6",
   "metadata": {},
   "outputs": [
    {
     "data": {
      "text/plain": [
       "array([ 1, 23, 35, 67, 43, 22, 11,  2,  3])"
      ]
     },
     "execution_count": 546,
     "metadata": {},
     "output_type": "execute_result"
    }
   ],
   "source": [
    "list1=np.array([1,23,35,67,43,22,11,2,3])\n",
    "list1"
   ]
  },
  {
   "cell_type": "code",
   "execution_count": 547,
   "id": "b7bd441f-67ef-407a-9b8d-c66882fddebd",
   "metadata": {},
   "outputs": [
    {
     "data": {
      "text/plain": [
       "array([ 1, 10, 10, 10, 10, 10, 10,  2,  3])"
      ]
     },
     "execution_count": 547,
     "metadata": {},
     "output_type": "execute_result"
    }
   ],
   "source": [
    "gr=np.where(list1>=5,10,list1)\n",
    "gr"
   ]
  },
  {
   "cell_type": "code",
   "execution_count": 548,
   "id": "105caa31-03b1-4ebb-bc32-d90e038638ee",
   "metadata": {},
   "outputs": [
    {
     "data": {
      "text/plain": [
       "array([[ 1,  2,  3,  4],\n",
       "       [ 5,  6,  7,  8],\n",
       "       [ 9, 10, 11, 12]])"
      ]
     },
     "execution_count": 548,
     "metadata": {},
     "output_type": "execute_result"
    }
   ],
   "source": [
    "aa=np.arange(1,13)\n",
    "aa2=aa.reshape(3,4)\n",
    "aa2"
   ]
  },
  {
   "cell_type": "code",
   "execution_count": 549,
   "id": "37e02136-405b-4894-a2a4-7fec92c009f9",
   "metadata": {},
   "outputs": [
    {
     "data": {
      "text/plain": [
       "(array([0], dtype=int64), array([2], dtype=int64))"
      ]
     },
     "execution_count": 549,
     "metadata": {},
     "output_type": "execute_result"
    }
   ],
   "source": [
    "a=np.where(aa2==3)\n",
    "a"
   ]
  },
  {
   "cell_type": "code",
   "execution_count": 550,
   "id": "23281689-c4ec-4668-b828-13d6cee4f421",
   "metadata": {},
   "outputs": [
    {
     "data": {
      "text/plain": [
       "array([[ 1,  2,  4,  4],\n",
       "       [ 5,  7,  7,  8],\n",
       "       [10, 10, 11, 13]])"
      ]
     },
     "execution_count": 550,
     "metadata": {},
     "output_type": "execute_result"
    }
   ],
   "source": [
    "s=np.where(aa2%3==0,aa2+1,aa2)\n",
    "s"
   ]
  },
  {
   "cell_type": "code",
   "execution_count": 551,
   "id": "25f5b45c-194b-4c7c-92b0-e5d63c00a06d",
   "metadata": {},
   "outputs": [
    {
     "data": {
      "text/plain": [
       "array([[-1, -2,  3,  4],\n",
       "       [ 5,  6,  7,  8],\n",
       "       [ 9, 10, 11, 12]])"
      ]
     },
     "execution_count": 551,
     "metadata": {},
     "output_type": "execute_result"
    }
   ],
   "source": [
    "x=np.where(aa2<3,aa2*-1,aa2)\n",
    "x"
   ]
  },
  {
   "cell_type": "markdown",
   "id": "3ee15712-8335-4d50-8c66-4868d295315a",
   "metadata": {},
   "source": [
    "# Sorting Arrays\n",
    "•\tSorting means putting elements in an ordered sequence.\n",
    "    \n",
    "•\tOrdered sequence is any sequence that has an order corresponding to elements, like numeric or alphabetical, ascending or descending.\n",
    "\n",
    "•\tThe NumPy ndarray object has a function called sort(), that will sort a specified array.\n"
   ]
  },
  {
   "cell_type": "code",
   "execution_count": 552,
   "id": "5414a2fb-3245-4729-a80a-90ffaafde7d2",
   "metadata": {},
   "outputs": [
    {
     "name": "stdout",
     "output_type": "stream",
     "text": [
      "[1 2 3 4 5]\n"
     ]
    }
   ],
   "source": [
    "aaaa=np.array([1,4,2,5,3])\n",
    "print(np.sort(aaaa))"
   ]
  },
  {
   "cell_type": "code",
   "execution_count": 553,
   "id": "3415bec3-f122-42ea-bc08-a4f84a01a4e7",
   "metadata": {},
   "outputs": [
    {
     "name": "stdout",
     "output_type": "stream",
     "text": [
      "[[1 2 4 5 8]\n",
      " [2 3 4 6 8]]\n"
     ]
    }
   ],
   "source": [
    "a2=np.array([[1,5,8,2,4],[2,4,6,3,8]])\n",
    "print(np.sort(a2))"
   ]
  },
  {
   "cell_type": "code",
   "execution_count": 554,
   "id": "0140b6c4-9a6e-428a-af25-b607d20128b5",
   "metadata": {},
   "outputs": [
    {
     "data": {
      "text/plain": [
       "array([[1, 5, 8, 2, 4],\n",
       "       [2, 4, 6, 3, 8]])"
      ]
     },
     "execution_count": 554,
     "metadata": {},
     "output_type": "execute_result"
    }
   ],
   "source": [
    "a2"
   ]
  },
  {
   "cell_type": "code",
   "execution_count": 555,
   "id": "e250b05e-d581-48d9-94fc-843492c5cceb",
   "metadata": {},
   "outputs": [
    {
     "name": "stdout",
     "output_type": "stream",
     "text": [
      "[5 4 3 2 1]\n"
     ]
    }
   ],
   "source": [
    "print(np.sort(aaaa)[::-1])"
   ]
  },
  {
   "cell_type": "code",
   "execution_count": 556,
   "id": "9477d8b9-a199-46ab-9e0b-582ab700b929",
   "metadata": {},
   "outputs": [
    {
     "data": {
      "text/plain": [
       "array([5, 4, 3, 2, 1])"
      ]
     },
     "execution_count": 556,
     "metadata": {},
     "output_type": "execute_result"
    }
   ],
   "source": [
    "-np.sort(-aaaa)"
   ]
  },
  {
   "cell_type": "code",
   "execution_count": 557,
   "id": "f4e901da-701c-47c3-8734-f7824cce6def",
   "metadata": {},
   "outputs": [
    {
     "data": {
      "text/plain": [
       "array([[8, 5, 4, 2, 1],\n",
       "       [8, 6, 4, 3, 2]])"
      ]
     },
     "execution_count": 557,
     "metadata": {},
     "output_type": "execute_result"
    }
   ],
   "source": [
    "-np.sort(-a2)"
   ]
  },
  {
   "cell_type": "code",
   "execution_count": 558,
   "id": "63782a29-3935-46ae-8cc4-b909d0df3569",
   "metadata": {},
   "outputs": [
    {
     "name": "stdout",
     "output_type": "stream",
     "text": [
      "[[8 6 4 3 2]\n",
      " [8 5 4 2 1]]\n"
     ]
    }
   ],
   "source": [
    "print(np.sort(a2)[::-1,::-1])"
   ]
  },
  {
   "cell_type": "markdown",
   "id": "abe1550d-dc7d-4184-8f8f-23100056cb4d",
   "metadata": {},
   "source": [
    "# Search Sorted (Optional)\n",
    "•\tThere is a method called searchsorted() which performs a binary search in the array, and returns the index where the specified value would be inserted to maintain the search order.\n",
    "\n",
    "•\tThe searchsorted() method is assumed to be used on sorted arrays.\n",
    "\n",
    "•\tThe method starts the search from the left and returns the first index where the number 7 is no longer larger than the next value.\n"
   ]
  },
  {
   "cell_type": "code",
   "execution_count": 559,
   "id": "e246c7c0-0011-4ea1-ace2-34645ddd857a",
   "metadata": {},
   "outputs": [],
   "source": [
    "aaaa=np.array([1,4,2,5,3])\n",
    "aa=np.sort(aaaa)"
   ]
  },
  {
   "cell_type": "code",
   "execution_count": 560,
   "id": "73bbade6-546d-4569-b6b4-08f83204d97f",
   "metadata": {},
   "outputs": [
    {
     "data": {
      "text/plain": [
       "array([1, 2, 3, 4, 5])"
      ]
     },
     "execution_count": 560,
     "metadata": {},
     "output_type": "execute_result"
    }
   ],
   "source": [
    "aa"
   ]
  },
  {
   "cell_type": "code",
   "execution_count": 561,
   "id": "ade95980-c7b5-4316-9baa-15751f164a6d",
   "metadata": {},
   "outputs": [
    {
     "data": {
      "text/plain": [
       "2"
      ]
     },
     "execution_count": 561,
     "metadata": {},
     "output_type": "execute_result"
    }
   ],
   "source": [
    "x=np.searchsorted(aa,3)\n",
    "x"
   ]
  },
  {
   "cell_type": "code",
   "execution_count": 562,
   "id": "7d9f21a1-a8b2-4c7f-83d6-5565d901c7e3",
   "metadata": {},
   "outputs": [
    {
     "data": {
      "text/plain": [
       "4"
      ]
     },
     "execution_count": 562,
     "metadata": {},
     "output_type": "execute_result"
    }
   ],
   "source": [
    "x1=np.searchsorted(aa,4,side='right')\n",
    "x1"
   ]
  },
  {
   "cell_type": "code",
   "execution_count": 563,
   "id": "38c20c6f-9759-4195-92e9-b8853533e9fa",
   "metadata": {},
   "outputs": [
    {
     "data": {
      "text/plain": [
       "3"
      ]
     },
     "execution_count": 563,
     "metadata": {},
     "output_type": "execute_result"
    }
   ],
   "source": [
    "x2=np.searchsorted(aa,4,side='left')\n",
    "x2"
   ]
  },
  {
   "cell_type": "markdown",
   "id": "eb3d491b-d1c3-4b42-ab2d-84ff397f97f6",
   "metadata": {},
   "source": [
    "# Filtering Arrays\n",
    "•\tGetting some elements out of an existing array and creating a new array out of them is called filtering.\n",
    "\n",
    "•\tIn NumPy, you filter an array using a boolean index list.\n",
    "    \n",
    "•\tA boolean index list is a list of booleans corresponding to indexes in the array.\n",
    "\n",
    "•\tIf the value at an index is True that element is contained in the filtered array, if the value at that index is False that element is excluded from the filtered array.\n"
   ]
  },
  {
   "cell_type": "code",
   "execution_count": 564,
   "id": "8c962de6-7890-4ca7-b8bc-085bb8a70eab",
   "metadata": {},
   "outputs": [
    {
     "name": "stdout",
     "output_type": "stream",
     "text": [
      "[41 43]\n"
     ]
    }
   ],
   "source": [
    "arr=np.array([41,42,43,44])\n",
    "x=[True,False,True,False]\n",
    "newarr=arr[x]\n",
    "print(newarr)"
   ]
  },
  {
   "cell_type": "code",
   "execution_count": 565,
   "id": "a3a84543-a892-4e05-90ac-691344d0ab6a",
   "metadata": {},
   "outputs": [
    {
     "name": "stdout",
     "output_type": "stream",
     "text": [
      "[ 2  4  6  8 10 12 14]\n"
     ]
    }
   ],
   "source": [
    "arr=np.arange(1,15)\n",
    "filter_array=[]\n",
    "for i in arr:\n",
    "    if i%2==0:\n",
    "        filter_array.append(True)\n",
    "    else:\n",
    "        filter_array.append(False)\n",
    "newarr=arr[filter_array]\n",
    "print(newarr)\n",
    "        "
   ]
  },
  {
   "cell_type": "code",
   "execution_count": 566,
   "id": "66797cac-9ebe-4fd7-ac16-658a9ea9d1ee",
   "metadata": {},
   "outputs": [
    {
     "data": {
      "text/plain": [
       "array([1, 3, 5, 7, 9])"
      ]
     },
     "execution_count": 566,
     "metadata": {},
     "output_type": "execute_result"
    }
   ],
   "source": [
    "arr=np.arange(1,10)\n",
    "filter_arr=arr%2!=0\n",
    "newarr=arr[filter_arr]\n",
    "newarr"
   ]
  },
  {
   "cell_type": "code",
   "execution_count": null,
   "id": "fe3eef7f-670e-4dc8-aa5c-03454217b61b",
   "metadata": {},
   "outputs": [],
   "source": []
  },
  {
   "cell_type": "code",
   "execution_count": null,
   "id": "fd1de294-4fb3-4c53-b1ea-e9def78dfaaa",
   "metadata": {},
   "outputs": [],
   "source": []
  },
  {
   "cell_type": "code",
   "execution_count": null,
   "id": "18747db5-e592-4ea8-af66-f67278b693ff",
   "metadata": {},
   "outputs": [],
   "source": []
  }
 ],
 "metadata": {
  "kernelspec": {
   "display_name": "Python 3 (ipykernel)",
   "language": "python",
   "name": "python3"
  },
  "language_info": {
   "codemirror_mode": {
    "name": "ipython",
    "version": 3
   },
   "file_extension": ".py",
   "mimetype": "text/x-python",
   "name": "python",
   "nbconvert_exporter": "python",
   "pygments_lexer": "ipython3",
   "version": "3.12.4"
  }
 },
 "nbformat": 4,
 "nbformat_minor": 5
}
