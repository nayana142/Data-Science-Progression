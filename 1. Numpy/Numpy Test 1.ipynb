{
 "cells": [
  {
   "cell_type": "markdown",
   "id": "3c1097b4-4389-4466-95e3-adf1c5582b9d",
   "metadata": {},
   "source": [
    "# TASK ONE"
   ]
  },
  {
   "cell_type": "code",
   "execution_count": 1,
   "id": "a24b218b-8201-4b1a-a474-5972b104405d",
   "metadata": {},
   "outputs": [],
   "source": [
    "import numpy as np"
   ]
  },
  {
   "cell_type": "markdown",
   "id": "6057f96e",
   "metadata": {
    "jp-MarkdownHeadingCollapsed": true
   },
   "source": [
    "# Question 1 \n",
    "1.Explain the difference between 1-dimensional, 2-dimensional, and 3-dimensional arrays.\n",
    "\n"
   ]
  },
  {
   "cell_type": "markdown",
   "id": "c2ffd979",
   "metadata": {},
   "source": [
    "* 1D is a collection of zero dimension \n",
    "* An array that has 1-D arrays as its elements is called a 2-D array.\n",
    "* An array that has 2-D arrays (matrices) as its elements is called 3-D array."
   ]
  },
  {
   "cell_type": "markdown",
   "id": "d2870a83",
   "metadata": {},
   "source": [
    "# Question 2\n",
    "2.Explain the difference between array and list?\n"
   ]
  },
  {
   "cell_type": "markdown",
   "id": "59c3ba1b",
   "metadata": {},
   "source": [
    "* An array is a collection of items stored at contiguous memory locations.\n",
    "* The idea is to store multiple items of the same type together. \n",
    "* arrays store homogeneous data whereas lists may contain heterogeneous data .\n",
    "* item wise operations are possible in arrays."
   ]
  },
  {
   "cell_type": "markdown",
   "id": "42568fae",
   "metadata": {},
   "source": [
    "# Question 3\n",
    "3.How do you access elements in a 1-dimensional NumPy array? Provide examples.\n"
   ]
  },
  {
   "cell_type": "code",
   "execution_count": 10,
   "id": "679eb575-6617-4fa0-85e1-6fb1719a6156",
   "metadata": {},
   "outputs": [
    {
     "name": "stdout",
     "output_type": "stream",
     "text": [
      "44\n"
     ]
    }
   ],
   "source": [
    "\n",
    "give an array and print the index number\n",
    "a=([12,3,3,44,5])\n",
    "print(a[3])"
   ]
  },
  {
   "cell_type": "markdown",
   "id": "55399aa3",
   "metadata": {},
   "source": [
    "# Question 4\n",
    "4.How do you create a 1D NumPy array with values from 0 to 20?\n"
   ]
  },
  {
   "cell_type": "code",
   "execution_count": 18,
   "id": "bf614fe8-dca2-4d95-b4ce-78ca8d3f0d0f",
   "metadata": {},
   "outputs": [
    {
     "data": {
      "text/plain": [
       "array([ 0,  1,  2,  3,  4,  5,  6,  7,  8,  9, 10, 11, 12, 13, 14, 15, 16,\n",
       "       17, 18, 19])"
      ]
     },
     "execution_count": 18,
     "metadata": {},
     "output_type": "execute_result"
    }
   ],
   "source": [
    "import numpy as np\n",
    "# use arange() function\n",
    "np.arange(0,20)"
   ]
  },
  {
   "cell_type": "markdown",
   "id": "62621935",
   "metadata": {},
   "source": [
    "# Question 5\n",
    "5.Given a 1D array arr = np.array([1, 2, 3, 4, 5]), how do you reshape it into a 2x3 array? What error do you get?\n"
   ]
  },
  {
   "cell_type": "code",
   "execution_count": 24,
   "id": "a4625ce9-036a-4d84-8870-4f18f4c25baa",
   "metadata": {},
   "outputs": [
    {
     "ename": "ValueError",
     "evalue": "cannot reshape array of size 5 into shape (2,3)",
     "output_type": "error",
     "traceback": [
      "\u001b[1;31m---------------------------------------------------------------------------\u001b[0m",
      "\u001b[1;31mValueError\u001b[0m                                Traceback (most recent call last)",
      "Cell \u001b[1;32mIn[24], line 3\u001b[0m\n\u001b[0;32m      1\u001b[0m \u001b[38;5;66;03m#Question 5\u001b[39;00m\n\u001b[0;32m      2\u001b[0m a\u001b[38;5;241m=\u001b[39mnp\u001b[38;5;241m.\u001b[39marray([\u001b[38;5;241m1\u001b[39m,\u001b[38;5;241m2\u001b[39m,\u001b[38;5;241m3\u001b[39m,\u001b[38;5;241m4\u001b[39m,\u001b[38;5;241m5\u001b[39m])\n\u001b[1;32m----> 3\u001b[0m a\u001b[38;5;241m.\u001b[39mreshape(\u001b[38;5;241m2\u001b[39m,\u001b[38;5;241m3\u001b[39m)\n",
      "\u001b[1;31mValueError\u001b[0m: cannot reshape array of size 5 into shape (2,3)"
     ]
    }
   ],
   "source": [
    "a=np.array([1,2,3,4,5])\n",
    "a.reshape(2,3)"
   ]
  },
  {
   "cell_type": "markdown",
   "id": "15893109",
   "metadata": {},
   "source": [
    "* The error printed would be that the array cannot be reshaped into (2,3) ."
   ]
  },
  {
   "cell_type": "markdown",
   "id": "6be4ddc9",
   "metadata": {},
   "source": [
    "# Question 6\n",
    "6.How can you access the third element of a 1D array arr = np.array([10, 20, 30, 40, 50])?\n"
   ]
  },
  {
   "cell_type": "code",
   "execution_count": 28,
   "id": "e4f24a3d-ec3f-487f-b6ac-159ad2b8d552",
   "metadata": {},
   "outputs": [
    {
     "name": "stdout",
     "output_type": "stream",
     "text": [
      "30\n"
     ]
    }
   ],
   "source": [
    "arr=np.array([10,20,30,40,50])\n",
    "print (arr[2])"
   ]
  },
  {
   "cell_type": "markdown",
   "id": "b59a9c50",
   "metadata": {},
   "source": [
    "# Question 7\n",
    "7.How do you access the element at position (1, 2, 2) in array?"
   ]
  },
  {
   "cell_type": "code",
   "execution_count": 15,
   "id": "406227d6-95fd-400a-8dd9-6d01811420ea",
   "metadata": {},
   "outputs": [
    {
     "name": "stdout",
     "output_type": "stream",
     "text": [
      "4\n"
     ]
    }
   ],
   "source": [
    "a=np.array([[[1,2,3],[5,4,6],[6,2,1]],[[4,3,5],[7,5,6],[2,1,4]],[[8,9,0],[3,4,5],[5,7,9]]])\n",
    "print (a[1,2,2])"
   ]
  },
  {
   "cell_type": "markdown",
   "id": "feb9ba8a",
   "metadata": {},
   "source": [
    "# Question 8\n",
    "8.How do you find the number of dimensions of a NumPy array arr = np.array([[1, 2, 3], [4, 5, 6]])?\n"
   ]
  },
  {
   "cell_type": "code",
   "execution_count": 16,
   "id": "8dd1d293-e97d-4e4f-9ba7-614cdc620b7b",
   "metadata": {},
   "outputs": [
    {
     "data": {
      "text/plain": [
       "2"
      ]
     },
     "execution_count": 16,
     "metadata": {},
     "output_type": "execute_result"
    }
   ],
   "source": [
    "a=np.array([[1,2,3],[4,5,6]])\n",
    "a.ndim"
   ]
  },
  {
   "cell_type": "markdown",
   "id": "aa1077a5",
   "metadata": {},
   "source": [
    "# Question 9\n",
    "9.How do you access the element in the second row and third column of array?\n"
   ]
  },
  {
   "cell_type": "code",
   "execution_count": 18,
   "id": "eace8540-134a-4c09-b682-eabf235357ed",
   "metadata": {},
   "outputs": [
    {
     "name": "stdout",
     "output_type": "stream",
     "text": [
      "5\n"
     ]
    }
   ],
   "source": [
    "arr=np.array([[1,2,3],[9,7,5]])\n",
    "print(arr[1,2])"
   ]
  },
  {
   "cell_type": "markdown",
   "id": "3fdbc6c6",
   "metadata": {},
   "source": [
    "# Question 10\n",
    "10. Create an array with 6 dimensions using a 2D vector with values [1,2,3,4],[5,6,7,8] and verify that last dimension has value 4.\n"
   ]
  },
  {
   "cell_type": "code",
   "execution_count": 20,
   "id": "e38fe219",
   "metadata": {},
   "outputs": [
    {
     "name": "stdout",
     "output_type": "stream",
     "text": [
      "[[[[[[1 2 3 4]\n",
      "     [5 6 7 8]]]]]]\n",
      "(1, 1, 1, 1, 2, 4)\n"
     ]
    }
   ],
   "source": [
    "arr=np.array([[1,2,3,4],[5,6,7,8]], ndmin=6)\n",
    "print(arr)\n",
    "print(arr.shape)"
   ]
  },
  {
   "cell_type": "markdown",
   "id": "7160c0e5",
   "metadata": {},
   "source": [
    "# Question 11\n",
    "11. How do you modify the last element of array to be 100?\n"
   ]
  },
  {
   "cell_type": "code",
   "execution_count": 21,
   "id": "cbbe2513-ec78-4da9-aedf-d0b188133d3f",
   "metadata": {},
   "outputs": [
    {
     "data": {
      "text/plain": [
       "array([  1,   2,   3,   4, 100])"
      ]
     },
     "execution_count": 21,
     "metadata": {},
     "output_type": "execute_result"
    }
   ],
   "source": [
    "arr=np.array([1,2,3,4,5])\n",
    "arr[-1]=100\n",
    "arr\n"
   ]
  },
  {
   "cell_type": "markdown",
   "id": "2c74a915",
   "metadata": {},
   "source": [
    "# Question 12\n",
    "12. Extract all even numbers from the array a = np.array([1, 2, 3, 4, 5, 6, 7, 8, 9]).\n"
   ]
  },
  {
   "cell_type": "code",
   "execution_count": 23,
   "id": "d37d5273",
   "metadata": {},
   "outputs": [
    {
     "data": {
      "text/plain": [
       "array([2, 4, 6, 8])"
      ]
     },
     "execution_count": 23,
     "metadata": {},
     "output_type": "execute_result"
    }
   ],
   "source": [
    "arr1=np.array([1,2,3,4,5,6,7,8,9])\n",
    "arr_2=arr1%2==0\n",
    "arr1[arr_2]"
   ]
  },
  {
   "cell_type": "code",
   "execution_count": null,
   "id": "a2c17517",
   "metadata": {},
   "outputs": [],
   "source": [
    "# Question 13\n",
    "13. Extract the third element from the array a = np.array([1, 2, 3, 4, 5])\n"
   ]
  },
  {
   "cell_type": "code",
   "execution_count": 102,
   "id": "2ca814d3-f3f2-45f8-8dec-3c6399fff240",
   "metadata": {},
   "outputs": [
    {
     "name": "stdout",
     "output_type": "stream",
     "text": [
      "3\n"
     ]
    }
   ],
   "source": [
    "\n",
    "a=np.array([1,2,3,4,5])\n",
    "print(a[2])"
   ]
  },
  {
   "cell_type": "markdown",
   "id": "1ba33a23",
   "metadata": {},
   "source": [
    "# Question 14\n",
    "14. Given the array a = np.array([1, 2, 3, 4, 5]) and b = np.array([6, 7, 8, 9, 10]), use np.where to replace elements in a that are less than 3 with -3, then  horizontally stack a and b.\n"
   ]
  },
  {
   "cell_type": "code",
   "execution_count": 11,
   "id": "2068c247-3c1b-4571-96d9-583d08242a8a",
   "metadata": {},
   "outputs": [
    {
     "name": "stdout",
     "output_type": "stream",
     "text": [
      "[-3 -3  3  4  5]\n"
     ]
    },
    {
     "data": {
      "text/plain": [
       "array([ 1,  2,  3,  4,  5,  6,  7,  8,  9, 10])"
      ]
     },
     "execution_count": 11,
     "metadata": {},
     "output_type": "execute_result"
    }
   ],
   "source": [
    "import numpy as np\n",
    "a=np.array([1,2,3,4,5])\n",
    "b=np.array([6,7,8,9,10])\n",
    "c=np.where (a<3,-3,a)\n",
    "print(c)\n",
    "np.hstack((a,b))"
   ]
  },
  {
   "cell_type": "markdown",
   "id": "adc07f8c",
   "metadata": {},
   "source": [
    "# Question 15\n",
    "15.Create an array using np.arange from 0 to 10 with a step of 0.5. Then, use a filter to find all values that are greater than 5. What are the resulting elements?\n"
   ]
  },
  {
   "cell_type": "code",
   "execution_count": 9,
   "id": "d163b252-7d40-40eb-bef7-3560b4dfa41d",
   "metadata": {},
   "outputs": [
    {
     "name": "stdout",
     "output_type": "stream",
     "text": [
      "[0.  0.5 1.  1.5 2.  2.5 3.  3.5 4.  4.5 5.  5.5 6.  6.5 7.  7.5 8.  8.5\n",
      " 9.  9.5]\n"
     ]
    },
    {
     "data": {
      "text/plain": [
       "array([5.5, 6. , 6.5, 7. , 7.5, 8. , 8.5, 9. , 9.5])"
      ]
     },
     "execution_count": 9,
     "metadata": {},
     "output_type": "execute_result"
    }
   ],
   "source": [
    "a=np.arange(0,10,0.5)\n",
    "print(a)\n",
    "b=[]\n",
    "for i in a:\n",
    "    if i>5:\n",
    "        b.append(True)\n",
    "    else:\n",
    "        b.append(False)\n",
    "c=a[b]\n",
    "c"
   ]
  },
  {
   "cell_type": "code",
   "execution_count": null,
   "id": "3eed8308",
   "metadata": {},
   "outputs": [],
   "source": []
  }
 ],
 "metadata": {
  "kernelspec": {
   "display_name": "Python 3 (ipykernel)",
   "language": "python",
   "name": "python3"
  },
  "language_info": {
   "codemirror_mode": {
    "name": "ipython",
    "version": 3
   },
   "file_extension": ".py",
   "mimetype": "text/x-python",
   "name": "python",
   "nbconvert_exporter": "python",
   "pygments_lexer": "ipython3",
   "version": "3.10.9"
  }
 },
 "nbformat": 4,
 "nbformat_minor": 5
}
