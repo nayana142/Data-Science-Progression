{
 "cells": [
  {
   "cell_type": "code",
   "execution_count": 5,
   "id": "5b38221a-d21b-42d2-ae66-c543343d6325",
   "metadata": {},
   "outputs": [],
   "source": [
    "\n"
   ]
  },
  {
   "cell_type": "markdown",
   "id": "44a67d69",
   "metadata": {},
   "source": [
    "# Question 1\n",
    "1.Create a 3-D array of shape (2, 3, 4) with random integers between 10 and 50.\n"
   ]
  },
  {
   "cell_type": "code",
   "execution_count": 6,
   "id": "29ff1b79",
   "metadata": {},
   "outputs": [
    {
     "name": "stdout",
     "output_type": "stream",
     "text": [
      "[13 26 21 13 15 19 48 49 18 41 41 21 17 25 29 31 27 34 26 33 30 15 10 42]\n"
     ]
    },
    {
     "data": {
      "text/plain": [
       "array([[[13, 26, 21, 13],\n",
       "        [15, 19, 48, 49],\n",
       "        [18, 41, 41, 21]],\n",
       "\n",
       "       [[17, 25, 29, 31],\n",
       "        [27, 34, 26, 33],\n",
       "        [30, 15, 10, 42]]])"
      ]
     },
     "execution_count": 6,
     "metadata": {},
     "output_type": "execute_result"
    }
   ],
   "source": [
    "import numpy as np\n",
    "arr=np.random.randint (10,50,24)\n",
    "print(arr)\n",
    "arr.reshape(2,3,4)"
   ]
  },
  {
   "cell_type": "markdown",
   "id": "affd2a8e",
   "metadata": {},
   "source": [
    "# Question 2\n",
    "2.Given two arrays, a = np.array([1, 2, 3]) and b = np.array([4, 5, 6]), perform element-wise addition, subtraction, multiplication, and division."
   ]
  },
  {
   "cell_type": "code",
   "execution_count": 7,
   "id": "e55804c9-25be-409e-b418-12c7780a4041",
   "metadata": {},
   "outputs": [
    {
     "name": "stdout",
     "output_type": "stream",
     "text": [
      "[5 7 9]\n",
      "[-3 -3 -3]\n",
      "[ 4 10 18]\n",
      "[0.25 0.4  0.5 ]\n"
     ]
    }
   ],
   "source": [
    "a=np.array([1,2,3])\n",
    "b=np.array([4,5,6])\n",
    "print(np.add (a,b))\n",
    "print(np.subtract (a,b))\n",
    "print(np.multiply(a,b))\n",
    "print(np.divide(a,b))"
   ]
  },
  {
   "cell_type": "markdown",
   "id": "3e576c84",
   "metadata": {},
   "source": [
    "# Question 3\n",
    "3.Create a 2-D array of shape (3, 3) with all elements as 1."
   ]
  },
  {
   "cell_type": "code",
   "execution_count": 8,
   "id": "799b6ac9-b195-4d1a-9793-cb1c53bf2733",
   "metadata": {},
   "outputs": [
    {
     "data": {
      "text/plain": [
       "array([[1, 1, 1],\n",
       "       [1, 1, 1],\n",
       "       [1, 1, 1]])"
      ]
     },
     "execution_count": 8,
     "metadata": {},
     "output_type": "execute_result"
    }
   ],
   "source": [
    "\n",
    "a=np.ones((3,3),dtype='int')\n",
    "a"
   ]
  },
  {
   "cell_type": "markdown",
   "id": "4af24bb7",
   "metadata": {},
   "source": [
    "# Question 4\n",
    "4.Reshape the array a = np.array([1, 2, 3, 4, 5, 6, 7, 8, 9]) into a 3x3 matrix. Flatten the 3x3 matrix back into a 1-D array.\n"
   ]
  },
  {
   "cell_type": "code",
   "execution_count": 9,
   "id": "44b909d8",
   "metadata": {},
   "outputs": [
    {
     "data": {
      "text/plain": [
       "array([1, 2, 3, 4, 5, 6, 7, 8, 9])"
      ]
     },
     "execution_count": 9,
     "metadata": {},
     "output_type": "execute_result"
    }
   ],
   "source": [
    "a=np.array([1,2,3,4,5,6,7,8,9])\n",
    "a.reshape(3,3)\n",
    "a.reshape(-1)"
   ]
  },
  {
   "cell_type": "code",
   "execution_count": null,
   "id": "25686122",
   "metadata": {},
   "outputs": [],
   "source": []
  },
  {
   "cell_type": "markdown",
   "id": "1cd97f94",
   "metadata": {},
   "source": [
    "# Question 5\n",
    "5.Stack two arrays vertically and horizontally: a = np.array([[1, 2], [3, 4]]) and b = np.array([[5, 6], [7, 8]]).\n"
   ]
  },
  {
   "cell_type": "code",
   "execution_count": 10,
   "id": "21fe03f0-caf0-4056-8e81-271d79427244",
   "metadata": {},
   "outputs": [
    {
     "data": {
      "text/plain": [
       "(array([[1, 2],\n",
       "        [3, 4],\n",
       "        [5, 6],\n",
       "        [7, 8]]),\n",
       " array([[1, 2, 5, 6],\n",
       "        [3, 4, 7, 8]]))"
      ]
     },
     "execution_count": 10,
     "metadata": {},
     "output_type": "execute_result"
    }
   ],
   "source": [
    "a=np.array([[1,2],[3,4]])\n",
    "b=np.array([[5,6],[7,8]])\n",
    "c=np.vstack ((a,b))\n",
    "d=np.hstack((a,b))\n",
    "c,d"
   ]
  },
  {
   "cell_type": "markdown",
   "id": "eb0f3ae3",
   "metadata": {},
   "source": [
    "# question 6\n",
    "6.Split the array a = np.array([1, 2, 3, 4, 5, 6, 7, 8, 9, 10]) into two arrays at the 5th element.\n"
   ]
  },
  {
   "cell_type": "code",
   "execution_count": 11,
   "id": "dee70d7a-df04-404f-875d-16c741ef5c1a",
   "metadata": {},
   "outputs": [
    {
     "data": {
      "text/plain": [
       "[array([1, 2, 3, 4, 5]), array([ 6,  7,  8,  9, 10])]"
      ]
     },
     "execution_count": 11,
     "metadata": {},
     "output_type": "execute_result"
    }
   ],
   "source": [
    "a=np.array([1,2,3,4,5,6,7,8,9,10])\n",
    "b=np.array_split(a,2)\n",
    "b"
   ]
  },
  {
   "cell_type": "markdown",
   "id": "5e9d80fc",
   "metadata": {},
   "source": [
    "# Question 7\n",
    "7.Extract the second row from the 2-D array a = np. array([[1, 2, 3], [4, 5, 6], [7, 8, 9]]).\n"
   ]
  },
  {
   "cell_type": "code",
   "execution_count": 12,
   "id": "72c95a4e-1aa8-4a02-880b-280df88dda27",
   "metadata": {},
   "outputs": [
    {
     "data": {
      "text/plain": [
       "array([4, 5, 6])"
      ]
     },
     "execution_count": 12,
     "metadata": {},
     "output_type": "execute_result"
    }
   ],
   "source": [
    "a=np.array([[1,2,3],[4,5,6],[7,8,9]])\n",
    "b=a[1]\n",
    "b"
   ]
  },
  {
   "cell_type": "markdown",
   "id": "1e1756ca",
   "metadata": {},
   "source": [
    "# Question 8\n",
    "8.Extract the elements at indices [0, 2, 4] from the array a = np.array([10, 20, 30, 40, 50]).\n"
   ]
  },
  {
   "cell_type": "code",
   "execution_count": 13,
   "id": "4422a3f9-aa79-4d81-8d6d-eca140b798a6",
   "metadata": {},
   "outputs": [
    {
     "name": "stdout",
     "output_type": "stream",
     "text": [
      "[10 20 30 40 50]\n"
     ]
    },
    {
     "data": {
      "text/plain": [
       "array([10, 30, 50])"
      ]
     },
     "execution_count": 13,
     "metadata": {},
     "output_type": "execute_result"
    }
   ],
   "source": [
    "import numpy as np\n",
    "a=np.array([10,20,30,40,50])\n",
    "print(a)\n",
    "extracted=a[[0,2,4]]\n",
    "extracted\n",
    "a[0:5:2]"
   ]
  },
  {
   "cell_type": "markdown",
   "id": "e0118af1",
   "metadata": {},
   "source": [
    "# Question 9\n",
    "9. Calculate the sum, mean and standard deviation of the array a =    np.array([1, 2, 3, 4, 5])."
   ]
  },
  {
   "cell_type": "code",
   "execution_count": 17,
   "id": "45ffa81f-0c52-46d7-ab59-c5d4aa2b586c",
   "metadata": {},
   "outputs": [
    {
     "name": "stdout",
     "output_type": "stream",
     "text": [
      "3.0\n",
      "15\n",
      "1.4142135623730951\n"
     ]
    }
   ],
   "source": [
    "a=np.array([1,2,3,4,5])\n",
    "print(np.mean(a))\n",
    "print(np.sum(a))\n",
    "print(np.std(a))"
   ]
  },
  {
   "cell_type": "markdown",
   "id": "2b144ef2",
   "metadata": {},
   "source": [
    "# Question 10\n",
    "10. Find the maximum and minimum values in the 2-D array a = np.array([[1, 2, 3], [4, 5, 6], [7, 8, 9]]) along both axes.\n"
   ]
  },
  {
   "cell_type": "code",
   "execution_count": 19,
   "id": "d3199459-048d-44d5-a009-86273f6f68a0",
   "metadata": {},
   "outputs": [
    {
     "name": "stdout",
     "output_type": "stream",
     "text": [
      "[7 8 9]\n",
      "[3 6 9]\n",
      "[1 2 3]\n",
      "[1 4 7]\n"
     ]
    }
   ],
   "source": [
    "a=np.array([[1,2,3],[4,5,6],[7,8,9]])\n",
    "c=np.max(a,axis=0)\n",
    "b=np.max(a,axis=1)\n",
    "d=np.min(a,axis=0)\n",
    "e=np.min(a,axis=1)\n",
    "print(c)\n",
    "print(b)\n",
    "print(d)\n",
    "print(e)"
   ]
  },
  {
   "cell_type": "markdown",
   "id": "df219f92",
   "metadata": {},
   "source": [
    "# Question 11\n",
    "11. Given the 2-D arrays a = np.array([[3, 1, 4], [1, 5, 9]]) and b = np.array([[2, 6, 5], [7, 8, 0]]), sort each array, then horizontally stack the sorted arrays.\n"
   ]
  },
  {
   "cell_type": "code",
   "execution_count": 20,
   "id": "9eccd01f-bc7a-4d05-8264-4d166f5e57b3",
   "metadata": {},
   "outputs": [
    {
     "name": "stdout",
     "output_type": "stream",
     "text": [
      "[[3 1 4 2 6 5]\n",
      " [1 5 9 7 8 0]]\n"
     ]
    }
   ],
   "source": [
    "a=np.array([[3,1,4],[1,5,9]])\n",
    "b=np.array([[2,6,5],[7,8,0]])\n",
    "c=np.sort(a)\n",
    "d=np.sort(b)\n",
    "print(np.hstack((a,b)))"
   ]
  },
  {
   "cell_type": "markdown",
   "id": "37459f37",
   "metadata": {},
   "source": [
    "# Question 12\n",
    "12. Given the array a = np.array([1, 2, 3, 4, 5, 6, 7, 8, 9, 10]), use np.where to find the indices of elements that are either less than 3 or greater than 7."
   ]
  },
  {
   "cell_type": "code",
   "execution_count": 21,
   "id": "0959dfed-75c2-46b0-987d-9d073f07cc15",
   "metadata": {},
   "outputs": [
    {
     "name": "stdout",
     "output_type": "stream",
     "text": [
      "(array([0, 1], dtype=int64),)\n",
      "(array([7, 8, 9], dtype=int64),)\n"
     ]
    }
   ],
   "source": [
    "a=np.array([1,2,3,4,5,6,7,8,9,10])\n",
    "print(np.where(a<3))\n",
    "print(np.where(a>7))"
   ]
  },
  {
   "cell_type": "markdown",
   "id": "e868d0a4",
   "metadata": {},
   "source": [
    "# Question 13\n",
    "13. Given a 2-D array representing daily temperatures of two cities over a   week: a = np.array([[30, 32, 31, 29, 28, 30, 31], [25, 26, 27, 28, 29, 30, 31]]), use np.where to find the days where the temperature was above 30 degrees in both cities. Then, horizontally stack the temperature data for both cities.\n"
   ]
  },
  {
   "cell_type": "code",
   "execution_count": 22,
   "id": "5c022a7b",
   "metadata": {},
   "outputs": [
    {
     "data": {
      "text/plain": [
       "array([31, 31])"
      ]
     },
     "execution_count": 22,
     "metadata": {},
     "output_type": "execute_result"
    }
   ],
   "source": [
    "import numpy as np\n",
    "\n",
    "a = np.array([[30, 32, 31, 29, 28, 30, 31], \n",
    "              [25, 26, 27, 28, 29, 30, 31]])\n",
    "\n",
    "mask = (a[0] > 30) & (a[1] > 30)\n",
    "mask\n",
    "\n",
    "days_above_30 = np.where(mask)\n",
    "days_above_30\n",
    "\n",
    "filtered_a = a[:, mask]\n",
    "filtered_a\n",
    "\n",
    "stacked_data = np.hstack(filtered_a)\n",
    "stacked_data"
   ]
  },
  {
   "cell_type": "markdown",
   "id": "27d2ac41",
   "metadata": {},
   "source": [
    "# Question 14\n",
    "14. Given two arrays representing daily closing prices of two stocks over a month: a = np.array([[100, 101, 102, 103, 104], [200, 201, 202, 203, 204]]), calculate the daily returns (percentage change), replace negative returns with 0 using np.where, and vertically stack the processed data with the original prices."
   ]
  },
  {
   "cell_type": "code",
   "execution_count": 25,
   "id": "67afde0b-a919-4f0b-8646-1460e1237a2d",
   "metadata": {},
   "outputs": [],
   "source": [
    "import numpy as np\n",
    "\n",
    "# Define the arrays\n",
    "a = np.array([[100, 101, 102, 103, 104],\n",
    "              [200, 201, 202, 203, 204]])\n"
   ]
  },
  {
   "cell_type": "markdown",
   "id": "b9b20e73",
   "metadata": {},
   "source": [
    "#### Daily return for a day can be calculated as:\n",
    "\n",
    "Return= ((Price today-Price yesterday)/Price yesterday)×100\n"
   ]
  },
  {
   "cell_type": "code",
   "execution_count": 26,
   "id": "741e2cf9",
   "metadata": {},
   "outputs": [
    {
     "data": {
      "text/plain": [
       "array([[1.        , 0.99009901, 0.98039216, 0.97087379],\n",
       "       [0.5       , 0.49751244, 0.4950495 , 0.49261084]])"
      ]
     },
     "execution_count": 26,
     "metadata": {},
     "output_type": "execute_result"
    }
   ],
   "source": [
    "# Calculate daily returns\n",
    "daily_returns = np.diff(a, axis=1) / a[:, :-1] * 100\n",
    "daily_returns\n",
    "\n",
    "np.diff(a, axis=1) #computes the differences between consecutive elements along each row\n",
    "\n",
    "a[:, :-1] #The slice a[:, :-1] selects all rows (:) and all columns except the last one (:-1).\n",
    "\n",
    "# Replace negative returns with 0\n",
    "processed_returns = np.where(daily_returns < 0, 0, daily_returns)\n",
    "processed_returns\n"
   ]
  },
  {
   "cell_type": "code",
   "execution_count": 27,
   "id": "053f029c",
   "metadata": {},
   "outputs": [
    {
     "data": {
      "text/plain": [
       "array([[0.],\n",
       "       [0.]])"
      ]
     },
     "execution_count": 27,
     "metadata": {},
     "output_type": "execute_result"
    }
   ],
   "source": [
    "# Pad the returns arrays with a leading zero\n",
    "# creates a 2x1 array of zeros \n",
    "b=np.zeros((a.shape[0], 1))\n",
    "b"
   ]
  },
  {
   "cell_type": "code",
   "execution_count": 28,
   "id": "8030bc4c",
   "metadata": {},
   "outputs": [
    {
     "data": {
      "text/plain": [
       "array([[0.        , 1.        , 0.99009901, 0.98039216, 0.97087379],\n",
       "       [0.        , 0.5       , 0.49751244, 0.4950495 , 0.49261084]])"
      ]
     },
     "execution_count": 28,
     "metadata": {},
     "output_type": "execute_result"
    }
   ],
   "source": [
    "padded_processed_returns = np.hstack((b,processed_returns))\n",
    "padded_processed_returns\n"
   ]
  },
  {
   "cell_type": "code",
   "execution_count": 29,
   "id": "d898d69d",
   "metadata": {},
   "outputs": [
    {
     "data": {
      "text/plain": [
       "array([[100.        , 101.        , 102.        , 103.        ,\n",
       "        104.        ],\n",
       "       [200.        , 201.        , 202.        , 203.        ,\n",
       "        204.        ],\n",
       "       [  0.        ,   1.        ,   0.99009901,   0.98039216,\n",
       "          0.97087379],\n",
       "       [  0.        ,   0.5       ,   0.49751244,   0.4950495 ,\n",
       "          0.49261084]])"
      ]
     },
     "execution_count": 29,
     "metadata": {},
     "output_type": "execute_result"
    }
   ],
   "source": [
    "# Vertically stack the original prices with the processed returns\n",
    "stacked_data = np.vstack((a, padded_processed_returns))\n",
    "stacked_data\n"
   ]
  },
  {
   "cell_type": "markdown",
   "id": "c5f96944",
   "metadata": {},
   "source": [
    "# Question 15\n",
    "15. Create a filter array that will return only divisible by 3 elements from the original array"
   ]
  },
  {
   "cell_type": "code",
   "execution_count": 24,
   "id": "607ba085-3599-43ef-80ca-f93bc5342a29",
   "metadata": {},
   "outputs": [
    {
     "data": {
      "text/plain": [
       "array([ 3,  6,  9, 12, 15, 18, 21, 24, 27])"
      ]
     },
     "execution_count": 24,
     "metadata": {},
     "output_type": "execute_result"
    }
   ],
   "source": [
    "a=np.arange(1,30)\n",
    "arr=[]\n",
    "for i in a:\n",
    "    if i%3==0:\n",
    "        arr.append(True)\n",
    "    else:\n",
    "        arr.append (False)\n",
    "array=a[arr]\n",
    "array"
   ]
  },
  {
   "cell_type": "code",
   "execution_count": null,
   "id": "6223d9e0-c764-4748-98f3-400808a98ac5",
   "metadata": {},
   "outputs": [],
   "source": []
  }
 ],
 "metadata": {
  "kernelspec": {
   "display_name": "Python 3 (ipykernel)",
   "language": "python",
   "name": "python3"
  },
  "language_info": {
   "codemirror_mode": {
    "name": "ipython",
    "version": 3
   },
   "file_extension": ".py",
   "mimetype": "text/x-python",
   "name": "python",
   "nbconvert_exporter": "python",
   "pygments_lexer": "ipython3",
   "version": "3.10.9"
  }
 },
 "nbformat": 4,
 "nbformat_minor": 5
}
